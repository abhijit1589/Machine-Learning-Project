{
 "cells": [
  {
   "cell_type": "markdown",
   "id": "0a91dab3-ba64-4fa2-81f6-56d1cb30753c",
   "metadata": {},
   "source": [
    "# Data Loading"
   ]
  },
  {
   "cell_type": "code",
   "execution_count": 2,
   "id": "90c3269a-b506-49a9-8d52-922a28d84bfc",
   "metadata": {},
   "outputs": [],
   "source": [
    "# Import necessary libraries for data analysis and visualization\n",
    "\n",
    "import numpy as np \n",
    "import pandas as pd  \n",
    "import scipy.stats as stats  \n",
    "import warnings  \n",
    "\n",
    "# Suppress warnings to avoid cluttering the output with warning messages\n",
    "warnings.filterwarnings('ignore')\n",
    "\n",
    "import matplotlib.pyplot as plt\n",
    "import seaborn as sns \n",
    "\n",
    "# Import variance_inflation_factor from Statsmodels for checking multicollinearity in regression models\n",
    "from statsmodels.stats.outliers_influence import variance_inflation_factor\n",
    "\n",
    "# Set Pandas display options for better data frame readability\n",
    "\n",
    "pd.set_option('display.max_columns', None) \n",
    "pd.set_option('display.max_rows', None)\n",
    "pd.set_option('display.width', None)\n"
   ]
  },
  {
   "cell_type": "code",
   "execution_count": 3,
   "id": "0c93c1da-7f51-4f5f-98ab-86b25cbbe2b1",
   "metadata": {},
   "outputs": [
    {
     "name": "stdout",
     "output_type": "stream",
     "text": [
      "Requirement already satisfied: category_encoders in c:\\users\\dell\\anaconda3\\lib\\site-packages (2.6.3)\n",
      "Requirement already satisfied: numpy>=1.14.0 in c:\\users\\dell\\anaconda3\\lib\\site-packages (from category_encoders) (1.26.4)\n",
      "Requirement already satisfied: scikit-learn>=0.20.0 in c:\\users\\dell\\anaconda3\\lib\\site-packages (from category_encoders) (1.2.2)\n",
      "Requirement already satisfied: scipy>=1.0.0 in c:\\users\\dell\\anaconda3\\lib\\site-packages (from category_encoders) (1.11.4)\n",
      "Requirement already satisfied: statsmodels>=0.9.0 in c:\\users\\dell\\anaconda3\\lib\\site-packages (from category_encoders) (0.14.0)\n",
      "Requirement already satisfied: pandas>=1.0.5 in c:\\users\\dell\\anaconda3\\lib\\site-packages (from category_encoders) (2.1.4)\n",
      "Requirement already satisfied: patsy>=0.5.1 in c:\\users\\dell\\anaconda3\\lib\\site-packages (from category_encoders) (0.5.3)\n",
      "Requirement already satisfied: python-dateutil>=2.8.2 in c:\\users\\dell\\anaconda3\\lib\\site-packages (from pandas>=1.0.5->category_encoders) (2.8.2)\n",
      "Requirement already satisfied: pytz>=2020.1 in c:\\users\\dell\\anaconda3\\lib\\site-packages (from pandas>=1.0.5->category_encoders) (2023.3.post1)\n",
      "Requirement already satisfied: tzdata>=2022.1 in c:\\users\\dell\\anaconda3\\lib\\site-packages (from pandas>=1.0.5->category_encoders) (2023.3)\n",
      "Requirement already satisfied: six in c:\\users\\dell\\anaconda3\\lib\\site-packages (from patsy>=0.5.1->category_encoders) (1.16.0)\n",
      "Requirement already satisfied: joblib>=1.1.1 in c:\\users\\dell\\anaconda3\\lib\\site-packages (from scikit-learn>=0.20.0->category_encoders) (1.2.0)\n",
      "Requirement already satisfied: threadpoolctl>=2.0.0 in c:\\users\\dell\\anaconda3\\lib\\site-packages (from scikit-learn>=0.20.0->category_encoders) (2.2.0)\n",
      "Requirement already satisfied: packaging>=21.3 in c:\\users\\dell\\anaconda3\\lib\\site-packages (from statsmodels>=0.9.0->category_encoders) (23.1)\n",
      "Note: you may need to restart the kernel to use updated packages.\n"
     ]
    }
   ],
   "source": [
    "pip install category_encoders\n"
   ]
  },
  {
   "cell_type": "code",
   "execution_count": 4,
   "id": "2e613d5a-7690-4432-a8f4-1577ec0b6223",
   "metadata": {},
   "outputs": [],
   "source": [
    "campaign_table=pd.read_csv(\"C:\\\\Users\\\\dell\\\\Desktop\\\\projectcoupon\\\\campaign_table.csv\")\n",
    "campaign_desc=pd.read_csv(\"C:\\\\Users\\\\dell\\\\Desktop\\\\projectcoupon\\\\campaign_desc.csv\")\n",
    "causal_data=pd.read_csv(\"C:\\\\Users\\\\dell\\\\Desktop\\\\projectcoupon\\\\causal_data.csv\")\n",
    "coupon=pd.read_csv(\"C:\\\\Users\\\\dell\\\\Desktop\\\\projectcoupon\\\\coupon.csv\")"
   ]
  },
  {
   "cell_type": "code",
   "execution_count": 6,
   "id": "9d870a28-e167-439a-a657-e38431647c1b",
   "metadata": {},
   "outputs": [],
   "source": [
    "coupon_redempt=pd.read_csv(\"C:\\\\Users\\\\dell\\\\Desktop\\\\projectcoupon\\\\coupon_redempt.csv\")\n",
    "hh_demographic=pd.read_csv(\"C:\\\\Users\\\\dell\\\\Desktop\\\\projectcoupon\\\\hh_demographic.csv\")\n",
    "product=pd.read_csv(\"C:\\\\Users\\\\dell\\\\Desktop\\\\projectcoupon\\\\product.csv\")\n",
    "transaction_data=pd.read_csv(\"C:\\\\Users\\\\dell\\\\Desktop\\\\projectcoupon\\\\transaction_data.csv\")\n",
    "t=['campaign_desc','campaign_table','causal_data','coupon','coupon_redempt','hh_demographic','product','transaction_data']"
   ]
  },
  {
   "cell_type": "markdown",
   "id": "ecda631b-75f5-474a-815c-28b3bd135e53",
   "metadata": {
    "jp-MarkdownHeadingCollapsed": true
   },
   "source": [
    "# Data Cleaning and processing"
   ]
  },
  {
   "cell_type": "markdown",
   "id": "d3cde5ff-2dcb-4fd1-9935-e142a47a1a6f",
   "metadata": {},
   "source": [
    "# Campaign_Table:"
   ]
  },
  {
   "cell_type": "code",
   "execution_count": 177,
   "id": "44bc1d50-4b3d-4f5c-b703-4f6c9bd2420e",
   "metadata": {},
   "outputs": [
    {
     "data": {
      "text/plain": [
       "DESCRIPTION      0\n",
       "household_key    0\n",
       "CAMPAIGN         0\n",
       "dtype: int64"
      ]
     },
     "execution_count": 177,
     "metadata": {},
     "output_type": "execute_result"
    }
   ],
   "source": [
    "campaign_table.isnull().sum()"
   ]
  },
  {
   "cell_type": "code",
   "execution_count": 7,
   "id": "c7734e28-0dd6-499d-a66b-31958fa1248e",
   "metadata": {},
   "outputs": [
    {
     "name": "stdout",
     "output_type": "stream",
     "text": [
      "<class 'pandas.core.frame.DataFrame'>\n",
      "RangeIndex: 7208 entries, 0 to 7207\n",
      "Data columns (total 3 columns):\n",
      " #   Column         Non-Null Count  Dtype \n",
      "---  ------         --------------  ----- \n",
      " 0   DESCRIPTION    7208 non-null   object\n",
      " 1   household_key  7208 non-null   int64 \n",
      " 2   CAMPAIGN       7208 non-null   int64 \n",
      "dtypes: int64(2), object(1)\n",
      "memory usage: 169.1+ KB\n"
     ]
    }
   ],
   "source": [
    "# Display concise summary of the DataFrame 'campaign_table'\n",
    "campaign_table.info()"
   ]
  },
  {
   "cell_type": "code",
   "execution_count": 173,
   "id": "dfa244d6-06f3-4e99-b17d-ff11bab1f3d0",
   "metadata": {},
   "outputs": [
    {
     "data": {
      "text/html": [
       "<div>\n",
       "<style scoped>\n",
       "    .dataframe tbody tr th:only-of-type {\n",
       "        vertical-align: middle;\n",
       "    }\n",
       "\n",
       "    .dataframe tbody tr th {\n",
       "        vertical-align: top;\n",
       "    }\n",
       "\n",
       "    .dataframe thead th {\n",
       "        text-align: right;\n",
       "    }\n",
       "</style>\n",
       "<table border=\"1\" class=\"dataframe\">\n",
       "  <thead>\n",
       "    <tr style=\"text-align: right;\">\n",
       "      <th></th>\n",
       "      <th>DESCRIPTION</th>\n",
       "      <th>household_key</th>\n",
       "      <th>CAMPAIGN</th>\n",
       "    </tr>\n",
       "  </thead>\n",
       "  <tbody>\n",
       "    <tr>\n",
       "      <th>0</th>\n",
       "      <td>TypeA</td>\n",
       "      <td>17</td>\n",
       "      <td>26</td>\n",
       "    </tr>\n",
       "    <tr>\n",
       "      <th>1</th>\n",
       "      <td>TypeA</td>\n",
       "      <td>27</td>\n",
       "      <td>26</td>\n",
       "    </tr>\n",
       "    <tr>\n",
       "      <th>2</th>\n",
       "      <td>TypeA</td>\n",
       "      <td>212</td>\n",
       "      <td>26</td>\n",
       "    </tr>\n",
       "    <tr>\n",
       "      <th>3</th>\n",
       "      <td>TypeA</td>\n",
       "      <td>208</td>\n",
       "      <td>26</td>\n",
       "    </tr>\n",
       "    <tr>\n",
       "      <th>4</th>\n",
       "      <td>TypeA</td>\n",
       "      <td>192</td>\n",
       "      <td>26</td>\n",
       "    </tr>\n",
       "  </tbody>\n",
       "</table>\n",
       "</div>"
      ],
      "text/plain": [
       "  DESCRIPTION  household_key  CAMPAIGN\n",
       "0       TypeA             17        26\n",
       "1       TypeA             27        26\n",
       "2       TypeA            212        26\n",
       "3       TypeA            208        26\n",
       "4       TypeA            192        26"
      ]
     },
     "execution_count": 173,
     "metadata": {},
     "output_type": "execute_result"
    }
   ],
   "source": [
    "campaign_table.head()"
   ]
  },
  {
   "cell_type": "code",
   "execution_count": 8,
   "id": "7337f4c8-26c7-4574-884f-e7e7ea18be77",
   "metadata": {},
   "outputs": [
    {
     "data": {
      "text/plain": [
       "array(['TypeA', 'TypeB', 'TypeC'], dtype=object)"
      ]
     },
     "execution_count": 8,
     "metadata": {},
     "output_type": "execute_result"
    }
   ],
   "source": [
    "# Display unique values in the 'DESCRIPTION' column of the DataFrame 'campaign_table'\n",
    "campaign_table['DESCRIPTION'].unique()"
   ]
  },
  {
   "cell_type": "code",
   "execution_count": 9,
   "id": "3316319e-fbea-4537-9535-0066f669fd54",
   "metadata": {},
   "outputs": [
    {
     "data": {
      "text/plain": [
       "array([  17,   27,  212, ..., 2386,  498,  369], dtype=int64)"
      ]
     },
     "execution_count": 9,
     "metadata": {},
     "output_type": "execute_result"
    }
   ],
   "source": [
    "# Display unique values in the 'household_key' column of the DataFrame 'campaign_table'\n",
    "campaign_table['household_key'].unique()"
   ]
  },
  {
   "cell_type": "code",
   "execution_count": 10,
   "id": "170c2e9a-e17c-4fe1-af78-54851bc9e9f0",
   "metadata": {},
   "outputs": [
    {
     "data": {
      "text/plain": [
       "array([26, 30,  8, 13, 18, 28, 29,  1,  2,  4,  5,  7,  9, 10, 11, 12, 16,\n",
       "       17, 19, 21, 22, 23, 25, 24, 27,  3, 14, 20,  6, 15], dtype=int64)"
      ]
     },
     "execution_count": 10,
     "metadata": {},
     "output_type": "execute_result"
    }
   ],
   "source": [
    "# Display unique values in the 'CAMPAIGN' column of the DataFrame 'campaign_table'\n",
    "campaign_table['CAMPAIGN'].unique()"
   ]
  },
  {
   "cell_type": "markdown",
   "id": "4f658858-b4c9-402e-b6c4-7b44dffaa5c0",
   "metadata": {},
   "source": [
    "# Campaign desc_Table:"
   ]
  },
  {
   "cell_type": "code",
   "execution_count": 178,
   "id": "d44aef55-a989-492b-bea6-9bfc4b3fe9a9",
   "metadata": {},
   "outputs": [
    {
     "data": {
      "text/plain": [
       "DESCRIPTION    0\n",
       "CAMPAIGN       0\n",
       "START_DAY      0\n",
       "END_DAY        0\n",
       "dtype: int64"
      ]
     },
     "execution_count": 178,
     "metadata": {},
     "output_type": "execute_result"
    }
   ],
   "source": [
    "campaign_desc.isnull().sum()"
   ]
  },
  {
   "cell_type": "code",
   "execution_count": 11,
   "id": "0b77f769-32a1-4464-9f45-b31e8c86af74",
   "metadata": {},
   "outputs": [
    {
     "name": "stdout",
     "output_type": "stream",
     "text": [
      "<class 'pandas.core.frame.DataFrame'>\n",
      "RangeIndex: 30 entries, 0 to 29\n",
      "Data columns (total 4 columns):\n",
      " #   Column       Non-Null Count  Dtype \n",
      "---  ------       --------------  ----- \n",
      " 0   DESCRIPTION  30 non-null     object\n",
      " 1   CAMPAIGN     30 non-null     int64 \n",
      " 2   START_DAY    30 non-null     int64 \n",
      " 3   END_DAY      30 non-null     int64 \n",
      "dtypes: int64(3), object(1)\n",
      "memory usage: 1.1+ KB\n"
     ]
    }
   ],
   "source": [
    "# Display concise summary of the DataFrame 'campaign_desc'\n",
    "campaign_desc.info()"
   ]
  },
  {
   "cell_type": "code",
   "execution_count": 12,
   "id": "cd90460b-e34c-40a2-a838-e450eef84075",
   "metadata": {},
   "outputs": [
    {
     "data": {
      "text/plain": [
       "array(['TypeB', 'TypeC', 'TypeA'], dtype=object)"
      ]
     },
     "execution_count": 12,
     "metadata": {},
     "output_type": "execute_result"
    }
   ],
   "source": [
    "# Display unique values in the 'DESCRIPTION' column of the DataFrame 'campaign_desc'\n",
    "campaign_desc['DESCRIPTION'].unique()"
   ]
  },
  {
   "cell_type": "code",
   "execution_count": 13,
   "id": "4bd8988f-1372-4bd2-9014-ede64c271b9b",
   "metadata": {},
   "outputs": [
    {
     "data": {
      "text/plain": [
       "array([24, 15, 25, 20, 23, 21, 22, 18, 19, 17, 14, 16, 13, 11, 12, 10,  9,\n",
       "        8,  7,  6,  3,  5,  4,  1,  2, 30, 29, 28, 27, 26], dtype=int64)"
      ]
     },
     "execution_count": 13,
     "metadata": {},
     "output_type": "execute_result"
    }
   ],
   "source": [
    "# Display unique values in the 'CAMPAIGN' column of the DataFrame 'campaign_desc'\n",
    "campaign_desc['CAMPAIGN'].unique()"
   ]
  },
  {
   "cell_type": "code",
   "execution_count": 14,
   "id": "bd69dc58-2eb3-4e99-83c3-a6dc2b9478a0",
   "metadata": {},
   "outputs": [
    {
     "data": {
      "text/plain": [
       "array([659, 547, 615, 646, 624, 587, 603, 575, 531, 561, 504, 477, 463,\n",
       "       435, 412, 398, 393, 356, 377, 372, 346, 351, 323, 281, 259, 237,\n",
       "       224], dtype=int64)"
      ]
     },
     "execution_count": 14,
     "metadata": {},
     "output_type": "execute_result"
    }
   ],
   "source": [
    "# Display unique values in the 'START_DAY' column of the DataFrame 'campaign_desc'\n",
    "campaign_desc['START_DAY'].unique()"
   ]
  },
  {
   "cell_type": "code",
   "execution_count": 15,
   "id": "78ea4423-6b69-4077-81e3-77ee7cd92d03",
   "metadata": {},
   "outputs": [
    {
     "data": {
      "text/plain": [
       "array([719, 708, 691, 685, 684, 656, 642, 635, 607, 596, 593, 551, 523,\n",
       "       509, 495, 467, 460, 432, 425, 412, 411, 404, 383, 369, 334, 320,\n",
       "       300, 264], dtype=int64)"
      ]
     },
     "execution_count": 15,
     "metadata": {},
     "output_type": "execute_result"
    }
   ],
   "source": [
    "# Display unique values in the 'END_DAY' column of the DataFrame 'campaign_desc'\n",
    "campaign_desc['END_DAY'].unique()"
   ]
  },
  {
   "cell_type": "markdown",
   "id": "146d225d-51d4-43c6-b77c-2ec6c2ecf843",
   "metadata": {},
   "source": [
    "# Causal_data Table"
   ]
  },
  {
   "cell_type": "code",
   "execution_count": 179,
   "id": "f44f32f4-8bd3-4ef9-9169-318bfc855382",
   "metadata": {},
   "outputs": [
    {
     "data": {
      "text/plain": [
       "PRODUCT_ID    0\n",
       "STORE_ID      0\n",
       "WEEK_NO       0\n",
       "display       0\n",
       "mailer        0\n",
       "dtype: int64"
      ]
     },
     "execution_count": 179,
     "metadata": {},
     "output_type": "execute_result"
    }
   ],
   "source": [
    "causal_data.isnull().sum()"
   ]
  },
  {
   "cell_type": "code",
   "execution_count": 16,
   "id": "4b0ab80d-0674-49c8-a3f9-67db7b664b0f",
   "metadata": {},
   "outputs": [
    {
     "name": "stdout",
     "output_type": "stream",
     "text": [
      "<class 'pandas.core.frame.DataFrame'>\n",
      "RangeIndex: 36786524 entries, 0 to 36786523\n",
      "Data columns (total 5 columns):\n",
      " #   Column      Dtype \n",
      "---  ------      ----- \n",
      " 0   PRODUCT_ID  int64 \n",
      " 1   STORE_ID    int64 \n",
      " 2   WEEK_NO     int64 \n",
      " 3   display     object\n",
      " 4   mailer      object\n",
      "dtypes: int64(3), object(2)\n",
      "memory usage: 1.4+ GB\n"
     ]
    }
   ],
   "source": [
    "# Display concise summary of the DataFrame 'causal_data'\n",
    "causal_data.info()"
   ]
  },
  {
   "cell_type": "code",
   "execution_count": 17,
   "id": "cdd6bccb-4950-453c-be7a-0422d8aeb509",
   "metadata": {},
   "outputs": [
    {
     "data": {
      "text/plain": [
       "array([   26190,    26355,    26426, ..., 18243471, 18243476, 18244453],\n",
       "      dtype=int64)"
      ]
     },
     "execution_count": 17,
     "metadata": {},
     "output_type": "execute_result"
    }
   ],
   "source": [
    "# Display unique values in the 'PRODUCT_ID' column of the DataFrame 'causal_data'\n",
    "causal_data['PRODUCT_ID'].unique()"
   ]
  },
  {
   "cell_type": "code",
   "execution_count": 18,
   "id": "cedeef31-c3d7-4539-ba31-9f22136e39f3",
   "metadata": {},
   "outputs": [
    {
     "data": {
      "text/plain": [
       "array([  286,   288,   289,   292,   293,   295,   296,   297,   298,\n",
       "         299,   300,   304,   306,   309,   310,   311,   313,   315,\n",
       "         316,   317,   318,   319,   320,   321,   322,   323,   324,\n",
       "         327,   329,   330,   333,   334,   335,   337,   338,   339,\n",
       "         340,   341,   343,   345,   346,   352,   354,   355,   356,\n",
       "         358,   359,   360,   361,   362,   363,   364,   365,   367,\n",
       "         368,   369,   370,   372,   375,   379,   380,   381,   382,\n",
       "         384,   388,   389,   391,   396,   400,   401,   402,   403,\n",
       "         404,   406,   408,   410,   412,   414,   420,   421,   422,\n",
       "         424,   427,   429,   432,   433,   436,   438,   439,   441,\n",
       "         442,   443,   445,   446,   447,   448,   450, 31401, 31582,\n",
       "       31642, 31742, 31762, 31782, 31862, 32004, 33923, 34007, 34011,\n",
       "         366,   374,   415, 34280, 34037,   440,   411], dtype=int64)"
      ]
     },
     "execution_count": 18,
     "metadata": {},
     "output_type": "execute_result"
    }
   ],
   "source": [
    "# Display unique values in the 'STORE_ID' column of the DataFrame 'causal_data'\n",
    "causal_data['STORE_ID'].unique()"
   ]
  },
  {
   "cell_type": "code",
   "execution_count": 19,
   "id": "e2bf0a04-ec81-45b9-bf09-a6c0ce6ebe65",
   "metadata": {},
   "outputs": [
    {
     "data": {
      "text/plain": [
       "array([ 70,  52,  71,  73,  72,  35,  37,  38,  41,  42,  43,  85,  87,\n",
       "        88,  89,  90,  91,  92,  32,  33,  34,  36,  39,  40,  84,  86,\n",
       "        83,  93,  94,  46,  95,  96,  44,  31,  30,  51,  55,  54,  56,\n",
       "        25,  53,  57,  59,  61,  66,  67,  68,  69,  75,  76,  77,  79,\n",
       "        81,  82,  19,  45,  49,  58,  64,  74,  24,  27,  28,  29,  47,\n",
       "        48,  50,  60,  62,  63,  65,  80,   9,  11,  97, 101,  21,  12,\n",
       "        78,  13,  26,  98,  14,  23,  15,  16,  17,  20,  22,  10,  18,\n",
       "       100,  99], dtype=int64)"
      ]
     },
     "execution_count": 19,
     "metadata": {},
     "output_type": "execute_result"
    }
   ],
   "source": [
    "# Display unique values in the 'WEEK_NO' column of the DataFrame 'causal_data'\n",
    "causal_data['WEEK_NO'].unique()"
   ]
  },
  {
   "cell_type": "code",
   "execution_count": 20,
   "id": "b6e55676-f0d8-4356-9e14-59bfddb3cc23",
   "metadata": {},
   "outputs": [
    {
     "data": {
      "text/plain": [
       "array(['0', '5', '1', '4', '3', '9', 'A', '6', '7', '2'], dtype=object)"
      ]
     },
     "execution_count": 20,
     "metadata": {},
     "output_type": "execute_result"
    }
   ],
   "source": [
    "# Display unique values in the 'display' column of the DataFrame 'causal_data'\n",
    "causal_data['display'].unique()"
   ]
  },
  {
   "cell_type": "markdown",
   "id": "75cb7665-df30-4095-b404-542ceeda5221",
   "metadata": {},
   "source": [
    "#We Replace the \"A\" with 8 "
   ]
  },
  {
   "cell_type": "code",
   "execution_count": 21,
   "id": "6a7fb94e-87e6-43ad-9984-e654cd16cc62",
   "metadata": {},
   "outputs": [],
   "source": [
    "# Replace occurrences of 'A' with 8 in the 'display' column of the DataFrame 'causal_data'\n",
    "causal_data['display'].replace('A',8,inplace=True)"
   ]
  },
  {
   "cell_type": "code",
   "execution_count": 22,
   "id": "54934356-7598-4e93-90a1-2c56888210df",
   "metadata": {},
   "outputs": [
    {
     "data": {
      "text/plain": [
       "array(['0', '5', '1', '4', '3', '9', 8, '6', '7', '2'], dtype=object)"
      ]
     },
     "execution_count": 22,
     "metadata": {},
     "output_type": "execute_result"
    }
   ],
   "source": [
    "# Display unique values in the 'display' column of the DataFrame 'causal_data'\n",
    "causal_data['display'].unique()"
   ]
  },
  {
   "cell_type": "code",
   "execution_count": 23,
   "id": "54bb893a-e717-4bf8-ad66-3c7a79ec74fa",
   "metadata": {},
   "outputs": [
    {
     "data": {
      "text/plain": [
       "array(['A', '0', 'H', 'D', 'F', 'J', 'C', 'L', 'X', 'P', 'Z'],\n",
       "      dtype=object)"
      ]
     },
     "execution_count": 23,
     "metadata": {},
     "output_type": "execute_result"
    }
   ],
   "source": [
    "# Display unique values in the 'mailer' column of the DataFrame 'causal_data'\n",
    "causal_data['mailer'].unique()"
   ]
  },
  {
   "cell_type": "code",
   "execution_count": 24,
   "id": "df6098fa-5068-4c25-9494-4ffd81ac7ea2",
   "metadata": {},
   "outputs": [],
   "source": [
    "# Replace occurrences of '0' with 'B' in the 'mailer' column of the DataFrame 'causal_data'\n",
    "causal_data['mailer'].replace('0','B',inplace=True)"
   ]
  },
  {
   "cell_type": "code",
   "execution_count": 25,
   "id": "20243497-7445-4ced-83c2-64b39dd3709f",
   "metadata": {},
   "outputs": [
    {
     "data": {
      "text/plain": [
       "array(['A', 'B', 'H', 'D', 'F', 'J', 'C', 'L', 'X', 'P', 'Z'],\n",
       "      dtype=object)"
      ]
     },
     "execution_count": 25,
     "metadata": {},
     "output_type": "execute_result"
    }
   ],
   "source": [
    "# Display unique values in the 'mailer' column of the DataFrame 'causal_data'\n",
    "causal_data['mailer'].unique()"
   ]
  },
  {
   "cell_type": "markdown",
   "id": "3ab6e7d5-815e-4208-84ec-1433e41bbccf",
   "metadata": {},
   "source": [
    "# Coupon Table:"
   ]
  },
  {
   "cell_type": "code",
   "execution_count": 180,
   "id": "fd78858b-236c-442e-b627-327c2889728b",
   "metadata": {},
   "outputs": [
    {
     "data": {
      "text/plain": [
       "COUPON_UPC    0\n",
       "PRODUCT_ID    0\n",
       "CAMPAIGN      0\n",
       "dtype: int64"
      ]
     },
     "execution_count": 180,
     "metadata": {},
     "output_type": "execute_result"
    }
   ],
   "source": [
    "coupon.isnull().sum()"
   ]
  },
  {
   "cell_type": "code",
   "execution_count": 26,
   "id": "da432903-dab6-4e9a-8f8f-7c3bb46daa29",
   "metadata": {},
   "outputs": [
    {
     "name": "stdout",
     "output_type": "stream",
     "text": [
      "<class 'pandas.core.frame.DataFrame'>\n",
      "RangeIndex: 124548 entries, 0 to 124547\n",
      "Data columns (total 3 columns):\n",
      " #   Column      Non-Null Count   Dtype\n",
      "---  ------      --------------   -----\n",
      " 0   COUPON_UPC  124548 non-null  int64\n",
      " 1   PRODUCT_ID  124548 non-null  int64\n",
      " 2   CAMPAIGN    124548 non-null  int64\n",
      "dtypes: int64(3)\n",
      "memory usage: 2.9 MB\n"
     ]
    }
   ],
   "source": [
    "# Display concise summary of the DataFrame 'coupon'\n",
    "coupon.info()"
   ]
  },
  {
   "cell_type": "code",
   "execution_count": 27,
   "id": "49e69e2e-557a-44a6-807b-443459e1ec62",
   "metadata": {},
   "outputs": [
    {
     "data": {
      "text/plain": [
       "1135"
      ]
     },
     "execution_count": 27,
     "metadata": {},
     "output_type": "execute_result"
    }
   ],
   "source": [
    "# Count the number of unique values in the 'COUPON_UPC' column of the DataFrame 'coupon'\n",
    "coupon['COUPON_UPC'].nunique()"
   ]
  },
  {
   "cell_type": "code",
   "execution_count": 28,
   "id": "508a8189-9caa-467c-a0c6-d023a2c5852c",
   "metadata": {},
   "outputs": [
    {
     "data": {
      "text/plain": [
       "array([   27160,    27754,    28897, ..., 17330255, 17329098, 17328611],\n",
       "      dtype=int64)"
      ]
     },
     "execution_count": 28,
     "metadata": {},
     "output_type": "execute_result"
    }
   ],
   "source": [
    "# Display unique values in the 'PRODUCT_ID' column of the DataFrame 'coupon'\n",
    "coupon['PRODUCT_ID'].unique()"
   ]
  },
  {
   "cell_type": "code",
   "execution_count": 29,
   "id": "6603feea-3161-4f19-80fb-1df4096ade7b",
   "metadata": {},
   "outputs": [
    {
     "data": {
      "text/plain": [
       "array([ 4,  9, 12, 28, 25, 22,  1, 20, 10, 21, 23, 27,  3, 14, 29, 16, 24,\n",
       "       17,  2, 19,  5, 11,  7, 15,  6, 13,  8, 26, 30, 18], dtype=int64)"
      ]
     },
     "execution_count": 29,
     "metadata": {},
     "output_type": "execute_result"
    }
   ],
   "source": [
    "# Display unique values in the 'CAMPAIGN' column of the DataFrame 'coupon'\n",
    "coupon['CAMPAIGN'].unique()"
   ]
  },
  {
   "cell_type": "markdown",
   "id": "cc12dec7-1c40-401f-8664-44c5431861e3",
   "metadata": {},
   "source": [
    "# Coupon_redempt Table:"
   ]
  },
  {
   "cell_type": "code",
   "execution_count": 182,
   "id": "5741b384-c2f7-4ebc-b0ef-d5bbdadff48a",
   "metadata": {},
   "outputs": [
    {
     "data": {
      "text/plain": [
       "household_key    0\n",
       "DAY              0\n",
       "COUPON_UPC       0\n",
       "CAMPAIGN         0\n",
       "dtype: int64"
      ]
     },
     "execution_count": 182,
     "metadata": {},
     "output_type": "execute_result"
    }
   ],
   "source": [
    "coupon_redempt.isnull().sum()"
   ]
  },
  {
   "cell_type": "code",
   "execution_count": 30,
   "id": "f66ae82d-eb72-483f-94df-b2009073a4c9",
   "metadata": {},
   "outputs": [
    {
     "name": "stdout",
     "output_type": "stream",
     "text": [
      "<class 'pandas.core.frame.DataFrame'>\n",
      "RangeIndex: 2318 entries, 0 to 2317\n",
      "Data columns (total 4 columns):\n",
      " #   Column         Non-Null Count  Dtype\n",
      "---  ------         --------------  -----\n",
      " 0   household_key  2318 non-null   int64\n",
      " 1   DAY            2318 non-null   int64\n",
      " 2   COUPON_UPC     2318 non-null   int64\n",
      " 3   CAMPAIGN       2318 non-null   int64\n",
      "dtypes: int64(4)\n",
      "memory usage: 72.6 KB\n"
     ]
    }
   ],
   "source": [
    "# Display concise summary of the DataFrame 'coupon_redempt'\n",
    "coupon_redempt.info()"
   ]
  },
  {
   "cell_type": "code",
   "execution_count": 31,
   "id": "0aa8a5ff-6841-4c3a-bdd3-b4964f09ebe0",
   "metadata": {},
   "outputs": [
    {
     "data": {
      "text/plain": [
       "array([   1,    8,   13,   14,   18,   19,   22,   29,   31,   40,   46,\n",
       "         56,   58,   67,   68,   77,   79,   80,   88,   93,   99,  101,\n",
       "        104,  105,  113,  115,  117,  125,  127,  139,  143,  156,  158,\n",
       "        164,  165,  184,  192,  196,  208,  214,  215,  222,  232,  239,\n",
       "        243,  248,  249,  251,  256,  262,  276,  279,  282,  283,  294,\n",
       "        305,  306,  307,  318,  321,  324,  334,  345,  346,  351,  353,\n",
       "        354,  361,  362,  367,  378,  383,  387,  389,  393,  397,  400,\n",
       "        412,  413,  421,  426,  437,  438,  443,  454,  458,  460,  463,\n",
       "        464,  469,  472,  473,  484,  485,  490,  492,  503,  518,  523,\n",
       "        545,  546,  560,  573,  574,  577,  581,  588,  596,  600,  605,\n",
       "        630,  631,  636,  641,  647,  650,  679,  680,  681,  687,  692,\n",
       "        696,  699,  702,  703,  709,  712,  715,  716,  718,  725,  740,\n",
       "        745,  755,  761,  764,  766,  768,  771,  788,  793,  805,  807,\n",
       "        825,  840,  845,  864,  867,  877,  878,  883,  888,  889,  895,\n",
       "        896,  906,  908,  909,  911,  920,  929,  931,  934,  936,  947,\n",
       "        949,  954,  956,  968,  972,  979,  982,  983,  988,  993,  998,\n",
       "       1000, 1005, 1011, 1012, 1015, 1017, 1020, 1024, 1029, 1039, 1040,\n",
       "       1064, 1066, 1074, 1081, 1083, 1098, 1113, 1130, 1142, 1146, 1166,\n",
       "       1167, 1175, 1197, 1228, 1229, 1238, 1247, 1248, 1256, 1261, 1285,\n",
       "       1287, 1294, 1299, 1303, 1305, 1318, 1326, 1333, 1337, 1347, 1356,\n",
       "       1357, 1364, 1367, 1376, 1391, 1393, 1394, 1396, 1397, 1412, 1417,\n",
       "       1419, 1421, 1423, 1428, 1429, 1430, 1437, 1445, 1451, 1453, 1458,\n",
       "       1460, 1462, 1463, 1475, 1483, 1485, 1488, 1491, 1494, 1505, 1508,\n",
       "       1509, 1511, 1528, 1529, 1534, 1541, 1566, 1568, 1581, 1588, 1590,\n",
       "       1591, 1593, 1598, 1602, 1609, 1618, 1627, 1630, 1633, 1634, 1642,\n",
       "       1648, 1651, 1653, 1675, 1676, 1677, 1687, 1693, 1694, 1707, 1708,\n",
       "       1710, 1717, 1722, 1726, 1732, 1751, 1753, 1754, 1759, 1762, 1764,\n",
       "       1773, 1778, 1788, 1791, 1795, 1797, 1802, 1804, 1820, 1823, 1831,\n",
       "       1839, 1845, 1850, 1854, 1856, 1864, 1869, 1872, 1899, 1907, 1917,\n",
       "       1921, 1923, 1928, 1935, 1936, 1937, 1944, 1947, 1957, 1959, 1963,\n",
       "       1965, 1975, 1985, 1989, 1990, 1995, 2004, 2006, 2007, 2011, 2019,\n",
       "       2024, 2041, 2042, 2057, 2062, 2064, 2066, 2080, 2082, 2083, 2084,\n",
       "       2085, 2087, 2088, 2094, 2100, 2111, 2112, 2115, 2117, 2123, 2124,\n",
       "       2130, 2134, 2147, 2148, 2156, 2158, 2162, 2168, 2171, 2185, 2199,\n",
       "       2200, 2213, 2217, 2222, 2231, 2233, 2234, 2237, 2240, 2244, 2260,\n",
       "       2264, 2270, 2275, 2280, 2282, 2284, 2305, 2314, 2317, 2322, 2324,\n",
       "       2330, 2331, 2334, 2341, 2342, 2347, 2351, 2364, 2366, 2370, 2374,\n",
       "       2375, 2378, 2380, 2398, 2400, 2406, 2407, 2420, 2421, 2427, 2430,\n",
       "       2441, 2443, 2448, 2451, 2455, 2457, 2462, 2467, 2475, 2478, 2481,\n",
       "       2488, 2489, 2494, 2496, 2500], dtype=int64)"
      ]
     },
     "execution_count": 31,
     "metadata": {},
     "output_type": "execute_result"
    }
   ],
   "source": [
    "# Display unique values in the 'household_key' column of the DataFrame 'coupon_redempt'\n",
    "coupon_redempt['household_key'].unique()"
   ]
  },
  {
   "cell_type": "code",
   "execution_count": 32,
   "id": "f250b19f-e724-4251-85fb-4c549649932f",
   "metadata": {},
   "outputs": [
    {
     "data": {
      "text/plain": [
       "array([421, 427, 597, 422, 396, 424, 434, 447, 478, 494, 512, 543, 609,\n",
       "       636, 642, 647, 651, 540, 428, 515, 599, 634, 637, 684, 228, 243,\n",
       "       333, 376, 382, 509, 526, 592, 607, 628, 640, 460, 663, 677, 505,\n",
       "       528, 530, 533, 541, 550, 638, 419, 420, 591, 431, 438, 455, 514,\n",
       "       608, 610, 616, 632, 639, 665, 681, 691, 601, 602, 612, 486, 542,\n",
       "       576, 654, 685, 282, 325, 329, 375, 633, 624, 586, 600, 614, 562,\n",
       "       671, 400, 407, 430, 518, 567, 625, 426, 521, 575, 417, 595, 522,\n",
       "       535, 598, 621, 524, 443, 287, 516, 611, 669, 590, 606, 439, 529,\n",
       "       415, 332, 346, 348, 361, 363, 413, 416, 511, 532, 603, 510, 429,\n",
       "       507, 579, 678, 437, 464, 262, 425, 536, 549, 594, 414, 531, 446,\n",
       "       259, 231, 256, 545, 626, 508, 605, 596, 520, 330, 232, 338, 344,\n",
       "       358, 444, 450, 604, 660, 673, 680, 241, 458, 593, 517, 442, 504,\n",
       "       538, 539, 582, 653, 656, 686, 683, 453, 617, 635, 337, 620, 467,\n",
       "       457, 627, 258, 377, 506, 589, 557, 523, 459, 554, 585, 433, 468,\n",
       "       474, 551, 662, 676, 449, 339, 436, 451, 618, 559, 584, 675, 469,\n",
       "       482, 619, 418, 456, 326, 630, 291, 629, 527, 239, 283, 351, 655,\n",
       "       519, 568, 227, 257, 631, 648, 537, 546, 544, 327, 644, 235, 250,\n",
       "       264, 392, 572, 670, 513, 312, 652, 349, 641, 525, 622, 360, 237,\n",
       "       388, 408, 475, 613, 285, 328, 440, 548, 234, 547, 558, 587, 445,\n",
       "       491, 581, 342, 233, 245, 299, 615, 466, 649, 672, 384, 448, 412,\n",
       "       588, 534, 563, 583, 661, 668, 674, 462, 623, 578, 679, 497, 365,\n",
       "       565, 454, 395, 488, 244, 260, 682, 306, 313, 666, 555, 323, 561,\n",
       "       341, 492, 481, 374, 298, 463, 704, 435, 465, 236, 432, 334, 399,\n",
       "       493, 229, 387, 483, 284, 490, 340, 569, 369, 487, 646, 226, 688,\n",
       "       368, 692, 225, 659, 359, 343, 411, 489, 370, 378, 336, 385, 479,\n",
       "       294, 357, 698], dtype=int64)"
      ]
     },
     "execution_count": 32,
     "metadata": {},
     "output_type": "execute_result"
    }
   ],
   "source": [
    "# Display unique values in the 'DAY' column of the DataFrame 'coupon_redempt'\n",
    "coupon_redempt['DAY'].unique()"
   ]
  },
  {
   "cell_type": "code",
   "execution_count": 33,
   "id": "a4cebad0-5793-48bc-a5e9-74cd4dc8bf85",
   "metadata": {},
   "outputs": [
    {
     "data": {
      "text/plain": [
       "array([10000085364, 51700010076, 54200000033, 10000085476, 54200029176,\n",
       "       53600000078, 53700048182, 52370020076, 53600050042, 53600000082,\n",
       "       51600070033, 52500060033, 54154889076, 10000085427, 52740022050,\n",
       "       10000089277, 51800015050, 53500035050, 54105800093, 52800031032,\n",
       "       51312010033, 53980010082, 10000089316, 54400021032, 51800000050,\n",
       "       10000089128, 51480000076, 53700020076, 55000013033, 10000085429,\n",
       "       51380020033, 55000013050, 10000085475, 55000013950, 52500010050,\n",
       "       54100027032, 51111540076, 55410000076, 52500010033, 55150054075,\n",
       "       52277610055, 53450050033, 54300026150, 54850011033, 51440050055,\n",
       "       10000085484, 10000089284, 51800010250, 54300026050, 54850010033,\n",
       "       52100000031, 54450000076, 10000085486, 55100012140, 53000000036,\n",
       "       54060060033, 10000089106, 53620010050, 10000089098, 10000089101,\n",
       "       50800490076, 51254711082, 57455024475, 55942700087, 57410101082,\n",
       "       52000030042, 54060060076, 10000085361, 10000085363, 57800000033,\n",
       "       10000089195, 53800030050, 54133500050, 54154888076, 57045970076,\n",
       "       53663200076, 54154889078, 54900065051, 57756765076, 52840042077,\n",
       "       53800050033, 10000085426, 53700040075, 52016910055, 10000089290,\n",
       "       51906341075, 53010010033, 57631000076, 57218040076, 52840000082,\n",
       "       10000085491, 51200000076, 55100000033, 55200017313, 52700012033,\n",
       "       53600010087, 57940062040, 53620010028, 10000089194, 54400000032,\n",
       "       54132220050, 51380041313, 54400000033, 51380041013, 51380040009,\n",
       "       51111121078, 52580010042, 54369530009, 10000089077, 10000089135,\n",
       "       54900050076, 53450058040, 54280011660, 10000085477, 10000085479,\n",
       "       51960010076, 52100023024, 52840001082, 53500000076, 51111120078,\n",
       "       50813700076, 53600010082, 57007440087, 54450031033, 53760084282,\n",
       "       54100027009, 51910011176, 56414410013, 10000085482, 50008710076,\n",
       "       51500050033, 50052110076, 54100024032, 10000089019, 54589353178,\n",
       "       10000089257, 51111120001, 51111120076, 54300020076, 10000089093,\n",
       "       52840042034, 54100024950, 51570011042, 57294010033, 55150026055,\n",
       "       53620064076, 52100000033, 10000089248, 51600030101, 57680000050,\n",
       "       53377610033, 10000089091, 54800111033, 54900050082, 55100055075,\n",
       "       57790030032, 55100090033, 51920021576, 51266950076, 58000075224,\n",
       "       10000089038, 51111037250, 52100026076, 54460000050, 54589300078,\n",
       "       51111074175, 52586611376, 10000089012, 54300031076, 51111113178,\n",
       "       10000089266, 53700026850, 10000089023, 50930030075, 51111008650,\n",
       "       51111071124, 51111078555, 51800000033, 54180000033, 52840050076,\n",
       "       57332150033, 54589314178, 10000085369, 10000089136, 57047091041,\n",
       "       51980010075, 51981012076, 50099700082, 10000085478, 52200090076,\n",
       "       53700048076, 54589314175, 57418211676, 57143020076, 54589399275,\n",
       "       57192110076, 50800490036, 10000085378, 53700060051, 54300026033,\n",
       "       57064021233, 57265526076, 51800050033, 53600030082, 54369530042,\n",
       "       50800490078, 10000085425, 51600050042, 57320210076, 10000089053,\n",
       "       53500029075, 53160401082, 51780061082, 10000089064, 57127920076,\n",
       "       57756765876, 51380061733, 10000089111, 10000085366, 52927461001,\n",
       "       52840011033, 54200000076, 51111070124, 54900000032, 51116200076,\n",
       "       10000085320, 51111074232, 54850011076, 52300021041, 10000089048,\n",
       "       57192117133, 51380041309, 10000089134, 10000085428, 57756765034,\n",
       "       52113100033, 10000089251, 54800110055, 51200000009, 51090044076,\n",
       "       54116500036, 57127930075, 57680810050, 57124960082, 57127900036,\n",
       "       10000085432, 51960060050, 54440020076, 57910012076, 57214010082,\n",
       "       56687861776, 52840000033, 57797520075, 51952131178, 53700013182,\n",
       "       10000089020, 54610000075, 51116221076, 10000089250, 57023000076,\n",
       "       10000089124, 51111074642, 54800140060, 51600040033, 53700061076,\n",
       "       54000016333, 54180010033, 57033030076, 54589399276, 10000089244,\n",
       "       10000089272, 55480017133, 51113240013, 52898920076, 50581447025,\n",
       "       10000089240, 51111124078, 10000089018, 53810077076, 10000085368,\n",
       "       54300080075, 10000085370, 55220010013, 10000089285, 51500050013,\n",
       "       52100023030, 52900020076, 58768484040, 52840031033, 52100000076,\n",
       "       52100041013, 10000089045, 10000089046, 10000089113, 54650050060,\n",
       "       54589399250, 50813713084, 10000089252, 10000089047, 52100040050,\n",
       "       52740020076, 53010030033, 54740018078, 10000089125, 53663250076,\n",
       "       54589399255, 54300016033, 51111074242, 55703711082, 57027211076,\n",
       "       10000089137, 51862700076, 52800051098, 10000089306, 52270011076,\n",
       "       51111076635, 55100055008, 57218020076, 51111037233, 51111070150,\n",
       "       51111075533, 53400022076, 10000089076, 57105210033, 10000089271,\n",
       "       10000085493, 51330021113, 54178802078, 10000089078, 57144800076,\n",
       "       53120026033, 10000085495, 54263410033, 10000089263, 10000089270,\n",
       "       10000089239, 57050100078, 52570016075, 55004910025, 50004510076,\n",
       "       52150000050, 54589321176, 57490414076, 54200060033, 52819011176,\n",
       "       52920000028, 58978500076, 10000089084, 55400061078, 51450050050,\n",
       "       10000089029, 51111110076, 52700040009, 53500051576, 10000089246,\n",
       "       10000089253, 10000089288, 51111114101, 53700021125, 51113240041,\n",
       "       57756765875, 51370000076, 58087858576, 54900065036, 53210060033,\n",
       "       55928320070, 54110030074, 57255400076, 54420930024, 51111076669,\n",
       "       57800000032, 50000540082, 10000089054, 10000089026, 55000035213,\n",
       "       50004518076, 55000013933, 54460011776, 50008130078, 54610020076,\n",
       "       10000089051, 50004110076, 10000089237, 53700067076, 51785400013,\n",
       "       10000089055, 50308412076, 50813790076, 10000089073, 54470031076,\n",
       "       57680000025, 54300010033, 10000089110, 52100026075, 51530011350,\n",
       "       57218050076, 10000089102, 55150026032, 57231020034, 55150000034,\n",
       "       58304613450, 55420811176, 54589399277, 53000012033, 52260010055,\n",
       "       57940033055, 54100011675, 50057331082, 54420933024, 57047092032,\n",
       "       53076800082, 57457010076, 10000089013, 52840000075, 53475600050,\n",
       "       51258700050, 10000085496, 57790113076, 52100041050, 53700016682,\n",
       "       51809461078, 50308412050, 10000085436, 10000089015, 51958211075,\n",
       "       54180060033, 55310000076, 57124921076, 51780034082, 10000085490,\n",
       "       52310030076, 52100061076, 53760073676, 10000089265, 51600045033,\n",
       "       51111010133, 53700012075, 54850010009, 10000089304, 53700061674,\n",
       "       57050100082, 57033040050, 10000089131, 51700310076, 52100061176,\n",
       "       54134500033, 54300026124, 10000085373, 57050100076, 55150010034,\n",
       "       53600040087, 54175711040, 55100012007, 51780071276, 58870211150,\n",
       "       51410030033, 51800009050, 10000089305, 51111131075, 51200000033,\n",
       "       57455024450, 52484270076, 55100000013, 52840000051, 53800087950,\n",
       "       57218022076, 55100043133, 57027722976, 55000035576, 51780034078,\n",
       "       10000089319, 56261260075, 10000089123, 51800015033, 57790000032,\n",
       "       52038210082, 53663271277, 10000089109, 54300021057, 10000089006,\n",
       "       53000021076, 55000034042, 10000089044, 50834620078, 10000089300,\n",
       "       53700051551, 10000089049, 10000089133, 57294010013, 54589371155,\n",
       "       10000089092, 52920000042, 51111081160, 51011913593, 51111122076,\n",
       "       50834600078, 10000089082, 51111070142, 51111070424, 54450052251,\n",
       "       10000089040, 10000089079, 55714580087, 50000540076, 10000089259,\n",
       "       55703710075, 51500059033, 57007461076, 53400061150, 54150023150,\n",
       "       57084400050, 51298810078, 55000035282, 10000089127, 10000089302,\n",
       "       51200092776, 52529311476, 51780031082, 10000089081, 10000089276,\n",
       "       53600000001, 53600011082, 57790000075, 57008510075, 51254711078,\n",
       "       57103800077, 53770000076, 57143030076, 54900020032, 51111111175,\n",
       "       55113140076, 54470020031, 51111073935, 51111074635, 10000085367,\n",
       "       55340000082, 53700048051, 51254600014, 10000089269, 50004510078,\n",
       "       10000089108, 52100054076, 10000089278, 57007451076, 10000089032,\n",
       "       54759930033, 52100023020, 51111081540, 51015877076, 54440020034,\n",
       "       52400060032, 54610000076, 51410010050, 52310000076, 57910070076,\n",
       "       10000089283], dtype=int64)"
      ]
     },
     "execution_count": 33,
     "metadata": {},
     "output_type": "execute_result"
    }
   ],
   "source": [
    "# Display unique values in the 'COUPON_UPC' column of the DataFrame 'coupon_redempt'\n",
    "coupon_redempt['COUPON_UPC'].unique()"
   ]
  },
  {
   "cell_type": "code",
   "execution_count": 34,
   "id": "c1268d94-4dd4-46cd-a8f6-3ee61142fa1b",
   "metadata": {},
   "outputs": [
    {
     "data": {
      "text/plain": [
       "COUPON_UPC\n",
       "10000085475    63\n",
       "51600070033    56\n",
       "54154888076    49\n",
       "10000085429    45\n",
       "10000085363    42\n",
       "10000085364    39\n",
       "10000085425    35\n",
       "10000085479    34\n",
       "10000085477    28\n",
       "10000085426    28\n",
       "55410000076    28\n",
       "53800050033    27\n",
       "10000085361    25\n",
       "51800015050    25\n",
       "54850010033    24\n",
       "57631000076    24\n",
       "54900050076    20\n",
       "10000085478    20\n",
       "52100023024    19\n",
       "10000085427    19\n",
       "54300026050    19\n",
       "52740022050    19\n",
       "53620010050    18\n",
       "54300020076    18\n",
       "54100027032    17\n",
       "53010010033    16\n",
       "57047091041    16\n",
       "53600000078    16\n",
       "53700048182    16\n",
       "57045970076    16\n",
       "55000013950    15\n",
       "51960010076    15\n",
       "57143020076    15\n",
       "54900050082    15\n",
       "53620010028    15\n",
       "10000089290    14\n",
       "54060060076    14\n",
       "10000089124    13\n",
       "54200000076    13\n",
       "51800000050    13\n",
       "10000085476    13\n",
       "56414410013    12\n",
       "10000085428    11\n",
       "52000030042    11\n",
       "51480000076    11\n",
       "54200029176    11\n",
       "52500010050    11\n",
       "10000089106    10\n",
       "10000089073    10\n",
       "52580010042    10\n",
       "55100012140    10\n",
       "53500000076     9\n",
       "57680810050     9\n",
       "52898920076     9\n",
       "53800030050     9\n",
       "52100026076     9\n",
       "53010030033     9\n",
       "52100040050     9\n",
       "53120026033     8\n",
       "57192110076     8\n",
       "10000089128     8\n",
       "51200000076     8\n",
       "10000085432     8\n",
       "51111113178     8\n",
       "52100000031     8\n",
       "54060060033     8\n",
       "57127900036     7\n",
       "53700040075     7\n",
       "51981012076     7\n",
       "53620064076     7\n",
       "51312010033     7\n",
       "52113100033     7\n",
       "10000089251     6\n",
       "53600010087     6\n",
       "52100041050     6\n",
       "54800110055     6\n",
       "54369530009     6\n",
       "54300031076     6\n",
       "54280011660     6\n",
       "51600040033     6\n",
       "53700048076     6\n",
       "52200090076     6\n",
       "52840000082     6\n",
       "51500050033     6\n",
       "54100024950     6\n",
       "51700010076     6\n",
       "55100055075     6\n",
       "57910012076     6\n",
       "52840011033     6\n",
       "10000085366     6\n",
       "53663200076     6\n",
       "55000013033     6\n",
       "52370020076     6\n",
       "55000013050     6\n",
       "53000000036     6\n",
       "54154889078     6\n",
       "51906341075     6\n",
       "51254711082     6\n",
       "51200000009     5\n",
       "52100000033     5\n",
       "10000085496     5\n",
       "10000085495     5\n",
       "57680000050     5\n",
       "10000085493     5\n",
       "10000089098     5\n",
       "52800051098     5\n",
       "55100090033     5\n",
       "50800490076     5\n",
       "51600030101     5\n",
       "52270011076     5\n",
       "57332150033     5\n",
       "10000085369     5\n",
       "53600030082     5\n",
       "53700067076     5\n",
       "52700012033     5\n",
       "55400061078     5\n",
       "58768484040     5\n",
       "51980010075     5\n",
       "51960060050     4\n",
       "54850011033     4\n",
       "55150026055     4\n",
       "53210060033     4\n",
       "52100023030     4\n",
       "10000089248     4\n",
       "52586611376     4\n",
       "10000089012     4\n",
       "53160401082     4\n",
       "54800111033     4\n",
       "54610020076     4\n",
       "10000089111     4\n",
       "57231020034     4\n",
       "10000089134     4\n",
       "52927461001     4\n",
       "51111120001     4\n",
       "51800010250     4\n",
       "51500050013     4\n",
       "53700060051     4\n",
       "52900020076     4\n",
       "55703711082     4\n",
       "54133500050     4\n",
       "54154889076     4\n",
       "54180010033     4\n",
       "53600000082     4\n",
       "52840001082     4\n",
       "53663250076     4\n",
       "54650050060     4\n",
       "51380041013     4\n",
       "54800140060     4\n",
       "53600010082     4\n",
       "54132220050     4\n",
       "53450058040     4\n",
       "54200000033     4\n",
       "55200017313     4\n",
       "51258700050     4\n",
       "10000085482     4\n",
       "51862700076     4\n",
       "55100000033     4\n",
       "57797520075     4\n",
       "57047092032     4\n",
       "52840042077     4\n",
       "10000089018     3\n",
       "57127920076     3\n",
       "52100000076     3\n",
       "10000089029     3\n",
       "52800031032     3\n",
       "53500051576     3\n",
       "51111110076     3\n",
       "51600050042     3\n",
       "52840031033     3\n",
       "55220010013     3\n",
       "50800490078     3\n",
       "57064021233     3\n",
       "54300026033     3\n",
       "53000021076     3\n",
       "54589399276     3\n",
       "52570016075     3\n",
       "50581447025     3\n",
       "54440020076     3\n",
       "10000085378     3\n",
       "53400022076     3\n",
       "53700013182     3\n",
       "57027211076     3\n",
       "54105800093     3\n",
       "54589399255     3\n",
       "57756765034     3\n",
       "51380041309     3\n",
       "57192117133     3\n",
       "54178802078     3\n",
       "51116200076     3\n",
       "52840000033     3\n",
       "51113240013     3\n",
       "51111070124     3\n",
       "54589399250     3\n",
       "51111540076     3\n",
       "53980010082     3\n",
       "50099700082     3\n",
       "10000085490     3\n",
       "57457010076     3\n",
       "10000089091     3\n",
       "54100024032     3\n",
       "10000089237     3\n",
       "50930030075     3\n",
       "10000089266     3\n",
       "54450000076     3\n",
       "52484270076     3\n",
       "57756765076     3\n",
       "57124921076     3\n",
       "10000089195     3\n",
       "55310000076     3\n",
       "54470031076     3\n",
       "10000085436     3\n",
       "54450031033     3\n",
       "55100000013     3\n",
       "55150000034     3\n",
       "51570011042     3\n",
       "54300026150     3\n",
       "51370000076     3\n",
       "51111010133     3\n",
       "57418211676     3\n",
       "52016910055     3\n",
       "10000089194     3\n",
       "54400000032     3\n",
       "52840050076     3\n",
       "51111120076     3\n",
       "10000089093     3\n",
       "54420930024     3\n",
       "51380040009     3\n",
       "52840042034     3\n",
       "10000089054     3\n",
       "53475600050     2\n",
       "57050100076     2\n",
       "54589371155     2\n",
       "10000089137     2\n",
       "57790113076     2\n",
       "51111114101     2\n",
       "10000089047     2\n",
       "50308412050     2\n",
       "10000089092     2\n",
       "10000089015     2\n",
       "54180060033     2\n",
       "52740020076     2\n",
       "55150010034     2\n",
       "10000089252     2\n",
       "50813713084     2\n",
       "51780034082     2\n",
       "52100061076     2\n",
       "10000089113     2\n",
       "57050100082     2\n",
       "51600045033     2\n",
       "54420933024     2\n",
       "10000089076     2\n",
       "51111076635     2\n",
       "50000540082     2\n",
       "57050100078     2\n",
       "51785400013     2\n",
       "55004910025     2\n",
       "50004110076     2\n",
       "58978500076     2\n",
       "55000013933     2\n",
       "52700040009     2\n",
       "57218020076     2\n",
       "57255400076     2\n",
       "10000089246     2\n",
       "54900065036     2\n",
       "10000089253     2\n",
       "10000089288     2\n",
       "58087858576     2\n",
       "10000089239     2\n",
       "10000089263     2\n",
       "54263410033     2\n",
       "50813790076     2\n",
       "57144800076     2\n",
       "54300010033     2\n",
       "10000089110     2\n",
       "51800009050     2\n",
       "55150026032     2\n",
       "51330021113     2\n",
       "51780071276     2\n",
       "53000012033     2\n",
       "57105210033     2\n",
       "57756765875     2\n",
       "57940033055     2\n",
       "51111075533     2\n",
       "10000089133     2\n",
       "10000085491     2\n",
       "53500035050     2\n",
       "54589399275     2\n",
       "10000089284     2\n",
       "51440050055     2\n",
       "53450050033     2\n",
       "10000085370     2\n",
       "57265526076     2\n",
       "51800050033     2\n",
       "54369530042     2\n",
       "55150054075     2\n",
       "57320210076     2\n",
       "10000089053     2\n",
       "51780061082     2\n",
       "10000089064     2\n",
       "57756765876     2\n",
       "10000089081     2\n",
       "10000085320     2\n",
       "54850011076     2\n",
       "10000085484     2\n",
       "54589314178     2\n",
       "53700020076     2\n",
       "51111078555     2\n",
       "51380041313     2\n",
       "54400000033     2\n",
       "10000089077     2\n",
       "57800000033     2\n",
       "57410101082     2\n",
       "51111120078     2\n",
       "50813700076     2\n",
       "50008710076     2\n",
       "50052110076     2\n",
       "57790030032     2\n",
       "51920021576     2\n",
       "58000075224     2\n",
       "54460000050     2\n",
       "51111074175     2\n",
       "53700026850     2\n",
       "51200092776     2\n",
       "53700061674     2\n",
       "51298810078     2\n",
       "56687861776     2\n",
       "10000089316     2\n",
       "55480017133     2\n",
       "10000089272     2\n",
       "53700061076     2\n",
       "57218040076     2\n",
       "54400021032     2\n",
       "10000089277     2\n",
       "54150023150     2\n",
       "54610000075     2\n",
       "51116221076     2\n",
       "10000089127     2\n",
       "55340000082     1\n",
       "53600040087     1\n",
       "10000085367     1\n",
       "54175711040     1\n",
       "51015877076     1\n",
       "53700048051     1\n",
       "55100012007     1\n",
       "53700051551     1\n",
       "51111074635     1\n",
       "58870211150     1\n",
       "55714580087     1\n",
       "51111073935     1\n",
       "51410030033     1\n",
       "52310000076     1\n",
       "10000089305     1\n",
       "51111131075     1\n",
       "54470020031     1\n",
       "55113140076     1\n",
       "51200000033     1\n",
       "54440020034     1\n",
       "50000540076     1\n",
       "51254600014     1\n",
       "54300026124     1\n",
       "51111081540     1\n",
       "51111122076     1\n",
       "10000089032     1\n",
       "51111070424     1\n",
       "54450052251     1\n",
       "57033040050     1\n",
       "57007451076     1\n",
       "10000089131     1\n",
       "10000089082     1\n",
       "10000089278     1\n",
       "54759930033     1\n",
       "50834600078     1\n",
       "51700310076     1\n",
       "10000085373     1\n",
       "10000089040     1\n",
       "10000089079     1\n",
       "52100054076     1\n",
       "52100061176     1\n",
       "54134500033     1\n",
       "10000089108     1\n",
       "50004510078     1\n",
       "10000089269     1\n",
       "52100023020     1\n",
       "57455024450     1\n",
       "51111111175     1\n",
       "51111081160     1\n",
       "10000089259     1\n",
       "10000089044     1\n",
       "57084400050     1\n",
       "53600000001     1\n",
       "57790000032     1\n",
       "57294010013     1\n",
       "52038210082     1\n",
       "53663271277     1\n",
       "10000089109     1\n",
       "54300021057     1\n",
       "10000089006     1\n",
       "55000034042     1\n",
       "10000089276     1\n",
       "53600011082     1\n",
       "10000089304     1\n",
       "54610000076     1\n",
       "10000089049     1\n",
       "50834620078     1\n",
       "51780031082     1\n",
       "55000035282     1\n",
       "57910070076     1\n",
       "52529311476     1\n",
       "10000089300     1\n",
       "51410010050     1\n",
       "53400061150     1\n",
       "51800015033     1\n",
       "51011913593     1\n",
       "57027722976     1\n",
       "54900020032     1\n",
       "57143030076     1\n",
       "53770000076     1\n",
       "10000089302     1\n",
       "57103800077     1\n",
       "52840000051     1\n",
       "53800087950     1\n",
       "51254711078     1\n",
       "57218022076     1\n",
       "55100043133     1\n",
       "57008510075     1\n",
       "10000089123     1\n",
       "55000035576     1\n",
       "51780034078     1\n",
       "52920000042     1\n",
       "10000089319     1\n",
       "56261260075     1\n",
       "55703710075     1\n",
       "57790000075     1\n",
       "51500059033     1\n",
       "57007461076     1\n",
       "52400060032     1\n",
       "51111070142     1\n",
       "53810077076     1\n",
       "54850010009     1\n",
       "57127930075     1\n",
       "54180000033     1\n",
       "10000089136     1\n",
       "54589314175     1\n",
       "50800490036     1\n",
       "53500029075     1\n",
       "51380061733     1\n",
       "54900000032     1\n",
       "51111074232     1\n",
       "52300021041     1\n",
       "10000089048     1\n",
       "51090044076     1\n",
       "54116500036     1\n",
       "57124960082     1\n",
       "51111071124     1\n",
       "57214010082     1\n",
       "51952131178     1\n",
       "10000089020     1\n",
       "10000089250     1\n",
       "57023000076     1\n",
       "51111074642     1\n",
       "54000016333     1\n",
       "57033030076     1\n",
       "10000089244     1\n",
       "10000089240     1\n",
       "51111124078     1\n",
       "10000085368     1\n",
       "51800000033     1\n",
       "51111008650     1\n",
       "53700012075     1\n",
       "10000089135     1\n",
       "53600050042     1\n",
       "52500060033     1\n",
       "51380020033     1\n",
       "52500010033     1\n",
       "52277610055     1\n",
       "10000085486     1\n",
       "10000089101     1\n",
       "57455024475     1\n",
       "55942700087     1\n",
       "54900065051     1\n",
       "57940062040     1\n",
       "51111121078     1\n",
       "57007440087     1\n",
       "10000089023     1\n",
       "53760084282     1\n",
       "54100027009     1\n",
       "51910011176     1\n",
       "10000089019     1\n",
       "54589353178     1\n",
       "10000089257     1\n",
       "57294010033     1\n",
       "53377610033     1\n",
       "51266950076     1\n",
       "10000089038     1\n",
       "51111037250     1\n",
       "54589300078     1\n",
       "54300080075     1\n",
       "10000089285     1\n",
       "52100041013     1\n",
       "55420811176     1\n",
       "50004518076     1\n",
       "54460011776     1\n",
       "50008130078     1\n",
       "10000089051     1\n",
       "10000089055     1\n",
       "50308412076     1\n",
       "57680000025     1\n",
       "52100026075     1\n",
       "51530011350     1\n",
       "57218050076     1\n",
       "10000089102     1\n",
       "58304613450     1\n",
       "54589399277     1\n",
       "10000089045     1\n",
       "52260010055     1\n",
       "54100011675     1\n",
       "50057331082     1\n",
       "53076800082     1\n",
       "10000089013     1\n",
       "52840000075     1\n",
       "53700016682     1\n",
       "51809461078     1\n",
       "51958211075     1\n",
       "52310030076     1\n",
       "53760073676     1\n",
       "10000089265     1\n",
       "55000035213     1\n",
       "10000089026     1\n",
       "57800000032     1\n",
       "51111076669     1\n",
       "10000089046     1\n",
       "54740018078     1\n",
       "10000089125     1\n",
       "54300016033     1\n",
       "51111074242     1\n",
       "10000089306     1\n",
       "55100055008     1\n",
       "51111037233     1\n",
       "51111070150     1\n",
       "10000089271     1\n",
       "10000089078     1\n",
       "10000089270     1\n",
       "50004510076     1\n",
       "52150000050     1\n",
       "54589321176     1\n",
       "57490414076     1\n",
       "54200060033     1\n",
       "52819011176     1\n",
       "52920000028     1\n",
       "10000089084     1\n",
       "51450050050     1\n",
       "53700021125     1\n",
       "51113240041     1\n",
       "55928320070     1\n",
       "54110030074     1\n",
       "10000089283     1\n",
       "Name: count, dtype: int64"
      ]
     },
     "execution_count": 34,
     "metadata": {},
     "output_type": "execute_result"
    }
   ],
   "source": [
    "# Count the number of occurrences of each unique value in the 'COUPON_UPC' column of the DataFrame 'coupon_redempt\n",
    "coupon_redempt['COUPON_UPC'].value_counts()"
   ]
  },
  {
   "cell_type": "code",
   "execution_count": 35,
   "id": "b404211c-cf20-41f0-a283-d3bca2177ba5",
   "metadata": {},
   "outputs": [
    {
     "data": {
      "text/plain": [
       "array([ 8, 18,  5, 11, 10, 13, 22, 20, 26, 30,  4,  9, 23, 19, 17, 25, 14,\n",
       "       29,  1,  7, 16,  2, 27, 24, 15, 12, 21,  6,  3, 28], dtype=int64)"
      ]
     },
     "execution_count": 35,
     "metadata": {},
     "output_type": "execute_result"
    }
   ],
   "source": [
    "# Display unique values in the 'CAMPAIGN' column of the DataFrame 'coupon_redempt'\n",
    "coupon_redempt['CAMPAIGN'].unique()"
   ]
  },
  {
   "cell_type": "markdown",
   "id": "b582d184-8b95-43c3-a356-983967a6410e",
   "metadata": {},
   "source": [
    "# hh_demographic Table:"
   ]
  },
  {
   "cell_type": "code",
   "execution_count": 183,
   "id": "a7d41338-dde4-4058-a597-294dd792db9b",
   "metadata": {},
   "outputs": [
    {
     "data": {
      "text/plain": [
       "AGE_DESC               0\n",
       "MARITAL_STATUS_CODE    0\n",
       "INCOME_DESC            0\n",
       "HOMEOWNER_DESC         0\n",
       "HH_COMP_DESC           0\n",
       "HOUSEHOLD_SIZE_DESC    0\n",
       "KID_CATEGORY_DESC      0\n",
       "household_key          0\n",
       "dtype: int64"
      ]
     },
     "execution_count": 183,
     "metadata": {},
     "output_type": "execute_result"
    }
   ],
   "source": [
    "hh_demographic.isnull().sum()"
   ]
  },
  {
   "cell_type": "code",
   "execution_count": 36,
   "id": "1a2db8ae-9db5-4bcc-aebc-c3d7da289697",
   "metadata": {},
   "outputs": [
    {
     "name": "stdout",
     "output_type": "stream",
     "text": [
      "<class 'pandas.core.frame.DataFrame'>\n",
      "RangeIndex: 801 entries, 0 to 800\n",
      "Data columns (total 8 columns):\n",
      " #   Column               Non-Null Count  Dtype \n",
      "---  ------               --------------  ----- \n",
      " 0   AGE_DESC             801 non-null    object\n",
      " 1   MARITAL_STATUS_CODE  801 non-null    object\n",
      " 2   INCOME_DESC          801 non-null    object\n",
      " 3   HOMEOWNER_DESC       801 non-null    object\n",
      " 4   HH_COMP_DESC         801 non-null    object\n",
      " 5   HOUSEHOLD_SIZE_DESC  801 non-null    object\n",
      " 6   KID_CATEGORY_DESC    801 non-null    object\n",
      " 7   household_key        801 non-null    int64 \n",
      "dtypes: int64(1), object(7)\n",
      "memory usage: 50.2+ KB\n"
     ]
    }
   ],
   "source": [
    "# Display concise summary of the DataFrame 'hh_demographic'\n",
    "hh_demographic.info()"
   ]
  },
  {
   "cell_type": "code",
   "execution_count": 37,
   "id": "04bcb3be-ce8c-40d4-90b8-fb381f40e1a2",
   "metadata": {},
   "outputs": [
    {
     "data": {
      "text/plain": [
       "array(['65+', '45-54', '25-34', '35-44', '19-24', '55-64'], dtype=object)"
      ]
     },
     "execution_count": 37,
     "metadata": {},
     "output_type": "execute_result"
    }
   ],
   "source": [
    "# Display unique values in the 'AGE_DESC' column of the DataFrame 'hh_demographic'\n",
    "hh_demographic['AGE_DESC'].unique()"
   ]
  },
  {
   "cell_type": "code",
   "execution_count": 39,
   "id": "52482439-bb24-4a61-b34a-c3b6060fb2e6",
   "metadata": {},
   "outputs": [
    {
     "data": {
      "image/png": "[encoded data removed]",
      "text/plain": [
       "<Figure size 800x400 with 1 Axes>"
      ]
     },
     "metadata": {},
     "output_type": "display_data"
    }
   ],
   "source": [
    "import seaborn as sns  \n",
    "import matplotlib.pyplot as plt  \n",
    "\n",
    "# Create a figure with a specified size (10 inches by 6 inches)\n",
    "plt.figure(figsize=(8, 4))\n",
    "\n",
    "# Create a count plot using Seaborn to display the count of each unique value in the 'AGE_DESC' column\n",
    "sns.countplot(data=hh_demographic, x='AGE_DESC', palette='Set2')  \n",
    "\n",
    "plt.title('Count Plot of Age Descriptions')\n",
    "\n",
    "plt.xlabel('Age Range')\n",
    "\n",
    "plt.ylabel('Count')\n",
    "\n",
    "plt.show()\n"
   ]
  },
  {
   "cell_type": "code",
   "execution_count": 40,
   "id": "6c072006-78a1-4268-a334-f8bba8312ec9",
   "metadata": {},
   "outputs": [],
   "source": [
    "#Observations"
   ]
  },
  {
   "cell_type": "code",
   "execution_count": 41,
   "id": "54412f04-8c40-407e-8d9d-bb04b32529eb",
   "metadata": {},
   "outputs": [
    {
     "data": {
      "text/plain": [
       "array(['A', 'U', 'B'], dtype=object)"
      ]
     },
     "execution_count": 41,
     "metadata": {},
     "output_type": "execute_result"
    }
   ],
   "source": [
    "# Display unique values in the 'MARITAL_STATUS_CODE' column of the DataFrame 'hh_demographic'\n",
    "hh_demographic['MARITAL_STATUS_CODE'].unique()"
   ]
  },
  {
   "cell_type": "code",
   "execution_count": 42,
   "id": "f0531dca-f41d-4f28-9aeb-f6628a70202c",
   "metadata": {},
   "outputs": [],
   "source": [
    "\n",
    "# Replace values in the 'MARITAL_STATUS_CODE' column of the DataFrame 'hh_demographic' with descriptive labels\n",
    "\n",
    "# Replace 'A' with 'Married' in the 'MARITAL_STATUS_CODE' column\n",
    "hh_demographic['MARITAL_STATUS_CODE'].replace('A', 'Married', inplace=True)\n",
    "\n",
    "# Replace 'U' with 'Unknown' in the 'MARITAL_STATUS_CODE' column\n",
    "hh_demographic['MARITAL_STATUS_CODE'].replace('U', 'Unknown', inplace=True)\n",
    "\n",
    "# Replace 'B' with 'Single' in the 'MARITAL_STATUS_CODE' column\n",
    "hh_demographic['MARITAL_STATUS_CODE'].replace('B', 'Single', inplace=True)\n"
   ]
  },
  {
   "cell_type": "code",
   "execution_count": 44,
   "id": "0cf4047f-41de-4550-8a81-daad38a6429e",
   "metadata": {},
   "outputs": [
    {
     "data": {
      "image/png": "[encoded data removed]",
      "text/plain": [
       "<Figure size 800x400 with 1 Axes>"
      ]
     },
     "metadata": {},
     "output_type": "display_data"
    }
   ],
   "source": [
    "plt.figure(figsize=(8, 4))\n",
    "# Create a count plot using Seaborn to display the count of each unique value in the 'MARITAL_STATUS_CODE' column\n",
    "sns.countplot(data=hh_demographic, x='MARITAL_STATUS_CODE', palette='Set2')\n",
    "plt.title('Count Plot of Age Descriptions')\n",
    "plt.xlabel('MARITAL_STATUS_CODE')\n",
    "plt.ylabel('Count')\n",
    "plt.show()"
   ]
  },
  {
   "cell_type": "code",
   "execution_count": 45,
   "id": "f322f58b-5871-4d16-b99e-b8cb2d0c83bc",
   "metadata": {},
   "outputs": [
    {
     "data": {
      "text/plain": [
       "array(['35-49K', '50-74K', '25-34K', '75-99K', 'Under 15K', '100-124K',\n",
       "       '15-24K', '125-149K', '150-174K', '250K+', '175-199K', '200-249K'],\n",
       "      dtype=object)"
      ]
     },
     "execution_count": 45,
     "metadata": {},
     "output_type": "execute_result"
    }
   ],
   "source": [
    "# Display unique values in the 'INCOME_DESC' column of the DataFrame 'hh_demographic'\n",
    "hh_demographic['INCOME_DESC'].unique()"
   ]
  },
  {
   "cell_type": "code",
   "execution_count": 46,
   "id": "054b5d54-7355-49a5-864a-13829aed7d6b",
   "metadata": {},
   "outputs": [
    {
     "data": {
      "image/png": "[encoded data removed]",
      "text/plain": [
       "<Figure size 900x500 with 1 Axes>"
      ]
     },
     "metadata": {},
     "output_type": "display_data"
    }
   ],
   "source": [
    "# Create a count plot using Seaborn to display the count of each unique value in the 'INCOME_DESC' column\n",
    "plt.figure(figsize=(9, 5))\n",
    "sns.countplot(data=hh_demographic, x='INCOME_DESC', palette='Set2')\n",
    "plt.title('Count Plot of Income Descriptions')\n",
    "plt.xlabel('INCOME_DESC')\n",
    "plt.ylabel('Count')\n",
    "plt.show()"
   ]
  },
  {
   "cell_type": "code",
   "execution_count": 47,
   "id": "c8cbfed5-7e8b-4517-9a06-8205514d2890",
   "metadata": {},
   "outputs": [
    {
     "data": {
      "text/plain": [
       "array(['Homeowner', 'Unknown', 'Renter', 'Probable Renter',\n",
       "       'Probable Owner'], dtype=object)"
      ]
     },
     "execution_count": 47,
     "metadata": {},
     "output_type": "execute_result"
    }
   ],
   "source": [
    "# Display unique values in the 'HOMEOWNER_DESC' column of the DataFrame 'hh_demographic'\n",
    "hh_demographic['HOMEOWNER_DESC'].unique()"
   ]
  },
  {
   "cell_type": "code",
   "execution_count": 50,
   "id": "796e3317-1a06-494e-9a70-23278035ebd5",
   "metadata": {},
   "outputs": [
    {
     "data": {
      "image/png": "[encoded data removed]",
      "text/plain": [
       "<Figure size 1000x400 with 1 Axes>"
      ]
     },
     "metadata": {},
     "output_type": "display_data"
    }
   ],
   "source": [
    "# Create a count plot using Seaborn to display the count of each unique value in the 'HOMEOWNER_DESC' column\n",
    "plt.figure(figsize=(10, 4))\n",
    "sns.countplot(data=hh_demographic, x='HOMEOWNER_DESC', palette='Set1')\n",
    "plt.title('Count Plot of HOMEOWNER Descriptions')\n",
    "plt.xlabel('HOMEOWNER_DESC')\n",
    "plt.ylabel('Count')\n",
    "plt.show()"
   ]
  },
  {
   "cell_type": "code",
   "execution_count": 51,
   "id": "21c1e93d-20ce-4e69-a0b5-c22a9307a07e",
   "metadata": {},
   "outputs": [
    {
     "data": {
      "text/plain": [
       "array(['2 Adults No Kids', '2 Adults Kids', 'Single Female', 'Unknown',\n",
       "       'Single Male', '1 Adult Kids'], dtype=object)"
      ]
     },
     "execution_count": 51,
     "metadata": {},
     "output_type": "execute_result"
    }
   ],
   "source": [
    "# Display unique values in the 'HH_COMP_DESC' column of the DataFrame 'hh_demographic'\n",
    "hh_demographic['HH_COMP_DESC'].unique()"
   ]
  },
  {
   "cell_type": "code",
   "execution_count": 52,
   "id": "8f8cbe78-01d8-406e-bc6f-6c99f837862b",
   "metadata": {},
   "outputs": [
    {
     "data": {
      "image/png": "[encoded data removed]",
      "text/plain": [
       "<Figure size 1000x500 with 1 Axes>"
      ]
     },
     "metadata": {},
     "output_type": "display_data"
    }
   ],
   "source": [
    "# Create a count plot using Seaborn to display the count of each unique value in the 'HH_COMP_DESC' column\n",
    "plt.figure(figsize=(10, 5))\n",
    "sns.countplot(data=hh_demographic, x='HH_COMP_DESC', palette='Set1')\n",
    "plt.title('Count Plot of HH_COMP_DESC Descriptions')\n",
    "plt.xlabel('HH_COMP_DESC')\n",
    "plt.ylabel('Count')\n",
    "plt.show()"
   ]
  },
  {
   "cell_type": "code",
   "execution_count": 53,
   "id": "b789519f-6485-41c1-8f78-9697ee57c78f",
   "metadata": {},
   "outputs": [
    {
     "data": {
      "text/plain": [
       "array(['2', '3', '4', '1', '5+'], dtype=object)"
      ]
     },
     "execution_count": 53,
     "metadata": {},
     "output_type": "execute_result"
    }
   ],
   "source": [
    "# Display unique values in the 'HOUSEHOLD_SIZE_DESC' column of the DataFrame 'hh_demographic'\n",
    "hh_demographic['HOUSEHOLD_SIZE_DESC'].unique()"
   ]
  },
  {
   "cell_type": "code",
   "execution_count": 54,
   "id": "03331d98-c37b-4ec7-9505-6abb3fb1dcc6",
   "metadata": {},
   "outputs": [
    {
     "data": {
      "image/png": "[encoded data removed]",
      "text/plain": [
       "<Figure size 1000x500 with 1 Axes>"
      ]
     },
     "metadata": {},
     "output_type": "display_data"
    }
   ],
   "source": [
    "# Create a count plot using Seaborn to display the count of each unique value in the 'HOUSEHOLD_SIZE_DESC' column\n",
    "plt.figure(figsize=(10, 5))\n",
    "sns.countplot(data=hh_demographic, x='HOUSEHOLD_SIZE_DESC', palette='Set1')\n",
    "plt.title('Count Plot of HOUSEHOLD_SIZE_DESC Descriptions')\n",
    "plt.xlabel('HOUSEHOLD_SIZE_DESC')\n",
    "plt.ylabel('Count')\n",
    "plt.show()"
   ]
  },
  {
   "cell_type": "code",
   "execution_count": 55,
   "id": "e721fd8a-ffed-4723-a306-f4ae34ec64ad",
   "metadata": {},
   "outputs": [
    {
     "data": {
      "text/plain": [
       "array(['None/Unknown', '1', '2', '3+'], dtype=object)"
      ]
     },
     "execution_count": 55,
     "metadata": {},
     "output_type": "execute_result"
    }
   ],
   "source": [
    "# Display unique values in the 'KID_CATEGORY_DESC' column of the DataFrame 'hh_demographic'\n",
    "hh_demographic['KID_CATEGORY_DESC'].unique()"
   ]
  },
  {
   "cell_type": "code",
   "execution_count": 56,
   "id": "5b568a47-a1d2-40df-ac77-a30a3e4f29e3",
   "metadata": {},
   "outputs": [
    {
     "data": {
      "image/png": "[encoded data removed]",
      "text/plain": [
       "<Figure size 1000x500 with 1 Axes>"
      ]
     },
     "metadata": {},
     "output_type": "display_data"
    }
   ],
   "source": [
    "# Create a count plot using Seaborn to display the count of each unique value in the 'KID_CATEGORY_DESC' column\n",
    "plt.figure(figsize=(10, 5))\n",
    "sns.countplot(data=hh_demographic, x='KID_CATEGORY_DESC', palette='Set1')\n",
    "plt.title('Count Plot of KID_CATEGORY_DESC Descriptions')\n",
    "plt.xlabel('KID_CATEGORY_DESC')\n",
    "plt.ylabel('Count')\n",
    "plt.show()"
   ]
  },
  {
   "cell_type": "code",
   "execution_count": 57,
   "id": "ed7b821c-82d8-4c13-8712-d19ef5a344db",
   "metadata": {},
   "outputs": [
    {
     "data": {
      "text/plain": [
       "array([   1,    7,    8,   13,   16,   17,   18,   19,   20,   22,   25,\n",
       "         27,   31,   39,   40,   42,   43,   46,   48,   49,   52,   55,\n",
       "         56,   57,   58,   67,   71,   74,   77,   78,   80,   85,   86,\n",
       "         97,   98,  101,  104,  105,  109,  110,  113,  114,  117,  118,\n",
       "        119,  121,  123,  127,  131,  133,  134,  136,  139,  149,  155,\n",
       "        157,  158,  159,  161,  164,  165,  166,  170,  178,  184,  192,\n",
       "        193,  198,  201,  208,  209,  211,  212,  214,  216,  218,  219,\n",
       "        220,  221,  222,  230,  232,  235,  239,  242,  243,  248,  249,\n",
       "        250,  253,  256,  257,  263,  264,  276,  281,  282,  283,  289,\n",
       "        290,  294,  300,  301,  302,  304,  306,  309,  314,  317,  319,\n",
       "        321,  324,  325,  329,  332,  334,  346,  350,  351,  353,  354,\n",
       "        358,  361,  362,  367,  370,  371,  377,  378,  381,  383,  385,\n",
       "        386,  387,  389,  390,  391,  392,  395,  400,  404,  409,  410,\n",
       "        411,  412,  413,  417,  418,  426,  428,  432,  434,  437,  438,\n",
       "        441,  442,  443,  451,  454,  456,  458,  460,  462,  464,  469,\n",
       "        473,  483,  484,  485,  489,  490,  491,  492,  493,  510,  513,\n",
       "        518,  523,  526,  527,  534,  540,  542,  543,  546,  548,  553,\n",
       "        560,  567,  569,  574,  575,  576,  578,  582,  583,  586,  588,\n",
       "        593,  595,  596,  597,  598,  601,  605,  606,  607,  608,  609,\n",
       "        614,  621,  622,  623,  624,  630,  631,  644,  647,  660,  661,\n",
       "        670,  671,  672,  675,  680,  682,  685,  688,  690,  692,  693,\n",
       "        695,  696,  699,  706,  707,  708,  712,  714,  715,  716,  718,\n",
       "        722,  725,  731,  732,  733,  740,  741,  742,  748,  752,  753,\n",
       "        755,  761,  762,  764,  766,  768,  770,  771,  779,  784,  785,\n",
       "        786,  787,  788,  790,  797,  800,  802,  803,  806,  808,  816,\n",
       "        817,  823,  825,  831,  840,  844,  845,  852,  853,  856,  857,\n",
       "        859,  863,  864,  865,  866,  867,  868,  871,  875,  878,  879,\n",
       "        882,  883,  886,  888,  889,  895,  898,  900,  903,  906,  908,\n",
       "        911,  914,  915,  920,  922,  926,  929,  932,  934,  939,  941,\n",
       "        946,  947,  949,  955,  956,  960,  968,  971,  973,  976,  979,\n",
       "        981,  982,  983,  986,  992,  993,  996,  997, 1001, 1003, 1004,\n",
       "       1012, 1014, 1015, 1018, 1020, 1021, 1024, 1031, 1038, 1040, 1041,\n",
       "       1042, 1045, 1053, 1057, 1060, 1062, 1066, 1069, 1070, 1074, 1076,\n",
       "       1081, 1082, 1084, 1091, 1094, 1103, 1113, 1120, 1123, 1128, 1130,\n",
       "       1131, 1135, 1137, 1138, 1142, 1146, 1147, 1151, 1154, 1158, 1159,\n",
       "       1160, 1163, 1164, 1166, 1167, 1169, 1172, 1174, 1175, 1178, 1179,\n",
       "       1186, 1188, 1190, 1197, 1218, 1219, 1222, 1226, 1228, 1229, 1234,\n",
       "       1236, 1240, 1247, 1248, 1256, 1257, 1258, 1260, 1261, 1263, 1264,\n",
       "       1267, 1268, 1270, 1272, 1285, 1291, 1296, 1297, 1299, 1300, 1305,\n",
       "       1306, 1316, 1318, 1321, 1326, 1333, 1337, 1352, 1354, 1357, 1363,\n",
       "       1364, 1367, 1369, 1370, 1376, 1378, 1382, 1388, 1389, 1391, 1393,\n",
       "       1394, 1396, 1397, 1402, 1412, 1418, 1419, 1421, 1423, 1425, 1428,\n",
       "       1429, 1430, 1437, 1438, 1443, 1445, 1451, 1452, 1453, 1454, 1461,\n",
       "       1462, 1467, 1468, 1470, 1474, 1475, 1479, 1481, 1483, 1484, 1485,\n",
       "       1488, 1491, 1492, 1494, 1499, 1505, 1509, 1517, 1524, 1527, 1528,\n",
       "       1529, 1534, 1536, 1537, 1540, 1541, 1545, 1549, 1556, 1557, 1563,\n",
       "       1566, 1567, 1568, 1572, 1578, 1580, 1585, 1588, 1591, 1595, 1604,\n",
       "       1609, 1618, 1627, 1631, 1633, 1634, 1648, 1649, 1650, 1653, 1662,\n",
       "       1676, 1677, 1678, 1680, 1686, 1689, 1692, 1693, 1694, 1695, 1696,\n",
       "       1707, 1708, 1709, 1710, 1720, 1722, 1726, 1740, 1745, 1748, 1749,\n",
       "       1751, 1753, 1759, 1762, 1764, 1765, 1775, 1778, 1779, 1785, 1788,\n",
       "       1791, 1795, 1796, 1797, 1800, 1802, 1803, 1804, 1812, 1814, 1815,\n",
       "       1816, 1820, 1822, 1823, 1829, 1831, 1833, 1834, 1841, 1844, 1845,\n",
       "       1847, 1848, 1850, 1858, 1861, 1864, 1865, 1869, 1873, 1879, 1892,\n",
       "       1894, 1896, 1899, 1901, 1907, 1911, 1914, 1917, 1919, 1920, 1921,\n",
       "       1923, 1926, 1927, 1928, 1929, 1931, 1935, 1937, 1939, 1944, 1946,\n",
       "       1948, 1949, 1953, 1955, 1962, 1964, 1965, 1975, 1976, 1979, 1980,\n",
       "       1982, 1985, 1989, 1990, 1995, 1997, 2002, 2004, 2006, 2007, 2011,\n",
       "       2012, 2013, 2017, 2018, 2020, 2023, 2024, 2030, 2040, 2041, 2050,\n",
       "       2053, 2057, 2058, 2062, 2063, 2064, 2068, 2069, 2070, 2076, 2082,\n",
       "       2084, 2085, 2086, 2087, 2088, 2092, 2094, 2097, 2100, 2102, 2107,\n",
       "       2110, 2111, 2112, 2115, 2116, 2119, 2121, 2123, 2124, 2129, 2130,\n",
       "       2133, 2134, 2140, 2147, 2148, 2154, 2156, 2158, 2162, 2168, 2172,\n",
       "       2173, 2179, 2181, 2182, 2183, 2184, 2185, 2186, 2188, 2190, 2193,\n",
       "       2194, 2198, 2199, 2200, 2203, 2208, 2209, 2217, 2221, 2224, 2231,\n",
       "       2233, 2234, 2235, 2237, 2243, 2250, 2252, 2254, 2260, 2264, 2266,\n",
       "       2269, 2272, 2279, 2280, 2282, 2284, 2292, 2294, 2295, 2296, 2298,\n",
       "       2300, 2302, 2305, 2307, 2312, 2314, 2317, 2318, 2322, 2324, 2328,\n",
       "       2330, 2331, 2334, 2337, 2341, 2342, 2343, 2347, 2351, 2359, 2360,\n",
       "       2361, 2364, 2367, 2370, 2374, 2376, 2378, 2380, 2390, 2393, 2397,\n",
       "       2400, 2405, 2406, 2407, 2411, 2420, 2421, 2426, 2427, 2432, 2435,\n",
       "       2437, 2445, 2446, 2447, 2448, 2449, 2453, 2455, 2465, 2467, 2479,\n",
       "       2483, 2486, 2488, 2489, 2494, 2496, 2497, 2498, 2499], dtype=int64)"
      ]
     },
     "execution_count": 57,
     "metadata": {},
     "output_type": "execute_result"
    }
   ],
   "source": [
    "# Display unique values in the 'household_key' column of the DataFrame 'hh_demographic'\n",
    "hh_demographic['household_key'].unique()"
   ]
  },
  {
   "cell_type": "markdown",
   "id": "d75c3769-b3b1-47e5-82ca-b16cdc1e2f95",
   "metadata": {},
   "source": [
    "# Product Table:"
   ]
  },
  {
   "cell_type": "code",
   "execution_count": 184,
   "id": "250df208-50bb-4490-905e-85dcb48ef2b0",
   "metadata": {},
   "outputs": [
    {
     "data": {
      "text/plain": [
       "PRODUCT_ID                0\n",
       "MANUFACTURER              0\n",
       "DEPARTMENT                0\n",
       "BRAND                     0\n",
       "COMMODITY_DESC            0\n",
       "SUB_COMMODITY_DESC        0\n",
       "Coupon_Provided           0\n",
       "Target                48220\n",
       "dtype: int64"
      ]
     },
     "execution_count": 184,
     "metadata": {},
     "output_type": "execute_result"
    }
   ],
   "source": [
    "product.isnull().sum()"
   ]
  },
  {
   "cell_type": "code",
   "execution_count": 58,
   "id": "c4ad1b80-8db1-4965-862f-5b2ccfc75c86",
   "metadata": {},
   "outputs": [
    {
     "name": "stdout",
     "output_type": "stream",
     "text": [
      "<class 'pandas.core.frame.DataFrame'>\n",
      "RangeIndex: 92353 entries, 0 to 92352\n",
      "Data columns (total 7 columns):\n",
      " #   Column                Non-Null Count  Dtype \n",
      "---  ------                --------------  ----- \n",
      " 0   PRODUCT_ID            92353 non-null  int64 \n",
      " 1   MANUFACTURER          92353 non-null  int64 \n",
      " 2   DEPARTMENT            92353 non-null  object\n",
      " 3   BRAND                 92353 non-null  object\n",
      " 4   COMMODITY_DESC        92353 non-null  object\n",
      " 5   SUB_COMMODITY_DESC    92353 non-null  object\n",
      " 6   CURR_SIZE_OF_PRODUCT  92353 non-null  object\n",
      "dtypes: int64(2), object(5)\n",
      "memory usage: 4.9+ MB\n"
     ]
    }
   ],
   "source": [
    "# Display information about the 'product' DataFrame\n",
    "product.info()"
   ]
  },
  {
   "cell_type": "code",
   "execution_count": 59,
   "id": "590745d9-fb0b-463a-b84e-ddc4a77e1778",
   "metadata": {},
   "outputs": [
    {
     "data": {
      "text/plain": [
       "array([   25671,    26081,    26093, ..., 18293696, 18294080, 18316298],\n",
       "      dtype=int64)"
      ]
     },
     "execution_count": 59,
     "metadata": {},
     "output_type": "execute_result"
    }
   ],
   "source": [
    "# Display unique values in the 'PRODUCT_ID' column of the DataFrame 'product'\n",
    "product['PRODUCT_ID'].unique()"
   ]
  },
  {
   "cell_type": "code",
   "execution_count": 60,
   "id": "9e645ad3-fcf3-4def-9196-d727d08ebea9",
   "metadata": {},
   "outputs": [
    {
     "data": {
      "text/plain": [
       "array([   2,   69,   16, ..., 2748, 4868, 2227], dtype=int64)"
      ]
     },
     "execution_count": 60,
     "metadata": {},
     "output_type": "execute_result"
    }
   ],
   "source": [
    "# Display unique values in the 'MANUFACTURER' column of the DataFrame 'product'\n",
    "product['MANUFACTURER'].unique()"
   ]
  },
  {
   "cell_type": "code",
   "execution_count": 61,
   "id": "ff0af21b-7c71-4a59-851a-69247740b4b7",
   "metadata": {},
   "outputs": [
    {
     "data": {
      "text/plain": [
       "array(['GROCERY', 'MISC. TRANS.', 'PASTRY', 'DRUG GM', 'MEAT-PCKGD',\n",
       "       'SEAFOOD-PCKGD', 'PRODUCE', 'NUTRITION', 'DELI', 'COSMETICS',\n",
       "       'MEAT', 'FLORAL', 'TRAVEL & LEISUR', 'SEAFOOD', 'MISC SALES TRAN',\n",
       "       'SALAD BAR', 'KIOSK-GAS', 'ELECT &PLUMBING', 'GRO BAKERY',\n",
       "       'GM MERCH EXP', 'FROZEN GROCERY', 'COUP/STR & MFG', 'SPIRITS',\n",
       "       'GARDEN CENTER', 'TOYS', 'CHARITABLE CONT', 'RESTAURANT', 'RX',\n",
       "       'PROD-WHS SALES', 'MEAT-WHSE', 'DAIRY DELI', 'CHEF SHOPPE', 'HBC',\n",
       "       'DELI/SNACK BAR', 'PORK', 'AUTOMOTIVE', 'VIDEO RENTAL', ' ',\n",
       "       'CNTRL/STORE SUP', 'HOUSEWARES', 'POSTAL CENTER', 'PHOTO', 'VIDEO',\n",
       "       'PHARMACY SUPPLY'], dtype=object)"
      ]
     },
     "execution_count": 61,
     "metadata": {},
     "output_type": "execute_result"
    }
   ],
   "source": [
    "# Display unique values in the 'DEPARTMENT' column of the DataFrame 'product'\n",
    "product['DEPARTMENT'].unique()"
   ]
  },
  {
   "cell_type": "code",
   "execution_count": 62,
   "id": "e9d0cccb-a3ee-439f-a786-a215df02529a",
   "metadata": {},
   "outputs": [],
   "source": [
    "# Replace empty or whitespace values in the 'DEPARTMENT' column with 'Unknown'\n",
    "product['DEPARTMENT'].replace(\" \",'Unknown',inplace=True)"
   ]
  },
  {
   "cell_type": "code",
   "execution_count": 63,
   "id": "7d22910a-47bb-45c1-9d0c-88da8392931e",
   "metadata": {},
   "outputs": [
    {
     "data": {
      "text/plain": [
       "DEPARTMENT\n",
       "GROCERY            39021\n",
       "DRUG GM            31529\n",
       "PRODUCE             3118\n",
       "COSMETICS           3011\n",
       "NUTRITION           2914\n",
       "MEAT                2544\n",
       "MEAT-PCKGD          2427\n",
       "DELI                2354\n",
       "PASTRY              2149\n",
       "FLORAL               938\n",
       "SEAFOOD-PCKGD        563\n",
       "MISC. TRANS.         490\n",
       "SPIRITS              377\n",
       "SEAFOOD              369\n",
       "GARDEN CENTER        128\n",
       "RESTAURANT           102\n",
       "MISC SALES TRAN       88\n",
       "SALAD BAR             48\n",
       "COUP/STR & MFG        39\n",
       "TRAVEL & LEISUR       28\n",
       "FROZEN GROCERY        23\n",
       "KIOSK-GAS             16\n",
       "Unknown               15\n",
       "CHEF SHOPPE           14\n",
       "RX                     9\n",
       "CNTRL/STORE SUP        4\n",
       "DAIRY DELI             3\n",
       "TOYS                   3\n",
       "POSTAL CENTER          3\n",
       "GM MERCH EXP           3\n",
       "VIDEO RENTAL           3\n",
       "AUTOMOTIVE             2\n",
       "PHOTO                  2\n",
       "VIDEO                  2\n",
       "PROD-WHS SALES         2\n",
       "DELI/SNACK BAR         2\n",
       "CHARITABLE CONT        2\n",
       "GRO BAKERY             2\n",
       "PORK                   1\n",
       "HBC                    1\n",
       "MEAT-WHSE              1\n",
       "HOUSEWARES             1\n",
       "ELECT &PLUMBING        1\n",
       "PHARMACY SUPPLY        1\n",
       "Name: count, dtype: int64"
      ]
     },
     "execution_count": 63,
     "metadata": {},
     "output_type": "execute_result"
    }
   ],
   "source": [
    "# Display the count of unique values in the 'DEPARTMENT' column of the DataFrame 'product'\n",
    "product['DEPARTMENT'].value_counts()"
   ]
  },
  {
   "cell_type": "code",
   "execution_count": 64,
   "id": "54a5bfb8-78fc-49c1-8770-21cfb27622db",
   "metadata": {},
   "outputs": [
    {
     "data": {
      "text/plain": [
       "array(['National', 'Private'], dtype=object)"
      ]
     },
     "execution_count": 64,
     "metadata": {},
     "output_type": "execute_result"
    }
   ],
   "source": [
    "# Display unique values in the 'BRAND' column of the DataFrame 'product'\n",
    "product['BRAND'].unique()"
   ]
  },
  {
   "cell_type": "code",
   "execution_count": 65,
   "id": "ecbac8d6-4e17-44f8-a382-80cb86e2ebe3",
   "metadata": {},
   "outputs": [
    {
     "data": {
      "image/png": "[encoded data removed]",
      "text/plain": [
       "<Figure size 1000x500 with 1 Axes>"
      ]
     },
     "metadata": {},
     "output_type": "display_data"
    }
   ],
   "source": [
    "# Create a pie chart to visualize the distribution of brands\n",
    "brand_counts = product['BRAND'].value_counts()\n",
    "\n",
    "plt.figure(figsize=(10, 5))\n",
    "plt.pie(brand_counts, labels=brand_counts.index, autopct='%1.1f%%', startangle=140)\n",
    "plt.title('Distribution of Brands')\n",
    "plt.show()\n"
   ]
  },
  {
   "cell_type": "code",
   "execution_count": 66,
   "id": "ef5c7e01-922a-4fed-8be5-45a2ad47a8fc",
   "metadata": {},
   "outputs": [
    {
     "data": {
      "text/plain": [
       "array(['FRZN ICE', 'NO COMMODITY DESCRIPTION', 'BREAD',\n",
       "       'FRUIT - SHELF STABLE', 'COOKIES/CONES', 'SPICES & EXTRACTS',\n",
       "       'VITAMINS', 'BREAKFAST SWEETS', 'PNT BTR/JELLY/JAMS',\n",
       "       'ICE CREAM/MILK/SHERBTS', 'MAGAZINE', 'AIR CARE', 'CHEESE',\n",
       "       'SHORTENING/OIL', 'COFFEE', 'DIETARY AID PRODUCTS',\n",
       "       'PAPER HOUSEWARES', 'BAKED BREAD/BUNS/ROLLS',\n",
       "       'VEGETABLES - SHELF STABLE', 'HISPANIC', 'DINNER MXS:DRY',\n",
       "       'CONDIMENTS/SAUCES', 'FRZN VEGETABLE/VEG DSH', 'BAKING NEEDS',\n",
       "       'DINNER SAUSAGE', 'FRZN FRUITS', 'SEAFOOD - FROZEN',\n",
       "       'HOUSEHOLD CLEANG NEEDS', 'FD WRAPS/BAGS/TRSH BG',\n",
       "       'DRY MIX DESSERTS', 'PICKLE/RELISH/PKLD VEG', 'CAKES',\n",
       "       'BAKING MIXES', 'POTATOES', 'FLUID MILK PRODUCTS', 'SOUP',\n",
       "       'BAKED SWEET GOODS', 'COOKIES', 'DRY BN/VEG/POTATO/RICE',\n",
       "       'FACIAL TISS/DNR NAPKIN', 'FROZEN PIZZA', 'EGGS',\n",
       "       'REFRGRATD DOUGH PRODUCTS', 'HOT CEREAL', 'COLD CEREAL',\n",
       "       'SUGARS/SWEETNERS', 'SEAFOOD - SHELF STABLE', 'POPCORN',\n",
       "       'CANNED JUICES', 'STATIONERY & SCHOOL SUPPLIES', 'COLD AND FLU',\n",
       "       'BABY HBC', 'BAG SNACKS', 'BEANS - CANNED GLASS & MW',\n",
       "       'FROZEN MEAT', 'SOAP - LIQUID & BAR', 'ROLLS',\n",
       "       'NON-DAIRY BEVERAGES', 'KITCHEN GADGETS', 'CRACKERS/MISC BKD FD',\n",
       "       'CONVENIENT BRKFST/WHLSM SNACKS', 'CHIPS&SNACKS',\n",
       "       'CANDY - PACKAGED', 'SOFT DRINKS', 'HAIR CARE PRODUCTS',\n",
       "       'CANDY - CHECKLANE', 'BUTTER', 'FRZN MEAT/MEAT DINNERS',\n",
       "       'SHAVING CARE PRODUCTS', 'WATER - CARBONATED/FLVRD DRINK',\n",
       "       'FRZN BREAKFAST FOODS', 'MILK BY-PRODUCTS', 'FIRST AID PRODUCTS',\n",
       "       'NEWSPAPER', 'SALADS/DIPS', 'INSECTICIDES',\n",
       "       'ORGANICS FRUIT & VEGETABLES', 'ELECTRICAL SUPPPLIES',\n",
       "       'LAUNDRY DETERGENTS', 'JUICE', 'ISOTONIC DRINKS',\n",
       "       'FRZN JCE CONC/DRNKS', 'LAUNDRY ADDITIVES',\n",
       "       'IRONING AND CHEMICALS', 'TEAS', 'DRY NOODLES/PASTA',\n",
       "       'PASTA SAUCE', 'PROCESSED', 'MAKEUP AND TREATMENT', 'ANALGESICS',\n",
       "       'HOSIERY/SOCKS', 'CAT FOOD', 'BATTERIES',\n",
       "       'MOLASSES/SYRUP/PANCAKE MIXS', 'BOOKSTORE', 'BATH TISSUES',\n",
       "       'FROZEN PIE/DESSERTS', 'MEAT - SHELF STABLE', 'MEAT - MISC',\n",
       "       'SPRING/SUMMER SEASONAL', 'LUNCHMEAT',\n",
       "       'BREAKFAST SAUSAGE/SANDWICHES', 'DRIED FRUIT',\n",
       "       'CHARCOAL AND LIGHTER FLUID', 'SALD DRSNG/SNDWCH SPRD', 'LIQUOR',\n",
       "       'FROZEN BREAD/DOUGH', 'HAND/BODY/FACIAL PRODUCTS', 'SNACK NUTS',\n",
       "       'ORAL HYGIENE PRODUCTS', 'BEERS/ALES', 'INFANT FORMULA',\n",
       "       'REFRGRATD JUICES/DRNKS', 'YOGURT', 'DEODORANTS', 'BACON',\n",
       "       'DOG FOODS', 'FRZN NOVELTIES/WTR ICE', 'FEMININE HYGIENE',\n",
       "       'COFFEE FILTERS', 'BROOMS AND MOPS',\n",
       "       'GREETING CARDS/WRAP/PARTY SPLY', 'WAREHOUSE SNACKS',\n",
       "       'DRY SAUCES/GRAVY', 'MARGARINES', 'PWDR/CRYSTL DRNK MX', 'OLIVES',\n",
       "       'MISC. DAIRY', 'COCOA MIXES', 'SALAD MIX', 'HARDWARE SUPPLIES',\n",
       "       'HOT DOGS', 'FLOUR & MEALS', 'SYRUPS/TOPPINGS', 'ANTACIDS',\n",
       "       'BLEACH', 'PAPER TOWELS', 'STONE FRUIT', 'MELONS', 'BERRIES',\n",
       "       'CHICKEN', 'SANDWICHES', 'GRAPES', 'CARROTS', 'APPLES', 'HERBS',\n",
       "       'CIGARETTES', 'HEAT/SERVE', 'BABY FOODS', 'SQUASH',\n",
       "       'VEGETABLES - ALL OTHERS', 'DELI MEATS', 'BEEF', 'FRZN POTATOES',\n",
       "       'CORN', 'CHEESES', 'MISCELLANEOUS', 'CITRUS', 'FROZEN',\n",
       "       'DISHWASH DETERGENTS', 'SWEET GOODS & SNACKS', 'NUTS',\n",
       "       'TROPICAL FRUIT', 'CHICKEN/POULTRY', 'BROCCOLI/CAULIFLOWER',\n",
       "       'SINUS AND ALLERGY', 'MUSHROOMS', 'CANNED MILK', 'ONIONS',\n",
       "       'INFANT CARE PRODUCTS', 'TURKEY', 'WATER', 'CAT LITTER',\n",
       "       'SEAFOOD-FRESH', 'PIES', 'TOBACCO OTHER', 'SEAFOOD - MISC',\n",
       "       'FILM AND CAMERA PRODUCTS', 'PEPPERS-ALL', 'PLASTIC HOUSEWARES',\n",
       "       'FOOT CARE PRODUCTS', 'SHOE CARE', 'FIREWORKS',\n",
       "       'FLORAL-FLOWERING PLANTS', 'SUNTAN', 'CEREAL/BREAKFAST',\n",
       "       'CANDLES/ACCESSORIES', 'COOKWARE & BAKEWARE',\n",
       "       'DISPOSIBLE FOILWARE', 'FLORAL-FRESH CUT', 'VEGETABLES SALAD',\n",
       "       'AUDIO/VIDEO PRODUCTS', 'REFRIGERATED', 'FROZEN CHICKEN',\n",
       "       'SMOKED MEATS', 'VALUE ADDED VEGETABLES',\n",
       "       'EYE AND EAR CARE PRODUCTS', 'SNKS/CKYS/CRKR/CNDY',\n",
       "       'FLORAL BALLOONS', 'AUTOMOTIVE PRODUCTS', 'LAXATIVES',\n",
       "       'DOMESTIC WINE', 'MISC WINE', 'OVERNIGHT PHOTOFINISHING',\n",
       "       'TOMATOES', 'PEARS', 'FITNESS&DIET', 'BATH', 'COUPON/MISC ITEMS',\n",
       "       'PORK', 'PERSONAL CARE APPLIANCES', 'CONDIMENTS', 'BEVERAGE',\n",
       "       'SNACKS', 'VALUE ADDED FRUIT', 'SALAD BAR',\n",
       "       'HAIR CARE ACCESSORIES', 'DIAPERS & DISPOSABLES',\n",
       "       'SMOKING CESSATIONS', 'FUEL', 'PREPARED FOOD', 'PET CARE SUPPLIES',\n",
       "       'COFFEE SHOP', 'COUPON', '(CORP USE ONLY)', 'ROSES',\n",
       "       'PROD SUPPLIES', 'J-HOOKS', 'RICE CAKES', 'LAMB', 'IMPORTED WINE',\n",
       "       'UNKNOWN', 'DELI SPECIALTIES (RETAIL PK)', 'PREPARED/PKGD FOODS',\n",
       "       'FAMILY PLANNING', 'EASTER', 'CIGARS', 'PACKAGED NATURAL SNACKS',\n",
       "       'FLORAL-FOLIAGE PLANTS', 'MISCELLANEOUS CROUTONS',\n",
       "       'COUPONS/STORE & MFG', 'APPAREL', 'PREPAID WIRELESS&ACCESSORIES',\n",
       "       'HOME FREEZING & CANNING SUPPLY', 'IN-STORE PHOTOFINISHING',\n",
       "       'ADULT INCONTINENCE', 'PARTY TRAYS', 'DOMESTIC GOODS',\n",
       "       'FALL AND WINTER SEASONAL', 'TOYS AND GAMES',\n",
       "       'LAWN AND GARDEN SHOP', 'GLASSWARE & DINNERWARE', 'BAKING',\n",
       "       'RESTRICTED DIET', 'FRAGRANCES', 'HALLOWEEN', 'BAKERY PARTY TRAYS',\n",
       "       'SEWING', 'NATURAL HBC', 'BIRD SEED', 'GARDEN CENTER',\n",
       "       'COSMETIC ACCESSORIES', 'ETHNIC PERSONAL CARE',\n",
       "       'GLASSES/VISION AIDS', 'FLORAL- HARD GOODS', 'BABYFOOD', 'TOYS',\n",
       "       'CHRISTMAS  SEASONAL', 'COFFEE SHOP SWEET GOODS&RETAIL',\n",
       "       'DRY TEA/COFFEE/COCO MIX', 'VEAL', 'CONTINUITIES',\n",
       "       'PORTABLE ELECTRIC APPLIANCES', 'VALENTINE',\n",
       "       'FROZEN - BOXED(GROCERY)', 'SERVICE BEVERAGE',\n",
       "       'GIFT & FRUIT BASKETS', 'SUSHI', 'PROPANE', 'FRZN SEAFOOD',\n",
       "       'HOME FURNISHINGS', 'PHARMACY', 'NATURAL VITAMINS',\n",
       "       'DELI SUPPLIES', 'WATCHES/CALCULATORS/LOBBY', 'SEASONAL',\n",
       "       'BOUQUET (NON ROSE)', 'HOME HEALTH CARE',\n",
       "       'RW FRESH PROCESSED MEAT', 'EXOTIC GAME/FOWL',\n",
       "       'NDAIRY/TEAS/JUICE/SOD', 'TICKETS', 'MEAT SUPPLIES', 'NEW AGE',\n",
       "       'FLORAL-ACCESSORIES', 'EASTER LILY', 'MISCELLANEOUS HBC',\n",
       "       'BULK FOODS', 'NON EDIBLE PRODUCTS', 'QUICK SERVICE',\n",
       "       'BOTTLE DEPOSITS', ' ', 'DOLLAR VALUE PRODUCTS',\n",
       "       'MISCELLANEOUS(CORP USE ONLY)', 'SPORTS MEMORABLILIA',\n",
       "       'LONG DISTANCE CALLING CARDS', 'PKG.SEAFOOD MISC',\n",
       "       'FROZEN PACKAGE MEAT'], dtype=object)"
      ]
     },
     "execution_count": 66,
     "metadata": {},
     "output_type": "execute_result"
    }
   ],
   "source": [
    "# Display unique values in the 'COMMODITY_DESC' column of the DataFrame 'product'\n",
    "product['COMMODITY_DESC'].unique()"
   ]
  },
  {
   "cell_type": "code",
   "execution_count": 67,
   "id": "f6c31f7a-17b9-4bdb-b6a1-237a3499bd07",
   "metadata": {},
   "outputs": [
    {
     "data": {
      "text/plain": [
       "array(['ICE - CRUSHED/CUBED', 'NO SUBCOMMODITY DESCRIPTION',\n",
       "       'BREAD:ITALIAN/FRENCH', ..., 'SEMI MOIST CAT FOOD: BOX',\n",
       "       'BERRIES OTHER', 'ROSES OTHER'], dtype=object)"
      ]
     },
     "execution_count": 67,
     "metadata": {},
     "output_type": "execute_result"
    }
   ],
   "source": [
    "# Display unique values in the 'SUB_COMMODITY_DESC' column of the DataFrame 'product'\n",
    "product['SUB_COMMODITY_DESC'].unique()"
   ]
  },
  {
   "cell_type": "code",
   "execution_count": 68,
   "id": "b537bbbd-472d-4ce2-965e-134aa26ff429",
   "metadata": {},
   "outputs": [
    {
     "data": {
      "text/plain": [
       "array(['22 LB', ' ', '50 OZ', ..., '6.3 IN', '35 LD', '2 LTR PET'],\n",
       "      dtype=object)"
      ]
     },
     "execution_count": 68,
     "metadata": {},
     "output_type": "execute_result"
    }
   ],
   "source": [
    "# Display unique values in the 'CURR_SIZE_OF_PRODUCT' column of the DataFrame 'product'\n",
    "product['CURR_SIZE_OF_PRODUCT'].unique()"
   ]
  },
  {
   "cell_type": "code",
   "execution_count": 69,
   "id": "d7f12737-8895-4506-9b9c-99c83ed7516f",
   "metadata": {},
   "outputs": [
    {
     "data": {
      "text/html": [
       "<div>\n",
       "<style scoped>\n",
       "    .dataframe tbody tr th:only-of-type {\n",
       "        vertical-align: middle;\n",
       "    }\n",
       "\n",
       "    .dataframe tbody tr th {\n",
       "        vertical-align: top;\n",
       "    }\n",
       "\n",
       "    .dataframe thead th {\n",
       "        text-align: right;\n",
       "    }\n",
       "</style>\n",
       "<table border=\"1\" class=\"dataframe\">\n",
       "  <thead>\n",
       "    <tr style=\"text-align: right;\">\n",
       "      <th></th>\n",
       "      <th>PRODUCT_ID</th>\n",
       "      <th>MANUFACTURER</th>\n",
       "      <th>DEPARTMENT</th>\n",
       "      <th>BRAND</th>\n",
       "      <th>COMMODITY_DESC</th>\n",
       "      <th>SUB_COMMODITY_DESC</th>\n",
       "      <th>CURR_SIZE_OF_PRODUCT</th>\n",
       "    </tr>\n",
       "  </thead>\n",
       "  <tbody>\n",
       "    <tr>\n",
       "      <th>0</th>\n",
       "      <td>25671</td>\n",
       "      <td>2</td>\n",
       "      <td>GROCERY</td>\n",
       "      <td>National</td>\n",
       "      <td>FRZN ICE</td>\n",
       "      <td>ICE - CRUSHED/CUBED</td>\n",
       "      <td>22 LB</td>\n",
       "    </tr>\n",
       "    <tr>\n",
       "      <th>1</th>\n",
       "      <td>26081</td>\n",
       "      <td>2</td>\n",
       "      <td>MISC. TRANS.</td>\n",
       "      <td>National</td>\n",
       "      <td>NO COMMODITY DESCRIPTION</td>\n",
       "      <td>NO SUBCOMMODITY DESCRIPTION</td>\n",
       "      <td></td>\n",
       "    </tr>\n",
       "    <tr>\n",
       "      <th>2</th>\n",
       "      <td>26093</td>\n",
       "      <td>69</td>\n",
       "      <td>PASTRY</td>\n",
       "      <td>Private</td>\n",
       "      <td>BREAD</td>\n",
       "      <td>BREAD:ITALIAN/FRENCH</td>\n",
       "      <td></td>\n",
       "    </tr>\n",
       "    <tr>\n",
       "      <th>3</th>\n",
       "      <td>26190</td>\n",
       "      <td>69</td>\n",
       "      <td>GROCERY</td>\n",
       "      <td>Private</td>\n",
       "      <td>FRUIT - SHELF STABLE</td>\n",
       "      <td>APPLE SAUCE</td>\n",
       "      <td>50 OZ</td>\n",
       "    </tr>\n",
       "    <tr>\n",
       "      <th>4</th>\n",
       "      <td>26355</td>\n",
       "      <td>69</td>\n",
       "      <td>GROCERY</td>\n",
       "      <td>Private</td>\n",
       "      <td>COOKIES/CONES</td>\n",
       "      <td>SPECIALTY COOKIES</td>\n",
       "      <td>14 OZ</td>\n",
       "    </tr>\n",
       "  </tbody>\n",
       "</table>\n",
       "</div>"
      ],
      "text/plain": [
       "   PRODUCT_ID  MANUFACTURER    DEPARTMENT     BRAND            COMMODITY_DESC  \\\n",
       "0       25671             2       GROCERY  National                  FRZN ICE   \n",
       "1       26081             2  MISC. TRANS.  National  NO COMMODITY DESCRIPTION   \n",
       "2       26093            69        PASTRY   Private                     BREAD   \n",
       "3       26190            69       GROCERY   Private      FRUIT - SHELF STABLE   \n",
       "4       26355            69       GROCERY   Private             COOKIES/CONES   \n",
       "\n",
       "            SUB_COMMODITY_DESC CURR_SIZE_OF_PRODUCT  \n",
       "0          ICE - CRUSHED/CUBED                22 LB  \n",
       "1  NO SUBCOMMODITY DESCRIPTION                       \n",
       "2         BREAD:ITALIAN/FRENCH                       \n",
       "3                  APPLE SAUCE                50 OZ  \n",
       "4            SPECIALTY COOKIES                14 OZ  "
      ]
     },
     "execution_count": 69,
     "metadata": {},
     "output_type": "execute_result"
    }
   ],
   "source": [
    "# Display the first few rows of the 'product' DataFrame to get an overview of the data\n",
    "product.head()"
   ]
  },
  {
   "cell_type": "markdown",
   "id": "5a0e9330-c5ee-4efc-be90-f995b99fb8e7",
   "metadata": {},
   "source": [
    "# Transaction_data Table:"
   ]
  },
  {
   "cell_type": "code",
   "execution_count": 185,
   "id": "9e58d0e1-74a1-4fb9-95fd-ccec0e0c1c05",
   "metadata": {},
   "outputs": [
    {
     "data": {
      "text/plain": [
       "household_key        0\n",
       "BASKET_ID            0\n",
       "DAY                  0\n",
       "PRODUCT_ID           0\n",
       "QUANTITY             0\n",
       "SALES_VALUE          0\n",
       "STORE_ID             0\n",
       "RETAIL_DISC          0\n",
       "TRANS_TIME           0\n",
       "WEEK_NO              0\n",
       "COUPON_DISC          0\n",
       "COUPON_MATCH_DISC    0\n",
       "dtype: int64"
      ]
     },
     "execution_count": 185,
     "metadata": {},
     "output_type": "execute_result"
    }
   ],
   "source": [
    "transaction_data.isnull().sum()"
   ]
  },
  {
   "cell_type": "code",
   "execution_count": 70,
   "id": "5a493476-4bcd-4dc9-8234-f3abc7db4d81",
   "metadata": {},
   "outputs": [
    {
     "name": "stdout",
     "output_type": "stream",
     "text": [
      "<class 'pandas.core.frame.DataFrame'>\n",
      "RangeIndex: 2595732 entries, 0 to 2595731\n",
      "Data columns (total 12 columns):\n",
      " #   Column             Dtype  \n",
      "---  ------             -----  \n",
      " 0   household_key      int64  \n",
      " 1   BASKET_ID          int64  \n",
      " 2   DAY                int64  \n",
      " 3   PRODUCT_ID         int64  \n",
      " 4   QUANTITY           int64  \n",
      " 5   SALES_VALUE        float64\n",
      " 6   STORE_ID           int64  \n",
      " 7   RETAIL_DISC        float64\n",
      " 8   TRANS_TIME         int64  \n",
      " 9   WEEK_NO            int64  \n",
      " 10  COUPON_DISC        float64\n",
      " 11  COUPON_MATCH_DISC  float64\n",
      "dtypes: float64(4), int64(8)\n",
      "memory usage: 237.6 MB\n"
     ]
    }
   ],
   "source": [
    "# Display information about the 'transaction_data' DataFrame\n",
    "transaction_data.info()"
   ]
  },
  {
   "cell_type": "code",
   "execution_count": 71,
   "id": "f5407eb9-89c3-4147-ba07-ad5c9788e27a",
   "metadata": {},
   "outputs": [
    {
     "data": {
      "text/plain": [
       "array([2375, 1364, 1130, ..., 1581, 1984, 2325], dtype=int64)"
      ]
     },
     "execution_count": 71,
     "metadata": {},
     "output_type": "execute_result"
    }
   ],
   "source": [
    "# Display unique values in the 'household_key' column of the DataFrame 'transaction_data'\n",
    "transaction_data['household_key'].unique()"
   ]
  },
  {
   "cell_type": "code",
   "execution_count": 72,
   "id": "d1eb1358-4881-4915-93df-8e33d6087778",
   "metadata": {},
   "outputs": [
    {
     "data": {
      "text/plain": [
       "array([26984851472, 26984851516, 26984896261, ..., 42302712298,\n",
       "       42305362497, 42305362535], dtype=int64)"
      ]
     },
     "execution_count": 72,
     "metadata": {},
     "output_type": "execute_result"
    }
   ],
   "source": [
    "# Display unique values in the 'BASKET_ID' column of the DataFrame 'transaction_data'\n",
    "transaction_data['BASKET_ID'].unique()"
   ]
  },
  {
   "cell_type": "code",
   "execution_count": 73,
   "id": "4efd837d-d2b0-421f-92c8-d321084fc783",
   "metadata": {},
   "outputs": [
    {
     "data": {
      "text/plain": [
       "array([  1,   2,   3,   4,   5,   6,   7,   8,   9,  10,  11,  12,  13,\n",
       "        14,  15,  16,  17,  18,  19,  20,  21,  22,  23,  24,  25,  26,\n",
       "        27,  28,  29,  30,  31,  32,  33,  34,  35,  36,  37,  38,  39,\n",
       "        40,  41,  42,  43,  44,  45,  46,  47,  48,  49,  50,  51,  52,\n",
       "        53,  54,  55,  56,  57,  58,  59,  60,  61,  62,  63,  64,  65,\n",
       "        66,  67,  68,  69,  70,  71,  72,  73,  74,  75,  76,  77,  78,\n",
       "        79,  80,  81,  82,  83,  84,  85,  86,  87,  88,  89,  90,  91,\n",
       "        92,  93,  94,  95,  96,  97,  98,  99, 100, 101, 102, 103, 104,\n",
       "       105, 106, 107, 108, 109, 110, 111, 112, 113, 114, 115, 116, 117,\n",
       "       118, 119, 120, 121, 122, 123, 124, 125, 126, 127, 128, 129, 130,\n",
       "       131, 132, 133, 134, 135, 136, 137, 138, 139, 140, 141, 142, 143,\n",
       "       144, 145, 146, 147, 148, 149, 150, 151, 152, 153, 154, 155, 156,\n",
       "       157, 158, 159, 160, 161, 162, 163, 164, 165, 166, 167, 168, 169,\n",
       "       170, 171, 172, 173, 174, 175, 176, 177, 178, 179, 180, 181, 182,\n",
       "       183, 184, 185, 186, 187, 188, 189, 190, 191, 192, 193, 194, 195,\n",
       "       196, 197, 198, 199, 200, 201, 203, 202, 204, 205, 206, 207, 208,\n",
       "       209, 210, 211, 212, 213, 214, 215, 216, 217, 218, 219, 220, 221,\n",
       "       222, 223, 224, 225, 226, 227, 228, 239, 238, 240, 229, 230, 232,\n",
       "       231, 233, 234, 235, 236, 237, 241, 242, 243, 244, 245, 246, 247,\n",
       "       248, 249, 250, 251, 252, 253, 254, 255, 256, 257, 258, 259, 260,\n",
       "       261, 262, 263, 264, 265, 266, 267, 268, 269, 270, 271, 272, 273,\n",
       "       274, 275, 276, 277, 278, 279, 280, 281, 282, 283, 284, 285, 286,\n",
       "       287, 288, 289, 290, 291, 292, 293, 294, 295, 296, 297, 298, 299,\n",
       "       300, 301, 302, 303, 304, 305, 306, 307, 308, 309, 311, 310, 312,\n",
       "       313, 314, 315, 316, 317, 318, 319, 320, 321, 322, 323, 324, 325,\n",
       "       326, 327, 328, 329, 330, 331, 332, 333, 334, 335, 336, 337, 338,\n",
       "       339, 340, 341, 342, 343, 344, 345, 346, 347, 348, 349, 350, 351,\n",
       "       352, 353, 354, 355, 356, 357, 358, 359, 360, 361, 362, 363, 364,\n",
       "       365, 366, 367, 368, 369, 370, 371, 372, 373, 374, 375, 376, 377,\n",
       "       378, 379, 380, 381, 382, 383, 384, 385, 386, 387, 388, 389, 390,\n",
       "       391, 392, 393, 394, 395, 396, 397, 398, 399, 400, 401, 402, 403,\n",
       "       404, 405, 406, 407, 408, 409, 410, 411, 412, 413, 414, 415, 416,\n",
       "       417, 418, 419, 420, 421, 422, 423, 424, 425, 426, 427, 428, 429,\n",
       "       430, 431, 432, 433, 434, 435, 436, 437, 438, 439, 440, 441, 442,\n",
       "       443, 444, 445, 446, 447, 449, 450, 453, 448, 451, 452, 454, 455,\n",
       "       456, 457, 459, 458, 460, 461, 462, 463, 464, 465, 466, 467, 468,\n",
       "       469, 470, 471, 472, 473, 474, 475, 476, 477, 478, 479, 480, 481,\n",
       "       482, 483, 484, 485, 486, 487, 488, 489, 490, 491, 492, 493, 494,\n",
       "       497, 498, 495, 496, 499, 500, 501, 502, 503, 504, 505, 506, 507,\n",
       "       508, 509, 510, 511, 512, 513, 514, 515, 516, 517, 518, 519, 520,\n",
       "       521, 522, 523, 524, 525, 526, 527, 528, 529, 530, 531, 532, 533,\n",
       "       534, 535, 536, 537, 538, 539, 540, 541, 542, 543, 544, 545, 546,\n",
       "       547, 548, 549, 550, 551, 552, 553, 554, 555, 556, 557, 558, 559,\n",
       "       560, 561, 562, 563, 564, 565, 566, 567, 568, 569, 570, 571, 572,\n",
       "       573, 574, 575, 576, 577, 578, 579, 580, 581, 582, 583, 584, 585,\n",
       "       586, 587, 588, 589, 590, 591, 592, 593, 594, 595, 596, 597, 598,\n",
       "       599, 600, 601, 602, 603, 604, 605, 606, 607, 608, 609, 610, 611,\n",
       "       612, 613, 614, 615, 616, 617, 618, 619, 620, 621, 622, 623, 624,\n",
       "       625, 626, 627, 628, 629, 630, 631, 632, 633, 634, 635, 636, 637,\n",
       "       638, 639, 640, 641, 642, 644, 643, 645, 646, 647, 648, 649, 650,\n",
       "       651, 652, 653, 654, 655, 656, 657, 658, 659, 660, 661, 662, 663,\n",
       "       664, 665, 666, 667, 668, 669, 670, 671, 672, 673, 674, 675, 676,\n",
       "       677, 678, 679, 680, 681, 682, 683, 684, 685, 686, 687, 688, 689,\n",
       "       690, 691, 692, 693, 694, 695, 696, 697, 698, 699, 700, 701, 702,\n",
       "       703, 704, 705, 706, 707, 708, 709, 710, 711], dtype=int64)"
      ]
     },
     "execution_count": 73,
     "metadata": {},
     "output_type": "execute_result"
    }
   ],
   "source": [
    "# Display unique values in the 'DAY' column of the DataFrame 'transaction_data'\n",
    "transaction_data['DAY'].unique()"
   ]
  },
  {
   "cell_type": "code",
   "execution_count": 74,
   "id": "7fb3f87f-67b8-41f3-a999-ada047731e83",
   "metadata": {},
   "outputs": [
    {
     "data": {
      "text/plain": [
       "array([ 1.39,  0.82,  0.99, ..., 44.14, 41.09, 33.04])"
      ]
     },
     "execution_count": 74,
     "metadata": {},
     "output_type": "execute_result"
    }
   ],
   "source": [
    "# Display unique values in the 'SALES_VALUE' column of the DataFrame 'transaction_data'\n",
    "transaction_data['SALES_VALUE'].unique()"
   ]
  },
  {
   "cell_type": "code",
   "execution_count": 75,
   "id": "90e8602b-397f-4ffe-8c17-6b834ac7ca0d",
   "metadata": {},
   "outputs": [
    {
     "data": {
      "text/plain": [
       "array([  364, 31742, 31642,   412,   337,   396,   315,   447, 31582,\n",
       "         288,   400,   304,   324,  2602,   440,   286, 31782,   414,\n",
       "         446,   299,   329,   424,   317,   367,   427,   296, 32004,\n",
       "         330,   358,   442,   323,   327,   406,   292,   401,   382,\n",
       "         375,   436,   333,   359,   391,   345,   322,   634,    27,\n",
       "         295,   441,   388,   374,   381,   368,   319,   352,   356,\n",
       "         321,   443,   306,   402,   790,  3313,   408,   384,   439,\n",
       "         422,   310,   370,   320,   298,   363,   379,   403,   341,\n",
       "         313,   420,   438,   334, 31862,   297,   448, 31401,   410,\n",
       "         433,   563,   445,   300,   421,   318,   380,   555,   362,\n",
       "         372,   361,   450,   354,   311,   339,   355,   316,   289,\n",
       "         483,   389,   309,   340, 31762,   293,   369,   432,   429,\n",
       "         338,   366,  3217,   360,   365,   498,   566,   335,   346,\n",
       "        2915,  3262,  2866,   404,   678,     1,    46,   569,  2865,\n",
       "        3182,   901,   476,   724,  3131,  3525,   588,   154,  2765,\n",
       "        3439,  1582,  2898,  3398,  2786,  3278,   616,   594,   582,\n",
       "        3287,  3257,  2971,    21,  3036,  3234,  3356,  2839,  2880,\n",
       "         707,  3165,   721,   343,  2779,  3235,   149,   578,   503,\n",
       "        3083,  2841,   669,  2799,  2840,  2807,   486,   673,  3168,\n",
       "         197,  2836,  2804,  3236,   176,  3526,  3334,    77,  2815,\n",
       "         695,  3293,  3124,   732,  3214,  3001,   778,  2748,  2996,\n",
       "        3006,   773,  3076,  3479,   511,   651,  3333,   514,   722,\n",
       "        3242,   542,  2957,  2930,  3027,  3272,  3009,   758,   185,\n",
       "         715,   208,  2933,  2773,   595,  3134,  3417,  2624,   660,\n",
       "        2538,   244,  3468,   577,  3087,  2962,  2991,  3091,  3270,\n",
       "          45,  2941,  2974,  2825,  3191,  3316,   545,   105,  3274,\n",
       "        3126,  2955,   602,  1039,  2887,  2946,   538,  3431,   215,\n",
       "        2529,  3267,  3043,  2888,   854,   752,   627, 31863, 30685,\n",
       "        2981,  3102,  3248,  2875,  2747,  3128,   949,  3238,  3177,\n",
       "         121,  2903,  2966,  2918,  3008,  2761,  2975,   470,   762,\n",
       "         656,   629,  3381,  2661,  1235,  2818,   160, 32124,  2783,\n",
       "        2891,  3294,   134,  2882,   784,  3283,  3233,  2764,  3206,\n",
       "        1252,  1542,  2886,   788,  2676,   743, 31904,  2767,  2852,\n",
       "        2931,  3394,  2816,  3098,  1994,  2762,  3388,  2883,  3013,\n",
       "         751,  3111,  2998,  3210,   984,  1365,  2805,  2768,   580,\n",
       "         604,  3181,  3073,   132,  2942,  3418,  3638,   274,   771,\n",
       "         107,  2972,  2863,  3672,  2848,  1102,   683, 30719,  2849,\n",
       "         622,  3005,  3090,  3000,   523,  3383,  2920,  3553,  2686,\n",
       "         624,  3253,  2817,  3135,  2731,  3251,   795, 31822,   584,\n",
       "        3266,   564,   736,  3710,  3072,  3271,  3149,    65,   219,\n",
       "         687,   278,   543,   256,   704,  2961,  1210,    22,  2980,\n",
       "        2924,  3068,    62,  2937,  3007,  1010,   475,   696,  2900,\n",
       "        3209,  3461,  3297,  3163,  2954,  2873,   501,  2694,   484,\n",
       "        3175,  3465,   677,  3035,  2950,  1433,   887,   589,  1083,\n",
       "        2790,   895,   489,  3141,   714,   625,   644,  1018,  3237,\n",
       "         136,  3024,  3082,  2734,   896,     2,  3382,  2697,  2945,\n",
       "         276,  3060,   706,  3870,  3146,   115,  2858,  3464,  1132,\n",
       "        1247,  1145, 33923,   549,   903,   621,   672,  1027,    55,\n",
       "       33863,  1089,  3298,   189,  2885,   572,   224,    20, 33904,\n",
       "         720,  3517,  2867,    42,  3311,  2774,  3042,  3155,  3319,\n",
       "       32064,  4443,    12,  3064,  2914,  2857,   635,  2879,  3015,\n",
       "         753,  2959,   681,   668,   779,  3112,   128,    84,  1156,\n",
       "         144,   265,   229,   184,   112,   826, 34007,  2869,   698,\n",
       "        2876,   739,    26,   755,  3377,    86,  2919,  2979,   567,\n",
       "         765,  3062, 33843,  1679,  1829,   472,   610,   495,   648,\n",
       "        3478,  2186,  3487,  3065,   178,   528,    37,   574,  3256,\n",
       "        3932,  3327,  2987,  3422, 34011,   227,  3292,   110,   725,\n",
       "         659,  3228,   250, 32269,  4010,   195,  2054,  3092,  3536,\n",
       "        3197,   618,  2698,  2881, 30632,   643,  3101,   220, 30733,\n",
       "         518,   632,   108, 32310, 34016,   415,  3113,  3403,   109,\n",
       "        3390, 31704,   550,  1098,  3851,   203,  1240,    81, 33985,\n",
       "        1162, 34038, 34280,  2760,   776,  3483,    19,   202,  1067,\n",
       "         551,   783,   661,   145,  2743,  3359,   639, 32810,  1547,\n",
       "         535,  3179,   670,   246,  3047,  3385,    53, 34037,  2844,\n",
       "         180,   213,  1128,   411,   576,  1084], dtype=int64)"
      ]
     },
     "execution_count": 75,
     "metadata": {},
     "output_type": "execute_result"
    }
   ],
   "source": [
    "# Display unique values in the 'STORE_ID' column of the DataFrame 'transaction_data'\n",
    "transaction_data['STORE_ID'].unique()"
   ]
  },
  {
   "cell_type": "code",
   "execution_count": 76,
   "id": "10e912a7-d77b-4819-afad-c31efe9083a1",
   "metadata": {},
   "outputs": [
    {
     "data": {
      "text/plain": [
       "array([ -0.6 ,   0.  ,  -0.3 , ..., -21.49, -22.54, -27.02])"
      ]
     },
     "execution_count": 76,
     "metadata": {},
     "output_type": "execute_result"
    }
   ],
   "source": [
    "# Display unique values in the 'RETAIL_DISC' column of the DataFrame 'transaction_data'\n",
    "transaction_data['RETAIL_DISC'].unique()"
   ]
  },
  {
   "cell_type": "code",
   "execution_count": 77,
   "id": "6204452d-5755-4d44-b593-69ee0c8671a2",
   "metadata": {},
   "outputs": [
    {
     "data": {
      "text/plain": [
       "array([1631, 1642, 1520, ...,  307,  313,  433], dtype=int64)"
      ]
     },
     "execution_count": 77,
     "metadata": {},
     "output_type": "execute_result"
    }
   ],
   "source": [
    "# Display unique values in the 'TRANS_TIME' column of the DataFrame 'transaction_data'\n",
    "transaction_data['TRANS_TIME'].unique()"
   ]
  },
  {
   "cell_type": "code",
   "execution_count": 78,
   "id": "10bc2d26-fa5c-453f-8fbf-feb4acd1a8e4",
   "metadata": {},
   "outputs": [
    {
     "data": {
      "text/plain": [
       "array([  1,   2,   3,   4,   5,   6,   7,   8,   9,  10,  11,  12,  13,\n",
       "        14,  15,  16,  17,  18,  19,  20,  21,  22,  23,  24,  25,  26,\n",
       "        27,  28,  29,  30,  31,  32,  33,  35,  34,  36,  37,  38,  39,\n",
       "        40,  41,  42,  43,  44,  45,  46,  47,  48,  49,  50,  51,  52,\n",
       "        53,  54,  55,  56,  57,  58,  59,  60,  61,  62,  63,  64,  65,\n",
       "        66,  67,  68,  69,  70,  71,  72,  73,  74,  75,  76,  77,  78,\n",
       "        79,  80,  81,  82,  83,  84,  85,  86,  87,  88,  89,  90,  91,\n",
       "        92,  93,  94,  95,  96,  97,  98,  99, 100, 101, 102], dtype=int64)"
      ]
     },
     "execution_count": 78,
     "metadata": {},
     "output_type": "execute_result"
    }
   ],
   "source": [
    "# Display unique values in the 'WEEK_NO' column of the DataFrame 'transaction_data'\n",
    "transaction_data['WEEK_NO'].unique()"
   ]
  },
  {
   "cell_type": "code",
   "execution_count": 79,
   "id": "62d3eafd-c38d-4585-9cbb-353e50435f66",
   "metadata": {},
   "outputs": [
    {
     "data": {
      "text/plain": [
       "array([  0.  ,  -1.  ,  -0.4 ,  -0.75,  -0.59,  -0.55,  -2.  ,  -2.25,\n",
       "        -1.1 ,  -0.5 ,  -0.25,  -2.19,  -0.3 ,  -2.89,  -3.  ,  -0.6 ,\n",
       "        -0.35,  -5.  ,  -1.5 ,  -1.29,  -8.75,  -0.99,  -0.34,  -6.  ,\n",
       "        -1.59,  -0.79,  -1.25,  -1.19,  -4.  , -16.  ,  -1.49,  -1.75,\n",
       "        -1.4 ,  -1.05,  -0.74,  -0.45, -11.  ,  -0.7 ,  -0.9 ,  -5.99,\n",
       "        -1.99,  -9.99,  -4.5 ,  -3.99,  -0.49,  -2.5 ,  -1.15,  -3.29,\n",
       "        -0.95,  -4.79,  -0.09,  -1.65,  -3.08,  -3.49,  -2.14,  -0.2 ,\n",
       "        -2.49, -12.  ,  -3.19,  -2.99, -16.99,  -1.98,  -3.25,  -2.88,\n",
       "        -1.24,  -0.88,  -2.1 ,  -2.59,  -2.75, -10.32,  -3.3 ,  -1.69,\n",
       "        -2.2 ,  -1.34,  -3.6 ,  -0.66,  -2.64,  -1.79,  -2.58,  -5.16,\n",
       "        -2.79,  -4.27,  -2.24,  -6.45,  -0.8 ,  -5.5 , -13.94,  -4.99,\n",
       "        -3.5 ,  -9.  , -15.58,  -0.76, -13.98,  -1.76,  -0.15,  -5.75,\n",
       "        -3.48, -13.99,  -2.55,  -3.05,  -2.67,  -8.98,  -0.85,  -8.  ,\n",
       "        -1.66,  -7.99,  -5.98,  -1.09,  -4.19,  -9.75,  -4.29,  -1.7 ,\n",
       "        -1.94, -10.  , -14.39,  -7.  ,  -3.18,  -5.17,  -1.2 ,  -5.19,\n",
       "        -6.28,  -4.59,  -1.55,  -2.69,  -5.49,  -2.65,  -0.65,  -0.78,\n",
       "        -3.1 ,  -4.39,  -3.59,  -3.98,  -0.86,  -7.79,  -4.75,  -5.59,\n",
       "        -0.94,  -6.99,  -1.39,  -0.67,  -1.22,  -2.51,  -1.8 ,  -5.93,\n",
       "        -1.08,  -1.16,  -3.34,  -4.89,  -2.32,  -4.77,  -3.39,  -3.14,\n",
       "        -1.35,  -9.67,  -6.18,  -3.79,  -4.98,  -3.78,  -1.33,  -9.98,\n",
       "        -5.38,  -4.74,  -1.04,  -2.95,  -1.3 ,  -2.77, -29.99,  -8.11,\n",
       "        -8.99,  -2.9 ,  -1.89,  -2.29,  -4.97,  -1.6 ,  -1.67,  -9.38,\n",
       "       -15.49,  -6.58, -14.29,  -6.1 ,  -1.18,  -4.69, -18.  , -20.  ,\n",
       "        -3.35,  -7.49,  -1.88, -11.98,  -3.95,  -7.5 ,  -6.38,  -1.32,\n",
       "        -3.75,  -2.34,  -5.1 , -15.  , -14.58,  -2.84,  -3.15,  -0.69,\n",
       "        -7.38,  -2.38, -13.  ,  -2.8 , -19.99,  -4.34,  -3.38,  -6.49,\n",
       "        -3.69,  -2.33,  -3.2 ,  -4.35,  -6.41,  -6.66,  -2.09,  -4.54,\n",
       "        -2.26,  -4.58,  -6.25,  -4.95,  -2.37,  -6.5 ,  -7.98, -11.99,\n",
       "        -4.01,  -4.49,  -5.13,  -2.39,  -1.9 ,  -6.29,  -6.3 ,  -3.54,\n",
       "       -14.99,  -2.78,  -2.4 , -25.99, -10.97, -55.93,  -6.87,  -9.78,\n",
       "        -8.87,  -2.03,  -1.47,  -2.52,  -1.27,  -2.98,  -1.84, -14.98,\n",
       "        -5.39,  -9.5 ,  -7.67,  -4.67, -16.98,  -4.25,  -6.88,  -5.69,\n",
       "        -5.25, -14.3 ,  -5.85, -14.76,  -9.95,  -4.55, -14.  ,  -2.7 ,\n",
       "        -4.6 ,  -7.96,  -6.75,  -1.95,  -2.68,  -1.12, -11.21, -10.75,\n",
       "       -12.99,  -9.19,  -1.85,  -3.85,  -0.33,  -6.19,  -4.68,  -4.32,\n",
       "        -3.9 ,  -9.24, -12.25,  -1.77,  -1.45,  -2.15,  -1.68,  -2.3 ,\n",
       "        -1.58,  -2.6 ,  -4.17,  -4.36, -37.93, -36.5 , -10.99,  -5.29,\n",
       "        -3.09, -27.  ,  -3.84, -10.28,  -3.58,  -7.29,  -6.05,  -6.6 ,\n",
       "        -4.24, -11.39,  -3.45, -25.98,  -8.39,  -1.21,  -6.59,  -0.1 ,\n",
       "        -6.69, -34.  , -11.89,  -3.4 ,  -7.39,  -1.26,  -1.97, -10.2 ,\n",
       "        -9.88,  -4.8 ,  -6.39,  -6.16,  -6.11,  -0.39,  -0.68, -10.29,\n",
       "        -6.65, -20.99,  -4.15, -30.96,  -9.25,  -3.52,  -2.87,  -5.6 ,\n",
       "        -5.04,  -5.8 ,  -5.44,  -2.97,  -6.24,  -7.19,  -3.17,  -6.27,\n",
       "        -6.96,  -0.89,  -4.07, -29.65,  -0.52,  -3.94, -18.68,  -4.3 ,\n",
       "        -3.74, -17.  ,  -5.43, -18.88,  -2.61,  -2.22,  -5.48,  -1.11,\n",
       "       -10.74,  -4.04,  -0.96,  -2.74,  -3.33, -11.74,  -6.13,  -4.47,\n",
       "        -2.07,  -5.14,  -6.77,  -2.35, -11.75,  -7.25, -21.49,  -5.51,\n",
       "        -9.53,  -8.49, -15.99, -11.49,  -3.89, -31.46,  -8.29,  -8.09,\n",
       "       -15.98,  -9.16, -23.98, -17.99, -11.25,  -6.74,  -4.37,  -8.95,\n",
       "        -0.43, -19.  ,  -4.1 , -12.29, -10.19,  -0.12,  -1.93,  -3.76,\n",
       "        -0.08,  -0.16,  -0.18, -14.25,  -4.33,  -2.92, -15.39, -13.05,\n",
       "        -3.87,  -8.69,  -4.38,  -7.75,  -0.83, -17.24,  -9.49])"
      ]
     },
     "execution_count": 79,
     "metadata": {},
     "output_type": "execute_result"
    }
   ],
   "source": [
    "# Display unique values in the 'COUPON_DISC' column of the DataFrame 'transaction_data'\n",
    "transaction_data['COUPON_DISC'].unique()"
   ]
  },
  {
   "cell_type": "code",
   "execution_count": 80,
   "id": "990e8896-162e-480d-a150-e7bc4a8e64b4",
   "metadata": {},
   "outputs": [
    {
     "name": "stdout",
     "output_type": "stream",
     "text": [
      "Index(['household_key', 'BASKET_ID', 'DAY', 'PRODUCT_ID', 'QUANTITY',\n",
      "       'SALES_VALUE', 'STORE_ID', 'RETAIL_DISC', 'TRANS_TIME', 'WEEK_NO',\n",
      "       'COUPON_DISC', 'COUPON_MATCH_DISC'],\n",
      "      dtype='object')\n"
     ]
    }
   ],
   "source": [
    "# Print the column names of the DataFrame 'transaction_data'\n",
    "print(transaction_data.columns)"
   ]
  },
  {
   "cell_type": "code",
   "execution_count": 81,
   "id": "a6313c86-8909-46cd-87c9-d16ebf22e78f",
   "metadata": {},
   "outputs": [
    {
     "data": {
      "text/html": [
       "<div>\n",
       "<style scoped>\n",
       "    .dataframe tbody tr th:only-of-type {\n",
       "        vertical-align: middle;\n",
       "    }\n",
       "\n",
       "    .dataframe tbody tr th {\n",
       "        vertical-align: top;\n",
       "    }\n",
       "\n",
       "    .dataframe thead th {\n",
       "        text-align: right;\n",
       "    }\n",
       "</style>\n",
       "<table border=\"1\" class=\"dataframe\">\n",
       "  <thead>\n",
       "    <tr style=\"text-align: right;\">\n",
       "      <th></th>\n",
       "      <th>household_key</th>\n",
       "      <th>BASKET_ID</th>\n",
       "      <th>DAY</th>\n",
       "      <th>PRODUCT_ID</th>\n",
       "      <th>QUANTITY</th>\n",
       "      <th>SALES_VALUE</th>\n",
       "      <th>STORE_ID</th>\n",
       "      <th>RETAIL_DISC</th>\n",
       "      <th>TRANS_TIME</th>\n",
       "      <th>WEEK_NO</th>\n",
       "      <th>COUPON_DISC</th>\n",
       "      <th>COUPON_MATCH_DISC</th>\n",
       "    </tr>\n",
       "  </thead>\n",
       "  <tbody>\n",
       "    <tr>\n",
       "      <th>0</th>\n",
       "      <td>2375</td>\n",
       "      <td>26984851472</td>\n",
       "      <td>1</td>\n",
       "      <td>1004906</td>\n",
       "      <td>1</td>\n",
       "      <td>1.39</td>\n",
       "      <td>364</td>\n",
       "      <td>-0.60</td>\n",
       "      <td>1631</td>\n",
       "      <td>1</td>\n",
       "      <td>0.0</td>\n",
       "      <td>0.0</td>\n",
       "    </tr>\n",
       "    <tr>\n",
       "      <th>1</th>\n",
       "      <td>2375</td>\n",
       "      <td>26984851472</td>\n",
       "      <td>1</td>\n",
       "      <td>1033142</td>\n",
       "      <td>1</td>\n",
       "      <td>0.82</td>\n",
       "      <td>364</td>\n",
       "      <td>0.00</td>\n",
       "      <td>1631</td>\n",
       "      <td>1</td>\n",
       "      <td>0.0</td>\n",
       "      <td>0.0</td>\n",
       "    </tr>\n",
       "    <tr>\n",
       "      <th>2</th>\n",
       "      <td>2375</td>\n",
       "      <td>26984851472</td>\n",
       "      <td>1</td>\n",
       "      <td>1036325</td>\n",
       "      <td>1</td>\n",
       "      <td>0.99</td>\n",
       "      <td>364</td>\n",
       "      <td>-0.30</td>\n",
       "      <td>1631</td>\n",
       "      <td>1</td>\n",
       "      <td>0.0</td>\n",
       "      <td>0.0</td>\n",
       "    </tr>\n",
       "    <tr>\n",
       "      <th>3</th>\n",
       "      <td>2375</td>\n",
       "      <td>26984851472</td>\n",
       "      <td>1</td>\n",
       "      <td>1082185</td>\n",
       "      <td>1</td>\n",
       "      <td>1.21</td>\n",
       "      <td>364</td>\n",
       "      <td>0.00</td>\n",
       "      <td>1631</td>\n",
       "      <td>1</td>\n",
       "      <td>0.0</td>\n",
       "      <td>0.0</td>\n",
       "    </tr>\n",
       "    <tr>\n",
       "      <th>4</th>\n",
       "      <td>2375</td>\n",
       "      <td>26984851472</td>\n",
       "      <td>1</td>\n",
       "      <td>8160430</td>\n",
       "      <td>1</td>\n",
       "      <td>1.50</td>\n",
       "      <td>364</td>\n",
       "      <td>-0.39</td>\n",
       "      <td>1631</td>\n",
       "      <td>1</td>\n",
       "      <td>0.0</td>\n",
       "      <td>0.0</td>\n",
       "    </tr>\n",
       "  </tbody>\n",
       "</table>\n",
       "</div>"
      ],
      "text/plain": [
       "   household_key    BASKET_ID  DAY  PRODUCT_ID  QUANTITY  SALES_VALUE  \\\n",
       "0           2375  26984851472    1     1004906         1         1.39   \n",
       "1           2375  26984851472    1     1033142         1         0.82   \n",
       "2           2375  26984851472    1     1036325         1         0.99   \n",
       "3           2375  26984851472    1     1082185         1         1.21   \n",
       "4           2375  26984851472    1     8160430         1         1.50   \n",
       "\n",
       "   STORE_ID  RETAIL_DISC  TRANS_TIME  WEEK_NO  COUPON_DISC  COUPON_MATCH_DISC  \n",
       "0       364        -0.60        1631        1          0.0                0.0  \n",
       "1       364         0.00        1631        1          0.0                0.0  \n",
       "2       364        -0.30        1631        1          0.0                0.0  \n",
       "3       364         0.00        1631        1          0.0                0.0  \n",
       "4       364        -0.39        1631        1          0.0                0.0  "
      ]
     },
     "execution_count": 81,
     "metadata": {},
     "output_type": "execute_result"
    }
   ],
   "source": [
    "# Display the first few rows of the 'transaction_data' DataFrame to get an overview of the data\n",
    "transaction_data.head()"
   ]
  },
  {
   "cell_type": "code",
   "execution_count": 82,
   "id": "1c05190f-38c7-4937-a760-c217cd33fba9",
   "metadata": {},
   "outputs": [
    {
     "data": {
      "text/plain": [
       "92353"
      ]
     },
     "execution_count": 82,
     "metadata": {},
     "output_type": "execute_result"
    }
   ],
   "source": [
    "# Count the number of unique values in the 'PRODUCT_ID' column of the DataFrame 'product'\n",
    "product.PRODUCT_ID.nunique()"
   ]
  },
  {
   "cell_type": "code",
   "execution_count": 83,
   "id": "c4253683-155b-4fda-b3b3-a77b2778a02b",
   "metadata": {},
   "outputs": [
    {
     "data": {
      "text/html": [
       "<div>\n",
       "<style scoped>\n",
       "    .dataframe tbody tr th:only-of-type {\n",
       "        vertical-align: middle;\n",
       "    }\n",
       "\n",
       "    .dataframe tbody tr th {\n",
       "        vertical-align: top;\n",
       "    }\n",
       "\n",
       "    .dataframe thead th {\n",
       "        text-align: right;\n",
       "    }\n",
       "</style>\n",
       "<table border=\"1\" class=\"dataframe\">\n",
       "  <thead>\n",
       "    <tr style=\"text-align: right;\">\n",
       "      <th></th>\n",
       "      <th>PRODUCT_ID</th>\n",
       "      <th>MANUFACTURER</th>\n",
       "      <th>DEPARTMENT</th>\n",
       "      <th>BRAND</th>\n",
       "      <th>COMMODITY_DESC</th>\n",
       "      <th>SUB_COMMODITY_DESC</th>\n",
       "      <th>CURR_SIZE_OF_PRODUCT</th>\n",
       "    </tr>\n",
       "  </thead>\n",
       "  <tbody>\n",
       "    <tr>\n",
       "      <th>0</th>\n",
       "      <td>25671</td>\n",
       "      <td>2</td>\n",
       "      <td>GROCERY</td>\n",
       "      <td>National</td>\n",
       "      <td>FRZN ICE</td>\n",
       "      <td>ICE - CRUSHED/CUBED</td>\n",
       "      <td>22 LB</td>\n",
       "    </tr>\n",
       "    <tr>\n",
       "      <th>1</th>\n",
       "      <td>26081</td>\n",
       "      <td>2</td>\n",
       "      <td>MISC. TRANS.</td>\n",
       "      <td>National</td>\n",
       "      <td>NO COMMODITY DESCRIPTION</td>\n",
       "      <td>NO SUBCOMMODITY DESCRIPTION</td>\n",
       "      <td></td>\n",
       "    </tr>\n",
       "    <tr>\n",
       "      <th>2</th>\n",
       "      <td>26093</td>\n",
       "      <td>69</td>\n",
       "      <td>PASTRY</td>\n",
       "      <td>Private</td>\n",
       "      <td>BREAD</td>\n",
       "      <td>BREAD:ITALIAN/FRENCH</td>\n",
       "      <td></td>\n",
       "    </tr>\n",
       "    <tr>\n",
       "      <th>3</th>\n",
       "      <td>26190</td>\n",
       "      <td>69</td>\n",
       "      <td>GROCERY</td>\n",
       "      <td>Private</td>\n",
       "      <td>FRUIT - SHELF STABLE</td>\n",
       "      <td>APPLE SAUCE</td>\n",
       "      <td>50 OZ</td>\n",
       "    </tr>\n",
       "    <tr>\n",
       "      <th>4</th>\n",
       "      <td>26355</td>\n",
       "      <td>69</td>\n",
       "      <td>GROCERY</td>\n",
       "      <td>Private</td>\n",
       "      <td>COOKIES/CONES</td>\n",
       "      <td>SPECIALTY COOKIES</td>\n",
       "      <td>14 OZ</td>\n",
       "    </tr>\n",
       "  </tbody>\n",
       "</table>\n",
       "</div>"
      ],
      "text/plain": [
       "   PRODUCT_ID  MANUFACTURER    DEPARTMENT     BRAND            COMMODITY_DESC  \\\n",
       "0       25671             2       GROCERY  National                  FRZN ICE   \n",
       "1       26081             2  MISC. TRANS.  National  NO COMMODITY DESCRIPTION   \n",
       "2       26093            69        PASTRY   Private                     BREAD   \n",
       "3       26190            69       GROCERY   Private      FRUIT - SHELF STABLE   \n",
       "4       26355            69       GROCERY   Private             COOKIES/CONES   \n",
       "\n",
       "            SUB_COMMODITY_DESC CURR_SIZE_OF_PRODUCT  \n",
       "0          ICE - CRUSHED/CUBED                22 LB  \n",
       "1  NO SUBCOMMODITY DESCRIPTION                       \n",
       "2         BREAD:ITALIAN/FRENCH                       \n",
       "3                  APPLE SAUCE                50 OZ  \n",
       "4            SPECIALTY COOKIES                14 OZ  "
      ]
     },
     "execution_count": 83,
     "metadata": {},
     "output_type": "execute_result"
    }
   ],
   "source": [
    "# Display the first few rows of the 'product' DataFrame to get an overview of the data\n",
    "product.head()"
   ]
  },
  {
   "cell_type": "code",
   "execution_count": 84,
   "id": "bfaa589c-0423-437a-a35c-b72a8789fc2d",
   "metadata": {},
   "outputs": [
    {
     "data": {
      "text/html": [
       "<div>\n",
       "<style scoped>\n",
       "    .dataframe tbody tr th:only-of-type {\n",
       "        vertical-align: middle;\n",
       "    }\n",
       "\n",
       "    .dataframe tbody tr th {\n",
       "        vertical-align: top;\n",
       "    }\n",
       "\n",
       "    .dataframe thead th {\n",
       "        text-align: right;\n",
       "    }\n",
       "</style>\n",
       "<table border=\"1\" class=\"dataframe\">\n",
       "  <thead>\n",
       "    <tr style=\"text-align: right;\">\n",
       "      <th></th>\n",
       "      <th>COUPON_UPC</th>\n",
       "      <th>PRODUCT_ID</th>\n",
       "      <th>CAMPAIGN</th>\n",
       "    </tr>\n",
       "  </thead>\n",
       "  <tbody>\n",
       "    <tr>\n",
       "      <th>0</th>\n",
       "      <td>10000089061</td>\n",
       "      <td>27160</td>\n",
       "      <td>4</td>\n",
       "    </tr>\n",
       "    <tr>\n",
       "      <th>1</th>\n",
       "      <td>10000089064</td>\n",
       "      <td>27754</td>\n",
       "      <td>9</td>\n",
       "    </tr>\n",
       "    <tr>\n",
       "      <th>2</th>\n",
       "      <td>10000089073</td>\n",
       "      <td>28897</td>\n",
       "      <td>12</td>\n",
       "    </tr>\n",
       "    <tr>\n",
       "      <th>3</th>\n",
       "      <td>51800009050</td>\n",
       "      <td>28919</td>\n",
       "      <td>28</td>\n",
       "    </tr>\n",
       "    <tr>\n",
       "      <th>4</th>\n",
       "      <td>52100000076</td>\n",
       "      <td>28929</td>\n",
       "      <td>25</td>\n",
       "    </tr>\n",
       "  </tbody>\n",
       "</table>\n",
       "</div>"
      ],
      "text/plain": [
       "    COUPON_UPC  PRODUCT_ID  CAMPAIGN\n",
       "0  10000089061       27160         4\n",
       "1  10000089064       27754         9\n",
       "2  10000089073       28897        12\n",
       "3  51800009050       28919        28\n",
       "4  52100000076       28929        25"
      ]
     },
     "execution_count": 84,
     "metadata": {},
     "output_type": "execute_result"
    }
   ],
   "source": [
    "# Display the first few rows of the 'coupon' DataFrame to get an overview of the data\n",
    "coupon.head()"
   ]
  },
  {
   "cell_type": "code",
   "execution_count": 85,
   "id": "787d0974-7dec-4618-91ef-480c9a7c2318",
   "metadata": {},
   "outputs": [
    {
     "data": {
      "text/plain": [
       "44133"
      ]
     },
     "execution_count": 85,
     "metadata": {},
     "output_type": "execute_result"
    }
   ],
   "source": [
    "# Count the number of unique values in the 'PRODUCT_ID' column of the DataFrame 'coupon'\n",
    "coupon.PRODUCT_ID.nunique()"
   ]
  },
  {
   "cell_type": "code",
   "execution_count": 86,
   "id": "8313017a-4a7c-4432-b10d-c962063d100e",
   "metadata": {},
   "outputs": [],
   "source": [
    "# Triming the transaction_data table.\n",
    "transaction_data=transaction_data[(transaction_data.QUANTITY!=0)&(transaction_data.SALES_VALUE!=0)]"
   ]
  },
  {
   "cell_type": "code",
   "execution_count": 87,
   "id": "7c2608b1-cba5-4873-a67e-ee2b85fb3256",
   "metadata": {},
   "outputs": [
    {
     "data": {
      "text/plain": [
       "44133"
      ]
     },
     "execution_count": 87,
     "metadata": {},
     "output_type": "execute_result"
    }
   ],
   "source": [
    "coupon.PRODUCT_ID.nunique()   \n",
    "# 44k are those products for which coupons were provided out of 92k."
   ]
  },
  {
   "cell_type": "code",
   "execution_count": 88,
   "id": "7ebcd7ed-cd61-4596-b379-735a387765a6",
   "metadata": {},
   "outputs": [
    {
     "data": {
      "text/plain": [
       "44133"
      ]
     },
     "execution_count": 88,
     "metadata": {},
     "output_type": "execute_result"
    }
   ],
   "source": [
    "# creating the list containing the products for which coupon was provided.\n",
    "productsforwhichcouponwasprovided=list(coupon.PRODUCT_ID.unique())\n",
    "len(productsforwhichcouponwasprovided)"
   ]
  },
  {
   "cell_type": "code",
   "execution_count": 89,
   "id": "52cc68ee-a683-4db1-b541-9b9ee95d3e80",
   "metadata": {},
   "outputs": [
    {
     "data": {
      "text/plain": [
       "48220"
      ]
     },
     "execution_count": 89,
     "metadata": {},
     "output_type": "execute_result"
    }
   ],
   "source": [
    "product.PRODUCT_ID.nunique()-coupon.PRODUCT_ID.nunique()     \n",
    "# 48k are those products for which coupons were not provided according to coupon table"
   ]
  },
  {
   "cell_type": "code",
   "execution_count": 90,
   "id": "2cb61b2e-d3eb-4a7b-be6a-6fd51ac2ee45",
   "metadata": {},
   "outputs": [
    {
     "data": {
      "text/plain": [
       "9226"
      ]
     },
     "execution_count": 90,
     "metadata": {},
     "output_type": "execute_result"
    }
   ],
   "source": [
    "transaction_data[(transaction_data.SALES_VALUE>0)&(transaction_data.QUANTITY>0)&(transaction_data.COUPON_DISC<0)]['PRODUCT_ID'].nunique()\n",
    "# 9.2k are those products for which coupon was redempt."
   ]
  },
  {
   "cell_type": "code",
   "execution_count": 91,
   "id": "d3fb8d8e-8ebd-4cfc-b71c-4a61fbd7bbec",
   "metadata": {},
   "outputs": [],
   "source": [
    "# Save with a different separator and without header\n",
    "causal_data.to_csv(r'C:\\ProgramData\\MySQL\\MySQL Server 8.0\\Uploads\\casual2.csv', index=False, sep=',', header=True)\n"
   ]
  },
  {
   "cell_type": "code",
   "execution_count": 92,
   "id": "e9b7ad7d-fc70-4b99-a948-be0896a405b0",
   "metadata": {},
   "outputs": [
    {
     "name": "stdout",
     "output_type": "stream",
     "text": [
      "<class 'pandas.core.frame.DataFrame'>\n",
      "RangeIndex: 36786524 entries, 0 to 36786523\n",
      "Data columns (total 5 columns):\n",
      " #   Column      Dtype \n",
      "---  ------      ----- \n",
      " 0   PRODUCT_ID  int64 \n",
      " 1   STORE_ID    int64 \n",
      " 2   WEEK_NO     int64 \n",
      " 3   display     object\n",
      " 4   mailer      object\n",
      "dtypes: int64(3), object(2)\n",
      "memory usage: 1.4+ GB\n"
     ]
    }
   ],
   "source": [
    "# Display information about the 'causal_data' DataFrame\n",
    "causal_data.info()"
   ]
  },
  {
   "cell_type": "code",
   "execution_count": 93,
   "id": "a2195c37-eac0-4ab6-b86c-aeeb09ca2edc",
   "metadata": {},
   "outputs": [],
   "source": [
    "# Drop the 'CURR_SIZE_OF_PRODUCT' column from the 'product' DataFrame\n",
    "product.drop('CURR_SIZE_OF_PRODUCT',axis=1, inplace=True)"
   ]
  },
  {
   "cell_type": "code",
   "execution_count": 94,
   "id": "c6a03e89-96d3-416a-a2ea-e8201319f1fd",
   "metadata": {},
   "outputs": [
    {
     "data": {
      "text/html": [
       "<div>\n",
       "<style scoped>\n",
       "    .dataframe tbody tr th:only-of-type {\n",
       "        vertical-align: middle;\n",
       "    }\n",
       "\n",
       "    .dataframe tbody tr th {\n",
       "        vertical-align: top;\n",
       "    }\n",
       "\n",
       "    .dataframe thead th {\n",
       "        text-align: right;\n",
       "    }\n",
       "</style>\n",
       "<table border=\"1\" class=\"dataframe\">\n",
       "  <thead>\n",
       "    <tr style=\"text-align: right;\">\n",
       "      <th></th>\n",
       "      <th>PRODUCT_ID</th>\n",
       "      <th>MANUFACTURER</th>\n",
       "      <th>DEPARTMENT</th>\n",
       "      <th>BRAND</th>\n",
       "      <th>COMMODITY_DESC</th>\n",
       "      <th>SUB_COMMODITY_DESC</th>\n",
       "    </tr>\n",
       "  </thead>\n",
       "  <tbody>\n",
       "    <tr>\n",
       "      <th>0</th>\n",
       "      <td>25671</td>\n",
       "      <td>2</td>\n",
       "      <td>GROCERY</td>\n",
       "      <td>National</td>\n",
       "      <td>FRZN ICE</td>\n",
       "      <td>ICE - CRUSHED/CUBED</td>\n",
       "    </tr>\n",
       "    <tr>\n",
       "      <th>1</th>\n",
       "      <td>26081</td>\n",
       "      <td>2</td>\n",
       "      <td>MISC. TRANS.</td>\n",
       "      <td>National</td>\n",
       "      <td>NO COMMODITY DESCRIPTION</td>\n",
       "      <td>NO SUBCOMMODITY DESCRIPTION</td>\n",
       "    </tr>\n",
       "    <tr>\n",
       "      <th>2</th>\n",
       "      <td>26093</td>\n",
       "      <td>69</td>\n",
       "      <td>PASTRY</td>\n",
       "      <td>Private</td>\n",
       "      <td>BREAD</td>\n",
       "      <td>BREAD:ITALIAN/FRENCH</td>\n",
       "    </tr>\n",
       "    <tr>\n",
       "      <th>3</th>\n",
       "      <td>26190</td>\n",
       "      <td>69</td>\n",
       "      <td>GROCERY</td>\n",
       "      <td>Private</td>\n",
       "      <td>FRUIT - SHELF STABLE</td>\n",
       "      <td>APPLE SAUCE</td>\n",
       "    </tr>\n",
       "    <tr>\n",
       "      <th>4</th>\n",
       "      <td>26355</td>\n",
       "      <td>69</td>\n",
       "      <td>GROCERY</td>\n",
       "      <td>Private</td>\n",
       "      <td>COOKIES/CONES</td>\n",
       "      <td>SPECIALTY COOKIES</td>\n",
       "    </tr>\n",
       "  </tbody>\n",
       "</table>\n",
       "</div>"
      ],
      "text/plain": [
       "   PRODUCT_ID  MANUFACTURER    DEPARTMENT     BRAND            COMMODITY_DESC  \\\n",
       "0       25671             2       GROCERY  National                  FRZN ICE   \n",
       "1       26081             2  MISC. TRANS.  National  NO COMMODITY DESCRIPTION   \n",
       "2       26093            69        PASTRY   Private                     BREAD   \n",
       "3       26190            69       GROCERY   Private      FRUIT - SHELF STABLE   \n",
       "4       26355            69       GROCERY   Private             COOKIES/CONES   \n",
       "\n",
       "            SUB_COMMODITY_DESC  \n",
       "0          ICE - CRUSHED/CUBED  \n",
       "1  NO SUBCOMMODITY DESCRIPTION  \n",
       "2         BREAD:ITALIAN/FRENCH  \n",
       "3                  APPLE SAUCE  \n",
       "4            SPECIALTY COOKIES  "
      ]
     },
     "execution_count": 94,
     "metadata": {},
     "output_type": "execute_result"
    }
   ],
   "source": [
    "product.head()"
   ]
  },
  {
   "cell_type": "markdown",
   "id": "42e28a6c-796c-4ac5-8678-c4374441e684",
   "metadata": {},
   "source": [
    "# Products for which coupon was provided:"
   ]
  },
  {
   "cell_type": "code",
   "execution_count": 95,
   "id": "c2ec63eb-cdfd-46ad-8381-5cc2bab34128",
   "metadata": {},
   "outputs": [
    {
     "data": {
      "image/png": "[encoded data removed]",
      "text/plain": [
       "<Figure size 800x800 with 1 Axes>"
      ]
     },
     "metadata": {},
     "output_type": "display_data"
    }
   ],
   "source": [
    "import pandas as pd\n",
    "import matplotlib.pyplot as plt\n",
    "\n",
    "# Create a list of unique PRODUCT_IDs from the 'coupon' DataFrame\n",
    "productsforwhichcouponwasprovided = list(coupon.PRODUCT_ID.unique())\n",
    "\n",
    "# Create a new column in the 'product' DataFrame to indicate whether a coupon was provided for each product\n",
    "product['Coupon_Provided'] = product['PRODUCT_ID'].apply(lambda x: 'Provided' if x in productsforwhichcouponwasprovided else 'Not Provided')\n",
    "\n",
    "# Calculate the distribution of coupon provided vs. not provided\n",
    "coupon_distribution = product['Coupon_Provided'].value_counts()\n",
    "\n",
    "# Plot a pie chart to visualize the distribution of coupon provided vs. not provided\n",
    "plt.figure(figsize=(8, 8))  \n",
    "plt.pie(coupon_distribution, labels=coupon_distribution.index, autopct='%1.1f%%', startangle=140, colors=['#EEEDEB', '#F5004F'])\n",
    "# 'autopct' displays the percentage value on the pie chart\n",
    "# 'startangle' rotates the start of the pie chart for better aesthetics\n",
    "# 'colors' specifies the colors for the pie segments\n",
    "plt.title('Distribution of Coupon Provided vs. Not Provided')  # Set the title of the pie chart\n",
    "plt.show()  # Display the pie chart"
   ]
  },
  {
   "cell_type": "code",
   "execution_count": 96,
   "id": "9025a464-2a55-4faf-aef8-8c039435af04",
   "metadata": {},
   "outputs": [
    {
     "data": {
      "text/plain": [
       "Coupon_Provided\n",
       "Not Provided    48220\n",
       "Provided        44133\n",
       "Name: count, dtype: int64"
      ]
     },
     "execution_count": 96,
     "metadata": {},
     "output_type": "execute_result"
    }
   ],
   "source": [
    "# Calculate the counts of each unique value in the 'Coupon_Provided' column of the 'product' DataFrame\n",
    "product['Coupon_Provided'].value_counts()"
   ]
  },
  {
   "cell_type": "code",
   "execution_count": 97,
   "id": "701904a6-3481-4ee5-9cb3-4dcc8c17b1a2",
   "metadata": {},
   "outputs": [
    {
     "data": {
      "text/plain": [
       "44133"
      ]
     },
     "execution_count": 97,
     "metadata": {},
     "output_type": "execute_result"
    }
   ],
   "source": [
    "# creating the list containing the products for which coupon was provided.\n",
    "productsforwhichcouponwasprovided=list(coupon.PRODUCT_ID.unique())\n",
    "len(productsforwhichcouponwasprovided)"
   ]
  },
  {
   "cell_type": "code",
   "execution_count": 98,
   "id": "aa81bcf0-a6e2-4049-b24a-70354fc7a661",
   "metadata": {},
   "outputs": [
    {
     "data": {
      "text/plain": [
       "48220"
      ]
     },
     "execution_count": 98,
     "metadata": {},
     "output_type": "execute_result"
    }
   ],
   "source": [
    "product.PRODUCT_ID.nunique()-coupon.PRODUCT_ID.nunique()     \n",
    "# 48k are those products for which coupons were not provided according to coupon table."
   ]
  },
  {
   "cell_type": "code",
   "execution_count": 99,
   "id": "eb27e18e-57fb-4ada-867d-21bb12563807",
   "metadata": {},
   "outputs": [
    {
     "data": {
      "text/plain": [
       "9226"
      ]
     },
     "execution_count": 99,
     "metadata": {},
     "output_type": "execute_result"
    }
   ],
   "source": [
    "transaction_data[(transaction_data.SALES_VALUE>0)&(transaction_data.QUANTITY>0)&(transaction_data.COUPON_DISC<0)]['PRODUCT_ID'].nunique()\n",
    "# 9.2k are those products for which coupon was redempt."
   ]
  },
  {
   "cell_type": "code",
   "execution_count": 100,
   "id": "0f76085c-03af-48d0-b866-5e521d5ab6cc",
   "metadata": {},
   "outputs": [
    {
     "data": {
      "text/plain": [
       "9226"
      ]
     },
     "execution_count": 100,
     "metadata": {},
     "output_type": "execute_result"
    }
   ],
   "source": [
    "# creating the list containing the products for which coupon was redempt.\n",
    "productsforwhichcouponwasredempt=list(transaction_data.loc[(transaction_data.SALES_VALUE>0)&(transaction_data.QUANTITY>0)&(transaction_data.COUPON_DISC<0),'PRODUCT_ID'].unique())\n",
    "len(productsforwhichcouponwasredempt)"
   ]
  },
  {
   "cell_type": "markdown",
   "id": "899bf5ec-ee01-472e-9495-10fc201af05e",
   "metadata": {},
   "source": [
    "# Distribution of coupon redemption:"
   ]
  },
  {
   "cell_type": "code",
   "execution_count": 101,
   "id": "46dbbbdf-1c8c-44dc-a42d-0d8d891ec30c",
   "metadata": {},
   "outputs": [
    {
     "data": {
      "image/png": "[encoded data removed]",
      "text/plain": [
       "<Figure size 800x800 with 1 Axes>"
      ]
     },
     "metadata": {},
     "output_type": "display_data"
    }
   ],
   "source": [
    "import pandas as pd\n",
    "import matplotlib.pyplot as plt\n",
    "\n",
    "\n",
    "redeemed_products = transaction_data[(transaction_data['SALES_VALUE'] > 0) &\n",
    "                                     (transaction_data['QUANTITY'] > 0) &\n",
    "                                     (transaction_data['COUPON_DISC'] < 0)]['PRODUCT_ID'].nunique()\n",
    "# Filters the transaction_data DataFrame to include only transactions where 'SALES_VALUE' and 'QUANTITY' are greater than zero and 'COUPON_DISC' is less than zero (indicating coupon usage). \n",
    "# Then, it counts the number of unique 'PRODUCT_ID's to determine how many products had their coupons redeemed.\n",
    "\n",
    "# Computes the number of products with coupons not redeemed by subtracting the count of redeemed products from the total number of products with coupons.\n",
    "num_not_redeemed = len(productsforwhichcouponwasprovided) - redeemed_products\n",
    "\n",
    "# Prepare data for the pie chart\n",
    "labels = ['Coupon Redeemed', 'Coupon Not Redeemed']\n",
    "sizes = [redeemed_products, num_not_redeemed]\n",
    "colors = ['#F4CE14', '#5B99C2']\n",
    "\n",
    "# Plot the pie chart\n",
    "plt.figure(figsize=(8, 8))\n",
    "plt.pie(sizes, labels=labels, autopct='%1.1f%%', startangle=140, colors=colors)\n",
    "plt.title('Distribution of Coupon Redemption')\n",
    "plt.show()\n"
   ]
  },
  {
   "cell_type": "code",
   "execution_count": 102,
   "id": "fff76311-2d0d-4311-8053-c2b161030255",
   "metadata": {},
   "outputs": [
    {
     "data": {
      "text/plain": [
       "9226"
      ]
     },
     "execution_count": 102,
     "metadata": {},
     "output_type": "execute_result"
    }
   ],
   "source": [
    "redeemed_products"
   ]
  },
  {
   "cell_type": "code",
   "execution_count": 103,
   "id": "d3cdd9ca-407a-4ba8-a62b-65acd2197523",
   "metadata": {},
   "outputs": [],
   "source": [
    "\n",
    "# creation of the target variable..\n",
    "p1 = product[product.PRODUCT_ID.isin(productsforwhichcouponwasprovided)]\n",
    "p1['Target'] = p1.PRODUCT_ID.isin(productsforwhichcouponwasredempt).astype('int')\n",
    "product['Target'] = p1['Target']\n",
    "del p1"
   ]
  },
  {
   "cell_type": "code",
   "execution_count": 104,
   "id": "d3e3625a-b08d-4729-9377-a0a3af36d26b",
   "metadata": {},
   "outputs": [
    {
     "data": {
      "text/html": [
       "<div>\n",
       "<style scoped>\n",
       "    .dataframe tbody tr th:only-of-type {\n",
       "        vertical-align: middle;\n",
       "    }\n",
       "\n",
       "    .dataframe tbody tr th {\n",
       "        vertical-align: top;\n",
       "    }\n",
       "\n",
       "    .dataframe thead th {\n",
       "        text-align: right;\n",
       "    }\n",
       "</style>\n",
       "<table border=\"1\" class=\"dataframe\">\n",
       "  <thead>\n",
       "    <tr style=\"text-align: right;\">\n",
       "      <th></th>\n",
       "      <th>PRODUCT_ID</th>\n",
       "      <th>MANUFACTURER</th>\n",
       "      <th>DEPARTMENT</th>\n",
       "      <th>BRAND</th>\n",
       "      <th>COMMODITY_DESC</th>\n",
       "      <th>SUB_COMMODITY_DESC</th>\n",
       "      <th>Coupon_Provided</th>\n",
       "      <th>Target</th>\n",
       "    </tr>\n",
       "  </thead>\n",
       "  <tbody>\n",
       "    <tr>\n",
       "      <th>0</th>\n",
       "      <td>25671</td>\n",
       "      <td>2</td>\n",
       "      <td>GROCERY</td>\n",
       "      <td>National</td>\n",
       "      <td>FRZN ICE</td>\n",
       "      <td>ICE - CRUSHED/CUBED</td>\n",
       "      <td>Provided</td>\n",
       "      <td>0.0</td>\n",
       "    </tr>\n",
       "    <tr>\n",
       "      <th>1</th>\n",
       "      <td>26081</td>\n",
       "      <td>2</td>\n",
       "      <td>MISC. TRANS.</td>\n",
       "      <td>National</td>\n",
       "      <td>NO COMMODITY DESCRIPTION</td>\n",
       "      <td>NO SUBCOMMODITY DESCRIPTION</td>\n",
       "      <td>Not Provided</td>\n",
       "      <td>NaN</td>\n",
       "    </tr>\n",
       "    <tr>\n",
       "      <th>2</th>\n",
       "      <td>26093</td>\n",
       "      <td>69</td>\n",
       "      <td>PASTRY</td>\n",
       "      <td>Private</td>\n",
       "      <td>BREAD</td>\n",
       "      <td>BREAD:ITALIAN/FRENCH</td>\n",
       "      <td>Not Provided</td>\n",
       "      <td>NaN</td>\n",
       "    </tr>\n",
       "    <tr>\n",
       "      <th>3</th>\n",
       "      <td>26190</td>\n",
       "      <td>69</td>\n",
       "      <td>GROCERY</td>\n",
       "      <td>Private</td>\n",
       "      <td>FRUIT - SHELF STABLE</td>\n",
       "      <td>APPLE SAUCE</td>\n",
       "      <td>Provided</td>\n",
       "      <td>0.0</td>\n",
       "    </tr>\n",
       "    <tr>\n",
       "      <th>4</th>\n",
       "      <td>26355</td>\n",
       "      <td>69</td>\n",
       "      <td>GROCERY</td>\n",
       "      <td>Private</td>\n",
       "      <td>COOKIES/CONES</td>\n",
       "      <td>SPECIALTY COOKIES</td>\n",
       "      <td>Not Provided</td>\n",
       "      <td>NaN</td>\n",
       "    </tr>\n",
       "  </tbody>\n",
       "</table>\n",
       "</div>"
      ],
      "text/plain": [
       "   PRODUCT_ID  MANUFACTURER    DEPARTMENT     BRAND            COMMODITY_DESC  \\\n",
       "0       25671             2       GROCERY  National                  FRZN ICE   \n",
       "1       26081             2  MISC. TRANS.  National  NO COMMODITY DESCRIPTION   \n",
       "2       26093            69        PASTRY   Private                     BREAD   \n",
       "3       26190            69       GROCERY   Private      FRUIT - SHELF STABLE   \n",
       "4       26355            69       GROCERY   Private             COOKIES/CONES   \n",
       "\n",
       "            SUB_COMMODITY_DESC Coupon_Provided  Target  \n",
       "0          ICE - CRUSHED/CUBED        Provided     0.0  \n",
       "1  NO SUBCOMMODITY DESCRIPTION    Not Provided     NaN  \n",
       "2         BREAD:ITALIAN/FRENCH    Not Provided     NaN  \n",
       "3                  APPLE SAUCE        Provided     0.0  \n",
       "4            SPECIALTY COOKIES    Not Provided     NaN  "
      ]
     },
     "execution_count": 104,
     "metadata": {},
     "output_type": "execute_result"
    }
   ],
   "source": [
    "product.head()"
   ]
  },
  {
   "cell_type": "code",
   "execution_count": 105,
   "id": "19e6fb05-35f7-4d88-8a71-171fa9f6c6b2",
   "metadata": {},
   "outputs": [
    {
     "data": {
      "text/plain": [
       "48220"
      ]
     },
     "execution_count": 105,
     "metadata": {},
     "output_type": "execute_result"
    }
   ],
   "source": [
    "product['Target'].isnull().sum()"
   ]
  },
  {
   "cell_type": "code",
   "execution_count": 106,
   "id": "9e48b1e5-cc56-46ae-9197-49981407bf7a",
   "metadata": {},
   "outputs": [
    {
     "data": {
      "text/plain": [
       "Target\n",
       "0    37995\n",
       "1     6138\n",
       "Name: count, dtype: int64"
      ]
     },
     "execution_count": 106,
     "metadata": {},
     "output_type": "execute_result"
    }
   ],
   "source": [
    "p2 = product[product.PRODUCT_ID.isin(productsforwhichcouponwasprovided)]\n",
    "p2['Target'] = p2.PRODUCT_ID.isin(productsforwhichcouponwasredempt).astype('int')\n",
    "#product['Target'] = p1['Target']\n",
    "p2['Target'].value_counts()"
   ]
  },
  {
   "cell_type": "code",
   "execution_count": 107,
   "id": "ed2d6ded-57b9-4720-a912-d423ad0bd934",
   "metadata": {},
   "outputs": [],
   "source": [
    "# function for creating target variable..\n",
    "def yo(x):\n",
    "    if (x in productsforwhichcouponwasprovided)&(x not in productsforwhichcouponwasredempt):\n",
    "        return 0\n",
    "    if (x in productsforwhichcouponwasprovided)&(x in productsforwhichcouponwasredempt):\n",
    "        return 1\n",
    "    if (x not in productsforwhichcouponwasprovided):\n",
    "        return np.nan\n",
    "product['Target']=product.PRODUCT_ID.apply(yo)"
   ]
  },
  {
   "cell_type": "code",
   "execution_count": 108,
   "id": "46b9b3a0-96a1-4238-b79b-75b7f35cccfe",
   "metadata": {},
   "outputs": [],
   "source": [
    "#product['Target'].fillna(-1, inplace=True)\n"
   ]
  },
  {
   "cell_type": "code",
   "execution_count": 109,
   "id": "e91d5731-3ac3-4c68-9c95-c64605426de0",
   "metadata": {},
   "outputs": [
    {
     "data": {
      "text/plain": [
       "Target\n",
       "0.0    37995\n",
       "1.0     6138\n",
       "Name: count, dtype: int64"
      ]
     },
     "execution_count": 109,
     "metadata": {},
     "output_type": "execute_result"
    }
   ],
   "source": [
    "product['Target'].value_counts()"
   ]
  },
  {
   "cell_type": "code",
   "execution_count": 110,
   "id": "7e78ca85-48b8-4b7f-a326-836c5dc1638f",
   "metadata": {},
   "outputs": [
    {
     "data": {
      "image/png": "[encoded data removed]",
      "text/plain": [
       "<Figure size 800x800 with 1 Axes>"
      ]
     },
     "metadata": {},
     "output_type": "display_data"
    }
   ],
   "source": [
    "\n",
    "\n",
    "# Assuming the `product` DataFrame contains the `Target` column\n",
    "\n",
    "# Get the value counts for the Target column\n",
    "target_counts = product['Target'].value_counts()\n",
    "\n",
    "labels = ['Coupons Not Redeemed','Coupons Redeemed']\n",
    "\n",
    "# Plot the pie chart with percentages\n",
    "plt.figure(figsize=(8, 8))\n",
    "plt.pie(target_counts, labels=labels, autopct='%1.1f%%', startangle=140, colors=['#36BA98', '#F4CE14'])\n",
    "\n",
    "# Add a title\n",
    "plt.title('Distribution of Target Values')\n",
    "\n",
    "# Show the plot\n",
    "plt.show()\n"
   ]
  },
  {
   "cell_type": "code",
   "execution_count": 111,
   "id": "876964b0-63ad-4d06-beb0-9815fe97c3c6",
   "metadata": {},
   "outputs": [
    {
     "data": {
      "text/html": [
       "<div>\n",
       "<style scoped>\n",
       "    .dataframe tbody tr th:only-of-type {\n",
       "        vertical-align: middle;\n",
       "    }\n",
       "\n",
       "    .dataframe tbody tr th {\n",
       "        vertical-align: top;\n",
       "    }\n",
       "\n",
       "    .dataframe thead th {\n",
       "        text-align: right;\n",
       "    }\n",
       "</style>\n",
       "<table border=\"1\" class=\"dataframe\">\n",
       "  <thead>\n",
       "    <tr style=\"text-align: right;\">\n",
       "      <th></th>\n",
       "      <th>PRODUCT_ID</th>\n",
       "      <th>MANUFACTURER</th>\n",
       "      <th>DEPARTMENT</th>\n",
       "      <th>BRAND</th>\n",
       "      <th>COMMODITY_DESC</th>\n",
       "      <th>SUB_COMMODITY_DESC</th>\n",
       "      <th>Coupon_Provided</th>\n",
       "      <th>Target</th>\n",
       "    </tr>\n",
       "  </thead>\n",
       "  <tbody>\n",
       "    <tr>\n",
       "      <th>0</th>\n",
       "      <td>25671</td>\n",
       "      <td>2</td>\n",
       "      <td>GROCERY</td>\n",
       "      <td>National</td>\n",
       "      <td>FRZN ICE</td>\n",
       "      <td>ICE - CRUSHED/CUBED</td>\n",
       "      <td>Provided</td>\n",
       "      <td>0.0</td>\n",
       "    </tr>\n",
       "    <tr>\n",
       "      <th>1</th>\n",
       "      <td>26081</td>\n",
       "      <td>2</td>\n",
       "      <td>MISC. TRANS.</td>\n",
       "      <td>National</td>\n",
       "      <td>NO COMMODITY DESCRIPTION</td>\n",
       "      <td>NO SUBCOMMODITY DESCRIPTION</td>\n",
       "      <td>Not Provided</td>\n",
       "      <td>NaN</td>\n",
       "    </tr>\n",
       "    <tr>\n",
       "      <th>2</th>\n",
       "      <td>26093</td>\n",
       "      <td>69</td>\n",
       "      <td>PASTRY</td>\n",
       "      <td>Private</td>\n",
       "      <td>BREAD</td>\n",
       "      <td>BREAD:ITALIAN/FRENCH</td>\n",
       "      <td>Not Provided</td>\n",
       "      <td>NaN</td>\n",
       "    </tr>\n",
       "    <tr>\n",
       "      <th>3</th>\n",
       "      <td>26190</td>\n",
       "      <td>69</td>\n",
       "      <td>GROCERY</td>\n",
       "      <td>Private</td>\n",
       "      <td>FRUIT - SHELF STABLE</td>\n",
       "      <td>APPLE SAUCE</td>\n",
       "      <td>Provided</td>\n",
       "      <td>0.0</td>\n",
       "    </tr>\n",
       "    <tr>\n",
       "      <th>4</th>\n",
       "      <td>26355</td>\n",
       "      <td>69</td>\n",
       "      <td>GROCERY</td>\n",
       "      <td>Private</td>\n",
       "      <td>COOKIES/CONES</td>\n",
       "      <td>SPECIALTY COOKIES</td>\n",
       "      <td>Not Provided</td>\n",
       "      <td>NaN</td>\n",
       "    </tr>\n",
       "  </tbody>\n",
       "</table>\n",
       "</div>"
      ],
      "text/plain": [
       "   PRODUCT_ID  MANUFACTURER    DEPARTMENT     BRAND            COMMODITY_DESC  \\\n",
       "0       25671             2       GROCERY  National                  FRZN ICE   \n",
       "1       26081             2  MISC. TRANS.  National  NO COMMODITY DESCRIPTION   \n",
       "2       26093            69        PASTRY   Private                     BREAD   \n",
       "3       26190            69       GROCERY   Private      FRUIT - SHELF STABLE   \n",
       "4       26355            69       GROCERY   Private             COOKIES/CONES   \n",
       "\n",
       "            SUB_COMMODITY_DESC Coupon_Provided  Target  \n",
       "0          ICE - CRUSHED/CUBED        Provided     0.0  \n",
       "1  NO SUBCOMMODITY DESCRIPTION    Not Provided     NaN  \n",
       "2         BREAD:ITALIAN/FRENCH    Not Provided     NaN  \n",
       "3                  APPLE SAUCE        Provided     0.0  \n",
       "4            SPECIALTY COOKIES    Not Provided     NaN  "
      ]
     },
     "execution_count": 111,
     "metadata": {},
     "output_type": "execute_result"
    }
   ],
   "source": [
    "product.head()"
   ]
  },
  {
   "cell_type": "code",
   "execution_count": 112,
   "id": "00b5744d-6ab6-452a-9b8d-73226766a284",
   "metadata": {},
   "outputs": [
    {
     "data": {
      "text/plain": [
       "PRODUCT_ID                0\n",
       "MANUFACTURER              0\n",
       "DEPARTMENT                0\n",
       "BRAND                     0\n",
       "COMMODITY_DESC            0\n",
       "SUB_COMMODITY_DESC        0\n",
       "Coupon_Provided           0\n",
       "Target                48220\n",
       "dtype: int64"
      ]
     },
     "execution_count": 112,
     "metadata": {},
     "output_type": "execute_result"
    }
   ],
   "source": [
    "# checking for null values.\n",
    "product.isnull().sum()"
   ]
  },
  {
   "cell_type": "code",
   "execution_count": 113,
   "id": "59118d1c-355f-4102-b94e-77345cbae73f",
   "metadata": {},
   "outputs": [
    {
     "name": "stdout",
     "output_type": "stream",
     "text": [
      "<class 'pandas.core.frame.DataFrame'>\n",
      "RangeIndex: 92353 entries, 0 to 92352\n",
      "Data columns (total 8 columns):\n",
      " #   Column              Non-Null Count  Dtype  \n",
      "---  ------              --------------  -----  \n",
      " 0   PRODUCT_ID          92353 non-null  int64  \n",
      " 1   MANUFACTURER        92353 non-null  int64  \n",
      " 2   DEPARTMENT          92353 non-null  object \n",
      " 3   BRAND               92353 non-null  object \n",
      " 4   COMMODITY_DESC      92353 non-null  object \n",
      " 5   SUB_COMMODITY_DESC  92353 non-null  object \n",
      " 6   Coupon_Provided     92353 non-null  object \n",
      " 7   Target              44133 non-null  float64\n",
      "dtypes: float64(1), int64(2), object(5)\n",
      "memory usage: 5.6+ MB\n"
     ]
    }
   ],
   "source": [
    "product.info()"
   ]
  },
  {
   "cell_type": "code",
   "execution_count": 114,
   "id": "8f73a95f-c710-447c-93fc-d0affc77656f",
   "metadata": {},
   "outputs": [],
   "source": [
    "# MANUFACTURER is numercial columns with categorical properties. => before encoding and scaling to dtype to be changed.\n",
    "product['MANUFACTURER']=product['MANUFACTURER'].astype('object')"
   ]
  },
  {
   "cell_type": "code",
   "execution_count": 115,
   "id": "ca8b6367-e6fc-4ebc-bb7b-faa66e6b596b",
   "metadata": {},
   "outputs": [
    {
     "data": {
      "text/html": [
       "<div>\n",
       "<style scoped>\n",
       "    .dataframe tbody tr th:only-of-type {\n",
       "        vertical-align: middle;\n",
       "    }\n",
       "\n",
       "    .dataframe tbody tr th {\n",
       "        vertical-align: top;\n",
       "    }\n",
       "\n",
       "    .dataframe thead th {\n",
       "        text-align: right;\n",
       "    }\n",
       "</style>\n",
       "<table border=\"1\" class=\"dataframe\">\n",
       "  <thead>\n",
       "    <tr style=\"text-align: right;\">\n",
       "      <th></th>\n",
       "      <th>MANUFACTURER</th>\n",
       "      <th>DEPARTMENT</th>\n",
       "      <th>BRAND</th>\n",
       "      <th>COMMODITY_DESC</th>\n",
       "      <th>SUB_COMMODITY_DESC</th>\n",
       "      <th>Coupon_Provided</th>\n",
       "      <th>Target</th>\n",
       "    </tr>\n",
       "    <tr>\n",
       "      <th>PRODUCT_ID</th>\n",
       "      <th></th>\n",
       "      <th></th>\n",
       "      <th></th>\n",
       "      <th></th>\n",
       "      <th></th>\n",
       "      <th></th>\n",
       "      <th></th>\n",
       "    </tr>\n",
       "  </thead>\n",
       "  <tbody>\n",
       "    <tr>\n",
       "      <th>25671</th>\n",
       "      <td>2</td>\n",
       "      <td>GROCERY</td>\n",
       "      <td>National</td>\n",
       "      <td>FRZN ICE</td>\n",
       "      <td>ICE - CRUSHED/CUBED</td>\n",
       "      <td>Provided</td>\n",
       "      <td>0.0</td>\n",
       "    </tr>\n",
       "    <tr>\n",
       "      <th>26081</th>\n",
       "      <td>2</td>\n",
       "      <td>MISC. TRANS.</td>\n",
       "      <td>National</td>\n",
       "      <td>NO COMMODITY DESCRIPTION</td>\n",
       "      <td>NO SUBCOMMODITY DESCRIPTION</td>\n",
       "      <td>Not Provided</td>\n",
       "      <td>NaN</td>\n",
       "    </tr>\n",
       "    <tr>\n",
       "      <th>26093</th>\n",
       "      <td>69</td>\n",
       "      <td>PASTRY</td>\n",
       "      <td>Private</td>\n",
       "      <td>BREAD</td>\n",
       "      <td>BREAD:ITALIAN/FRENCH</td>\n",
       "      <td>Not Provided</td>\n",
       "      <td>NaN</td>\n",
       "    </tr>\n",
       "    <tr>\n",
       "      <th>26190</th>\n",
       "      <td>69</td>\n",
       "      <td>GROCERY</td>\n",
       "      <td>Private</td>\n",
       "      <td>FRUIT - SHELF STABLE</td>\n",
       "      <td>APPLE SAUCE</td>\n",
       "      <td>Provided</td>\n",
       "      <td>0.0</td>\n",
       "    </tr>\n",
       "    <tr>\n",
       "      <th>26355</th>\n",
       "      <td>69</td>\n",
       "      <td>GROCERY</td>\n",
       "      <td>Private</td>\n",
       "      <td>COOKIES/CONES</td>\n",
       "      <td>SPECIALTY COOKIES</td>\n",
       "      <td>Not Provided</td>\n",
       "      <td>NaN</td>\n",
       "    </tr>\n",
       "  </tbody>\n",
       "</table>\n",
       "</div>"
      ],
      "text/plain": [
       "           MANUFACTURER    DEPARTMENT     BRAND            COMMODITY_DESC  \\\n",
       "PRODUCT_ID                                                                  \n",
       "25671                 2       GROCERY  National                  FRZN ICE   \n",
       "26081                 2  MISC. TRANS.  National  NO COMMODITY DESCRIPTION   \n",
       "26093                69        PASTRY   Private                     BREAD   \n",
       "26190                69       GROCERY   Private      FRUIT - SHELF STABLE   \n",
       "26355                69       GROCERY   Private             COOKIES/CONES   \n",
       "\n",
       "                     SUB_COMMODITY_DESC Coupon_Provided  Target  \n",
       "PRODUCT_ID                                                       \n",
       "25671               ICE - CRUSHED/CUBED        Provided     0.0  \n",
       "26081       NO SUBCOMMODITY DESCRIPTION    Not Provided     NaN  \n",
       "26093              BREAD:ITALIAN/FRENCH    Not Provided     NaN  \n",
       "26190                       APPLE SAUCE        Provided     0.0  \n",
       "26355                 SPECIALTY COOKIES    Not Provided     NaN  "
      ]
     },
     "execution_count": 115,
     "metadata": {},
     "output_type": "execute_result"
    }
   ],
   "source": [
    "# Create a copy of the 'product' DataFrame to avoid modifying the original DataFrame\n",
    "d = product.copy()\n",
    "\n",
    "# Set 'PRODUCT_ID' as the index of the 'd' DataFrame\n",
    "d.set_index('PRODUCT_ID', inplace=True)\n",
    "\n",
    "# Display the first few rows of the 'd' DataFrame\n",
    "d.head()"
   ]
  },
  {
   "cell_type": "code",
   "execution_count": null,
   "id": "d5cd3998-7d09-430e-827c-8927c12e489f",
   "metadata": {},
   "outputs": [],
   "source": []
  },
  {
   "cell_type": "code",
   "execution_count": 116,
   "id": "725cb5f7-e648-4629-8081-1358b99268b3",
   "metadata": {},
   "outputs": [],
   "source": [
    "#selecting object datatype\n",
    "catcol=d.select_dtypes('object').columns\n",
    "#selecting int datatype names\n",
    "numcol=d.select_dtypes(np.number).columns"
   ]
  },
  {
   "cell_type": "markdown",
   "id": "e7564c1d-be84-4008-9f89-db2f8240acdf",
   "metadata": {},
   "source": [
    "# Feature Engineering:"
   ]
  },
  {
   "cell_type": "code",
   "execution_count": 117,
   "id": "54ec0ab0-986c-42fa-a1ab-0756a45365e7",
   "metadata": {},
   "outputs": [],
   "source": [
    "# unique count of households that has purchased that particular product over the span of 2 years.\n",
    "d['num_hsld_prch_prd']=transaction_data.groupby('PRODUCT_ID')['household_key'].nunique()\n",
    "\n",
    "# unique count of stores that sells that particlar products.\n",
    "d['num_stores_has_prd']=transaction_data.groupby('PRODUCT_ID')['STORE_ID'].nunique()\n",
    "\n",
    "# count of products sold during the span of 2 years.\n",
    "d['quantity_sold_total']=transaction_data.groupby('PRODUCT_ID')['QUANTITY'].sum()"
   ]
  },
  {
   "cell_type": "code",
   "execution_count": 118,
   "id": "8985974a-78cd-462d-97f0-d8a1b7f04cbb",
   "metadata": {},
   "outputs": [
    {
     "data": {
      "text/plain": [
       "91905"
      ]
     },
     "execution_count": 118,
     "metadata": {},
     "output_type": "execute_result"
    }
   ],
   "source": [
    "d['num_hsld_prch_prd'].count()"
   ]
  },
  {
   "cell_type": "code",
   "execution_count": 134,
   "id": "4031610f-0aba-4309-b215-35b9e6798315",
   "metadata": {},
   "outputs": [
    {
     "data": {
      "text/html": [
       "<div>\n",
       "<style scoped>\n",
       "    .dataframe tbody tr th:only-of-type {\n",
       "        vertical-align: middle;\n",
       "    }\n",
       "\n",
       "    .dataframe tbody tr th {\n",
       "        vertical-align: top;\n",
       "    }\n",
       "\n",
       "    .dataframe thead th {\n",
       "        text-align: right;\n",
       "    }\n",
       "</style>\n",
       "<table border=\"1\" class=\"dataframe\">\n",
       "  <thead>\n",
       "    <tr style=\"text-align: right;\">\n",
       "      <th></th>\n",
       "      <th>MANUFACTURER</th>\n",
       "      <th>DEPARTMENT</th>\n",
       "      <th>BRAND</th>\n",
       "      <th>COMMODITY_DESC</th>\n",
       "      <th>SUB_COMMODITY_DESC</th>\n",
       "      <th>Coupon_Provided</th>\n",
       "      <th>Target</th>\n",
       "      <th>num_hsld_prch_prd</th>\n",
       "      <th>num_stores_has_prd</th>\n",
       "      <th>quantity_sold_total</th>\n",
       "    </tr>\n",
       "    <tr>\n",
       "      <th>PRODUCT_ID</th>\n",
       "      <th></th>\n",
       "      <th></th>\n",
       "      <th></th>\n",
       "      <th></th>\n",
       "      <th></th>\n",
       "      <th></th>\n",
       "      <th></th>\n",
       "      <th></th>\n",
       "      <th></th>\n",
       "      <th></th>\n",
       "    </tr>\n",
       "  </thead>\n",
       "  <tbody>\n",
       "    <tr>\n",
       "      <th>25671</th>\n",
       "      <td>2</td>\n",
       "      <td>GROCERY</td>\n",
       "      <td>National</td>\n",
       "      <td>FRZN ICE</td>\n",
       "      <td>ICE - CRUSHED/CUBED</td>\n",
       "      <td>Provided</td>\n",
       "      <td>0.0</td>\n",
       "      <td>3.0</td>\n",
       "      <td>3.0</td>\n",
       "      <td>6.0</td>\n",
       "    </tr>\n",
       "    <tr>\n",
       "      <th>26081</th>\n",
       "      <td>2</td>\n",
       "      <td>MISC. TRANS.</td>\n",
       "      <td>National</td>\n",
       "      <td>NO COMMODITY DESCRIPTION</td>\n",
       "      <td>NO SUBCOMMODITY DESCRIPTION</td>\n",
       "      <td>Not Provided</td>\n",
       "      <td>NaN</td>\n",
       "      <td>1.0</td>\n",
       "      <td>1.0</td>\n",
       "      <td>1.0</td>\n",
       "    </tr>\n",
       "    <tr>\n",
       "      <th>26093</th>\n",
       "      <td>69</td>\n",
       "      <td>PASTRY</td>\n",
       "      <td>Private</td>\n",
       "      <td>BREAD</td>\n",
       "      <td>BREAD:ITALIAN/FRENCH</td>\n",
       "      <td>Not Provided</td>\n",
       "      <td>NaN</td>\n",
       "      <td>1.0</td>\n",
       "      <td>1.0</td>\n",
       "      <td>1.0</td>\n",
       "    </tr>\n",
       "    <tr>\n",
       "      <th>26190</th>\n",
       "      <td>69</td>\n",
       "      <td>GROCERY</td>\n",
       "      <td>Private</td>\n",
       "      <td>FRUIT - SHELF STABLE</td>\n",
       "      <td>APPLE SAUCE</td>\n",
       "      <td>Provided</td>\n",
       "      <td>0.0</td>\n",
       "      <td>1.0</td>\n",
       "      <td>1.0</td>\n",
       "      <td>1.0</td>\n",
       "    </tr>\n",
       "    <tr>\n",
       "      <th>26355</th>\n",
       "      <td>69</td>\n",
       "      <td>GROCERY</td>\n",
       "      <td>Private</td>\n",
       "      <td>COOKIES/CONES</td>\n",
       "      <td>SPECIALTY COOKIES</td>\n",
       "      <td>Not Provided</td>\n",
       "      <td>NaN</td>\n",
       "      <td>1.0</td>\n",
       "      <td>1.0</td>\n",
       "      <td>2.0</td>\n",
       "    </tr>\n",
       "  </tbody>\n",
       "</table>\n",
       "</div>"
      ],
      "text/plain": [
       "           MANUFACTURER    DEPARTMENT     BRAND            COMMODITY_DESC  \\\n",
       "PRODUCT_ID                                                                  \n",
       "25671                 2       GROCERY  National                  FRZN ICE   \n",
       "26081                 2  MISC. TRANS.  National  NO COMMODITY DESCRIPTION   \n",
       "26093                69        PASTRY   Private                     BREAD   \n",
       "26190                69       GROCERY   Private      FRUIT - SHELF STABLE   \n",
       "26355                69       GROCERY   Private             COOKIES/CONES   \n",
       "\n",
       "                     SUB_COMMODITY_DESC Coupon_Provided  Target  \\\n",
       "PRODUCT_ID                                                        \n",
       "25671               ICE - CRUSHED/CUBED        Provided     0.0   \n",
       "26081       NO SUBCOMMODITY DESCRIPTION    Not Provided     NaN   \n",
       "26093              BREAD:ITALIAN/FRENCH    Not Provided     NaN   \n",
       "26190                       APPLE SAUCE        Provided     0.0   \n",
       "26355                 SPECIALTY COOKIES    Not Provided     NaN   \n",
       "\n",
       "            num_hsld_prch_prd  num_stores_has_prd  quantity_sold_total  \n",
       "PRODUCT_ID                                                              \n",
       "25671                     3.0                 3.0                  6.0  \n",
       "26081                     1.0                 1.0                  1.0  \n",
       "26093                     1.0                 1.0                  1.0  \n",
       "26190                     1.0                 1.0                  1.0  \n",
       "26355                     1.0                 1.0                  2.0  "
      ]
     },
     "execution_count": 134,
     "metadata": {},
     "output_type": "execute_result"
    }
   ],
   "source": [
    "d.head()"
   ]
  },
  {
   "cell_type": "code",
   "execution_count": 135,
   "id": "fa88d618-adf3-4793-8683-d397459e2c3d",
   "metadata": {},
   "outputs": [
    {
     "data": {
      "text/plain": [
       "MANUFACTURER               0\n",
       "DEPARTMENT                 0\n",
       "BRAND                      0\n",
       "COMMODITY_DESC             0\n",
       "SUB_COMMODITY_DESC         0\n",
       "Coupon_Provided            0\n",
       "Target                 47972\n",
       "num_hsld_prch_prd          0\n",
       "num_stores_has_prd         0\n",
       "quantity_sold_total        0\n",
       "dtype: int64"
      ]
     },
     "execution_count": 135,
     "metadata": {},
     "output_type": "execute_result"
    }
   ],
   "source": [
    "\n",
    "d.isnull().sum()"
   ]
  },
  {
   "cell_type": "code",
   "execution_count": 121,
   "id": "23969e08-7046-4217-acd5-91eae72948c3",
   "metadata": {},
   "outputs": [
    {
     "data": {
      "text/plain": [
       "448"
      ]
     },
     "execution_count": 121,
     "metadata": {},
     "output_type": "execute_result"
    }
   ],
   "source": [
    "# Some products were never purchased.. => to be removed\n",
    "product.PRODUCT_ID.nunique()-transaction_data.PRODUCT_ID.nunique()"
   ]
  },
  {
   "cell_type": "code",
   "execution_count": 122,
   "id": "c5805dd5-f482-4ebc-9409-32c33ab8bdba",
   "metadata": {},
   "outputs": [],
   "source": [
    "# triming those unpurchased products.\n",
    "d=d.loc[sorted(transaction_data.PRODUCT_ID.unique())]\n"
   ]
  },
  {
   "cell_type": "code",
   "execution_count": 123,
   "id": "619b35b8-d24c-42a9-8230-3178f428b5d4",
   "metadata": {},
   "outputs": [
    {
     "data": {
      "text/html": [
       "<div>\n",
       "<style scoped>\n",
       "    .dataframe tbody tr th:only-of-type {\n",
       "        vertical-align: middle;\n",
       "    }\n",
       "\n",
       "    .dataframe tbody tr th {\n",
       "        vertical-align: top;\n",
       "    }\n",
       "\n",
       "    .dataframe thead th {\n",
       "        text-align: right;\n",
       "    }\n",
       "</style>\n",
       "<table border=\"1\" class=\"dataframe\">\n",
       "  <thead>\n",
       "    <tr style=\"text-align: right;\">\n",
       "      <th></th>\n",
       "      <th>Feature_Created</th>\n",
       "      <th>Description</th>\n",
       "    </tr>\n",
       "  </thead>\n",
       "  <tbody>\n",
       "    <tr>\n",
       "      <th>0</th>\n",
       "      <td>num_hsld_prch_prd</td>\n",
       "      <td>Unique count of households that has purchased ...</td>\n",
       "    </tr>\n",
       "    <tr>\n",
       "      <th>1</th>\n",
       "      <td>num_stores_has_prd</td>\n",
       "      <td>Unique count of stores that sells that particu...</td>\n",
       "    </tr>\n",
       "    <tr>\n",
       "      <th>2</th>\n",
       "      <td>quantity_sold_total</td>\n",
       "      <td>Count of that particular product sold during t...</td>\n",
       "    </tr>\n",
       "  </tbody>\n",
       "</table>\n",
       "</div>"
      ],
      "text/plain": [
       "       Feature_Created                                        Description\n",
       "0    num_hsld_prch_prd  Unique count of households that has purchased ...\n",
       "1   num_stores_has_prd  Unique count of stores that sells that particu...\n",
       "2  quantity_sold_total  Count of that particular product sold during t..."
      ]
     },
     "execution_count": 123,
     "metadata": {},
     "output_type": "execute_result"
    }
   ],
   "source": [
    "# Initialize an empty list to store feature names that are in 'd' but not in 'product'\n",
    "fe = []\n",
    "\n",
    "# Iterate over the columns in the 'd' DataFrame\n",
    "for i in d.columns:\n",
    "    # Check if the column name is not in the 'product' DataFrame columns\n",
    "    if i not in product.columns:\n",
    "        # Append the column name to the 'fe' list\n",
    "        fe.append(i)\n",
    "\n",
    "# Create a DataFrame to describe the features found in 'd' but not in 'product'\n",
    "pd.DataFrame({\n",
    "    'Feature_Created': fe,  # List of feature names that are in 'd' but not in 'product'\n",
    "    'Description': [\n",
    "        'Unique count of households that has purchased that particular product over the span of 2 years',\n",
    "        'Unique count of stores that sells that particular product',\n",
    "        'Count of that particular product sold during the span of 2 years'\n",
    "    ]  # Descriptions of the features\n",
    "})"
   ]
  },
  {
   "cell_type": "markdown",
   "id": "9fc877a9-76ab-48a7-9b0b-368ed74f748d",
   "metadata": {},
   "source": [
    "# chi-Square Test"
   ]
  },
  {
   "cell_type": "code",
   "execution_count": 124,
   "id": "41da3664-80e7-49bf-b9c3-d8375762a50f",
   "metadata": {},
   "outputs": [
    {
     "name": "stdout",
     "output_type": "stream",
     "text": [
      "MANUFACTURER : 0.0\n",
      "DEPARTMENT : 0.0\n",
      "BRAND : 4.249617475100515e-168\n",
      "COMMODITY_DESC : 0.0\n",
      "SUB_COMMODITY_DESC : 0.0\n",
      "Coupon_Provided : 1.0\n"
     ]
    }
   ],
   "source": [
    "# statistical approval for categorical columns.\n",
    "for i in d.select_dtypes('object').columns:\n",
    "    tbl=pd.crosstab(d[i],d.Target)\n",
    "    # Ho: has no effect, Target variable is independent of the respected column.\n",
    "    # Ha: has an effect, Target variable is dependant on the respected column.\n",
    "    ts,p,_,_=stats.chi2_contingency(tbl)\n",
    "    print(i,':',p)"
   ]
  },
  {
   "cell_type": "code",
   "execution_count": 137,
   "id": "14dc2a2f-9f0e-4b6a-a62a-ff3d80add43a",
   "metadata": {},
   "outputs": [
    {
     "data": {
      "text/html": [
       "<div>\n",
       "<style scoped>\n",
       "    .dataframe tbody tr th:only-of-type {\n",
       "        vertical-align: middle;\n",
       "    }\n",
       "\n",
       "    .dataframe tbody tr th {\n",
       "        vertical-align: top;\n",
       "    }\n",
       "\n",
       "    .dataframe thead th {\n",
       "        text-align: right;\n",
       "    }\n",
       "</style>\n",
       "<table border=\"1\" class=\"dataframe\">\n",
       "  <thead>\n",
       "    <tr style=\"text-align: right;\">\n",
       "      <th></th>\n",
       "      <th>MANUFACTURER</th>\n",
       "      <th>DEPARTMENT</th>\n",
       "      <th>BRAND</th>\n",
       "      <th>COMMODITY_DESC</th>\n",
       "      <th>SUB_COMMODITY_DESC</th>\n",
       "      <th>Coupon_Provided</th>\n",
       "      <th>Target</th>\n",
       "      <th>num_hsld_prch_prd</th>\n",
       "      <th>num_stores_has_prd</th>\n",
       "      <th>quantity_sold_total</th>\n",
       "    </tr>\n",
       "    <tr>\n",
       "      <th>PRODUCT_ID</th>\n",
       "      <th></th>\n",
       "      <th></th>\n",
       "      <th></th>\n",
       "      <th></th>\n",
       "      <th></th>\n",
       "      <th></th>\n",
       "      <th></th>\n",
       "      <th></th>\n",
       "      <th></th>\n",
       "      <th></th>\n",
       "    </tr>\n",
       "  </thead>\n",
       "  <tbody>\n",
       "    <tr>\n",
       "      <th>25671</th>\n",
       "      <td>2</td>\n",
       "      <td>GROCERY</td>\n",
       "      <td>National</td>\n",
       "      <td>FRZN ICE</td>\n",
       "      <td>ICE - CRUSHED/CUBED</td>\n",
       "      <td>Provided</td>\n",
       "      <td>0.0</td>\n",
       "      <td>3.0</td>\n",
       "      <td>3.0</td>\n",
       "      <td>6.0</td>\n",
       "    </tr>\n",
       "    <tr>\n",
       "      <th>26081</th>\n",
       "      <td>2</td>\n",
       "      <td>MISC. TRANS.</td>\n",
       "      <td>National</td>\n",
       "      <td>NO COMMODITY DESCRIPTION</td>\n",
       "      <td>NO SUBCOMMODITY DESCRIPTION</td>\n",
       "      <td>Not Provided</td>\n",
       "      <td>NaN</td>\n",
       "      <td>1.0</td>\n",
       "      <td>1.0</td>\n",
       "      <td>1.0</td>\n",
       "    </tr>\n",
       "    <tr>\n",
       "      <th>26093</th>\n",
       "      <td>69</td>\n",
       "      <td>PASTRY</td>\n",
       "      <td>Private</td>\n",
       "      <td>BREAD</td>\n",
       "      <td>BREAD:ITALIAN/FRENCH</td>\n",
       "      <td>Not Provided</td>\n",
       "      <td>NaN</td>\n",
       "      <td>1.0</td>\n",
       "      <td>1.0</td>\n",
       "      <td>1.0</td>\n",
       "    </tr>\n",
       "    <tr>\n",
       "      <th>26190</th>\n",
       "      <td>69</td>\n",
       "      <td>GROCERY</td>\n",
       "      <td>Private</td>\n",
       "      <td>FRUIT - SHELF STABLE</td>\n",
       "      <td>APPLE SAUCE</td>\n",
       "      <td>Provided</td>\n",
       "      <td>0.0</td>\n",
       "      <td>1.0</td>\n",
       "      <td>1.0</td>\n",
       "      <td>1.0</td>\n",
       "    </tr>\n",
       "    <tr>\n",
       "      <th>26355</th>\n",
       "      <td>69</td>\n",
       "      <td>GROCERY</td>\n",
       "      <td>Private</td>\n",
       "      <td>COOKIES/CONES</td>\n",
       "      <td>SPECIALTY COOKIES</td>\n",
       "      <td>Not Provided</td>\n",
       "      <td>NaN</td>\n",
       "      <td>1.0</td>\n",
       "      <td>1.0</td>\n",
       "      <td>2.0</td>\n",
       "    </tr>\n",
       "  </tbody>\n",
       "</table>\n",
       "</div>"
      ],
      "text/plain": [
       "           MANUFACTURER    DEPARTMENT     BRAND            COMMODITY_DESC  \\\n",
       "PRODUCT_ID                                                                  \n",
       "25671                 2       GROCERY  National                  FRZN ICE   \n",
       "26081                 2  MISC. TRANS.  National  NO COMMODITY DESCRIPTION   \n",
       "26093                69        PASTRY   Private                     BREAD   \n",
       "26190                69       GROCERY   Private      FRUIT - SHELF STABLE   \n",
       "26355                69       GROCERY   Private             COOKIES/CONES   \n",
       "\n",
       "                     SUB_COMMODITY_DESC Coupon_Provided  Target  \\\n",
       "PRODUCT_ID                                                        \n",
       "25671               ICE - CRUSHED/CUBED        Provided     0.0   \n",
       "26081       NO SUBCOMMODITY DESCRIPTION    Not Provided     NaN   \n",
       "26093              BREAD:ITALIAN/FRENCH    Not Provided     NaN   \n",
       "26190                       APPLE SAUCE        Provided     0.0   \n",
       "26355                 SPECIALTY COOKIES    Not Provided     NaN   \n",
       "\n",
       "            num_hsld_prch_prd  num_stores_has_prd  quantity_sold_total  \n",
       "PRODUCT_ID                                                              \n",
       "25671                     3.0                 3.0                  6.0  \n",
       "26081                     1.0                 1.0                  1.0  \n",
       "26093                     1.0                 1.0                  1.0  \n",
       "26190                     1.0                 1.0                  1.0  \n",
       "26355                     1.0                 1.0                  2.0  "
      ]
     },
     "execution_count": 137,
     "metadata": {},
     "output_type": "execute_result"
    }
   ],
   "source": [
    "d.head()"
   ]
  },
  {
   "cell_type": "code",
   "execution_count": 138,
   "id": "9323b7d6-ea29-46db-946e-545606fb8a65",
   "metadata": {},
   "outputs": [
    {
     "data": {
      "image/png": "[encoded data removed]",
      "text/plain": [
       "<Figure size 800x600 with 1 Axes>"
      ]
     },
     "metadata": {},
     "output_type": "display_data"
    }
   ],
   "source": [
    "import seaborn as sns\n",
    "import matplotlib.pyplot as plt\n",
    "\n",
    "# Assuming the `product` DataFrame contains a numeric column you want to plot\n",
    "plt.figure(figsize=(8, 6))\n",
    "sns.boxplot(data=d, y='num_hsld_prch_prd')  # Replace 'PRICE' with the column you want to plot\n",
    "\n",
    "# Add a title\n",
    "plt.title('Box Plot of PRICE')\n",
    "\n",
    "# Show the plot\n",
    "plt.show()\n"
   ]
  },
  {
   "cell_type": "code",
   "execution_count": null,
   "id": "52c2f1cf-eb43-4bd2-b981-ba028be7345a",
   "metadata": {},
   "outputs": [],
   "source": []
  },
  {
   "cell_type": "code",
   "execution_count": 139,
   "id": "9576e65d-12b9-40cb-9739-1a9fd925601c",
   "metadata": {},
   "outputs": [
    {
     "data": {
      "image/png": "[encoded data removed]",
      "text/plain": [
       "<Figure size 800x600 with 1 Axes>"
      ]
     },
     "metadata": {},
     "output_type": "display_data"
    }
   ],
   "source": [
    "plt.figure(figsize=(8, 6))\n",
    "sns.boxplot(data=d, y='num_stores_has_prd')  # Replace 'PRICE' with the column you want to plot\n",
    "\n",
    "# Add a title\n",
    "plt.title('Box Plot of PRICE')\n",
    "\n",
    "# Show the plot\n",
    "plt.show()"
   ]
  },
  {
   "cell_type": "code",
   "execution_count": 140,
   "id": "1ae2962c-99b7-4c67-b48f-63da32e69ae6",
   "metadata": {},
   "outputs": [
    {
     "data": {
      "image/png": "[encoded data removed]",
      "text/plain": [
       "<Figure size 800x600 with 1 Axes>"
      ]
     },
     "metadata": {},
     "output_type": "display_data"
    }
   ],
   "source": [
    "plt.figure(figsize=(8, 6))\n",
    "sns.boxplot(data=d, y='quantity_sold_total')  # Replace 'PRICE' with the column you want to plot\n",
    "\n",
    "# Add a title\n",
    "plt.title('Box Plot of PRICE')\n",
    "\n",
    "# Show the plot\n",
    "plt.show()"
   ]
  },
  {
   "cell_type": "code",
   "execution_count": 141,
   "id": "53a087fd-735f-4ec6-97b7-d02bd992704b",
   "metadata": {},
   "outputs": [
    {
     "name": "stdout",
     "output_type": "stream",
     "text": [
      "num_hsld_prch_prd :man 0.0\n",
      "num_stores_has_prd :man 0.0\n",
      "quantity_sold_total :man 0.0\n"
     ]
    }
   ],
   "source": [
    "# statistical approval for numerical columns.\n",
    "for i in d.select_dtypes(np.number).columns[1:]:\n",
    "    zero=d.loc[d.Target==0,i]\n",
    "    ones=d.loc[d.Target==1,i]\n",
    "    # Ho: Data is normal\n",
    "    # Ha: Data not normal\n",
    "    p1=stats.shapiro(zero)[1]\n",
    "    p2=stats.shapiro(ones)[1]\n",
    "    if (p1<0.05)&(p2<0.05):\n",
    "        # Ho: (has no effect) => Target variable is independent of the respected column.\n",
    "        # Ha: (has an effect) => Target variable is dependant on the respected column.\n",
    "        print(i,':man',stats.mannwhitneyu(zero,ones)[1])\n",
    "    else:\n",
    "        # Ho: (has no effect) => Target variable is independent of the respected column.\n",
    "        # Ha: (has an effect) => Target variable is dependant on the respected column.\n",
    "        print(i,':t',stats.ttest_ind(zero,ones)[1])"
   ]
  },
  {
   "cell_type": "code",
   "execution_count": 142,
   "id": "5fc3d4f6",
   "metadata": {},
   "outputs": [],
   "source": [
    "#by doing the appropriate tests we found out that the data is not normally distributed"
   ]
  },
  {
   "cell_type": "code",
   "execution_count": 143,
   "id": "08d41444-b20c-4408-a128-457b8a5fdbd2",
   "metadata": {},
   "outputs": [],
   "source": [
    "# Create a copy of the 'd' DataFrame to avoid modifying the original DataFrame\n",
    "df1 = d.copy()\n",
    "\n",
    "# Import the TargetEncoder from the category_encoders library\n",
    "from category_encoders import TargetEncoder\n",
    "\n",
    "# Initialize the TargetEncoder\n",
    "te = TargetEncoder()\n",
    "\n",
    "# Iterate over each column in 'df1' that has an object (categorical) data type\n",
    "for i in df1.select_dtypes('object').columns:\n",
    "    # Apply target encoding to the categorical column\n",
    "    # Target encoding replaces categorical values with a mean of the target variable for each category\n",
    "    df1[i] = te.fit_transform(df1[i], df1.Target)"
   ]
  },
  {
   "cell_type": "code",
   "execution_count": 144,
   "id": "427ba640-f7f8-41fe-a5f4-5306e87315e1",
   "metadata": {},
   "outputs": [
    {
     "data": {
      "image/png": "[encoded data removed]",
      "text/plain": [
       "<Figure size 1000x400 with 2 Axes>"
      ]
     },
     "metadata": {},
     "output_type": "display_data"
    }
   ],
   "source": [
    "# Create a heatmap to visualize the correlation matrix of the 'df1' DataFrame\n",
    "plt.figure(figsize=(10,4))\n",
    "sns.heatmap(df1.corr(),annot=True,vmin=-1,vmax=+1)\n",
    "plt.show()"
   ]
  },
  {
   "cell_type": "code",
   "execution_count": 145,
   "id": "d275368e-60ca-454b-99c4-32b787cf3d1b",
   "metadata": {},
   "outputs": [
    {
     "data": {
      "text/html": [
       "<div>\n",
       "<style scoped>\n",
       "    .dataframe tbody tr th:only-of-type {\n",
       "        vertical-align: middle;\n",
       "    }\n",
       "\n",
       "    .dataframe tbody tr th {\n",
       "        vertical-align: top;\n",
       "    }\n",
       "\n",
       "    .dataframe thead th {\n",
       "        text-align: right;\n",
       "    }\n",
       "</style>\n",
       "<table border=\"1\" class=\"dataframe\">\n",
       "  <thead>\n",
       "    <tr style=\"text-align: right;\">\n",
       "      <th></th>\n",
       "      <th>MANUFACTURER</th>\n",
       "      <th>DEPARTMENT</th>\n",
       "      <th>BRAND</th>\n",
       "      <th>COMMODITY_DESC</th>\n",
       "      <th>SUB_COMMODITY_DESC</th>\n",
       "      <th>Coupon_Provided</th>\n",
       "      <th>Target</th>\n",
       "      <th>num_hsld_prch_prd</th>\n",
       "      <th>num_stores_has_prd</th>\n",
       "      <th>quantity_sold_total</th>\n",
       "    </tr>\n",
       "    <tr>\n",
       "      <th>PRODUCT_ID</th>\n",
       "      <th></th>\n",
       "      <th></th>\n",
       "      <th></th>\n",
       "      <th></th>\n",
       "      <th></th>\n",
       "      <th></th>\n",
       "      <th></th>\n",
       "      <th></th>\n",
       "      <th></th>\n",
       "      <th></th>\n",
       "    </tr>\n",
       "  </thead>\n",
       "  <tbody>\n",
       "    <tr>\n",
       "      <th>25671</th>\n",
       "      <td>0.000000</td>\n",
       "      <td>0.222738</td>\n",
       "      <td>0.158725</td>\n",
       "      <td>0.043315</td>\n",
       "      <td>0.043315</td>\n",
       "      <td>0.139713</td>\n",
       "      <td>0.0</td>\n",
       "      <td>3.0</td>\n",
       "      <td>3.0</td>\n",
       "      <td>6.0</td>\n",
       "    </tr>\n",
       "    <tr>\n",
       "      <th>26081</th>\n",
       "      <td>0.000000</td>\n",
       "      <td>0.010966</td>\n",
       "      <td>0.158725</td>\n",
       "      <td>0.010966</td>\n",
       "      <td>0.013410</td>\n",
       "      <td>NaN</td>\n",
       "      <td>NaN</td>\n",
       "      <td>1.0</td>\n",
       "      <td>1.0</td>\n",
       "      <td>1.0</td>\n",
       "    </tr>\n",
       "    <tr>\n",
       "      <th>26093</th>\n",
       "      <td>0.030415</td>\n",
       "      <td>0.057695</td>\n",
       "      <td>0.029666</td>\n",
       "      <td>0.096398</td>\n",
       "      <td>0.119894</td>\n",
       "      <td>NaN</td>\n",
       "      <td>NaN</td>\n",
       "      <td>1.0</td>\n",
       "      <td>1.0</td>\n",
       "      <td>1.0</td>\n",
       "    </tr>\n",
       "    <tr>\n",
       "      <th>26190</th>\n",
       "      <td>0.030415</td>\n",
       "      <td>0.222738</td>\n",
       "      <td>0.029666</td>\n",
       "      <td>0.129730</td>\n",
       "      <td>0.096398</td>\n",
       "      <td>0.139713</td>\n",
       "      <td>0.0</td>\n",
       "      <td>1.0</td>\n",
       "      <td>1.0</td>\n",
       "      <td>1.0</td>\n",
       "    </tr>\n",
       "    <tr>\n",
       "      <th>26355</th>\n",
       "      <td>0.030415</td>\n",
       "      <td>0.222738</td>\n",
       "      <td>0.029666</td>\n",
       "      <td>0.262626</td>\n",
       "      <td>0.170981</td>\n",
       "      <td>NaN</td>\n",
       "      <td>NaN</td>\n",
       "      <td>1.0</td>\n",
       "      <td>1.0</td>\n",
       "      <td>2.0</td>\n",
       "    </tr>\n",
       "  </tbody>\n",
       "</table>\n",
       "</div>"
      ],
      "text/plain": [
       "            MANUFACTURER  DEPARTMENT     BRAND  COMMODITY_DESC  \\\n",
       "PRODUCT_ID                                                       \n",
       "25671           0.000000    0.222738  0.158725        0.043315   \n",
       "26081           0.000000    0.010966  0.158725        0.010966   \n",
       "26093           0.030415    0.057695  0.029666        0.096398   \n",
       "26190           0.030415    0.222738  0.029666        0.129730   \n",
       "26355           0.030415    0.222738  0.029666        0.262626   \n",
       "\n",
       "            SUB_COMMODITY_DESC  Coupon_Provided  Target  num_hsld_prch_prd  \\\n",
       "PRODUCT_ID                                                                   \n",
       "25671                 0.043315         0.139713     0.0                3.0   \n",
       "26081                 0.013410              NaN     NaN                1.0   \n",
       "26093                 0.119894              NaN     NaN                1.0   \n",
       "26190                 0.096398         0.139713     0.0                1.0   \n",
       "26355                 0.170981              NaN     NaN                1.0   \n",
       "\n",
       "            num_stores_has_prd  quantity_sold_total  \n",
       "PRODUCT_ID                                           \n",
       "25671                      3.0                  6.0  \n",
       "26081                      1.0                  1.0  \n",
       "26093                      1.0                  1.0  \n",
       "26190                      1.0                  1.0  \n",
       "26355                      1.0                  2.0  "
      ]
     },
     "execution_count": 145,
     "metadata": {},
     "output_type": "execute_result"
    }
   ],
   "source": [
    "# Display the first few rows of the 'df1' DataFrame to get an overview of the data\n",
    "df1.head()"
   ]
  },
  {
   "cell_type": "markdown",
   "id": "ec066daf-f172-4a1b-94f6-f3298c57f83a",
   "metadata": {},
   "source": [
    "#Encoding ~ trail 1 => Target Encoding"
   ]
  },
  {
   "cell_type": "code",
   "execution_count": 146,
   "id": "eb75d348-0e2d-4fe9-8b4e-5b46925d27a6",
   "metadata": {},
   "outputs": [
    {
     "data": {
      "text/plain": [
       "MANUFACTURER           float64\n",
       "DEPARTMENT             float64\n",
       "BRAND                  float64\n",
       "COMMODITY_DESC         float64\n",
       "SUB_COMMODITY_DESC     float64\n",
       "Coupon_Provided        float64\n",
       "Target                 float64\n",
       "num_hsld_prch_prd      float64\n",
       "num_stores_has_prd     float64\n",
       "quantity_sold_total    float64\n",
       "dtype: object"
      ]
     },
     "execution_count": 146,
     "metadata": {},
     "output_type": "execute_result"
    }
   ],
   "source": [
    "# Display the data types of each column in the 'df1' DataFrame\n",
    "df1.dtypes"
   ]
  },
  {
   "cell_type": "markdown",
   "id": "faf693b3-4bdf-42a6-a1e9-09e156233e2f",
   "metadata": {},
   "source": [
    "# Model Building:"
   ]
  },
  {
   "cell_type": "code",
   "execution_count": 147,
   "id": "a27cfa12-8b7a-4a5f-b9c9-1a9034420750",
   "metadata": {},
   "outputs": [],
   "source": [
    "# checking for correlation with the tgt..\n",
    "train_df1=df1[df1.Target.notna()]\n",
    "test_df1=df1[df1.Target.isnull()]"
   ]
  },
  {
   "cell_type": "code",
   "execution_count": 148,
   "id": "75538803-75f1-44ee-99b3-9a9d385f8334",
   "metadata": {},
   "outputs": [
    {
     "data": {
      "image/png": "[encoded data removed]",
      "text/plain": [
       "<Figure size 1000x400 with 2 Axes>"
      ]
     },
     "metadata": {},
     "output_type": "display_data"
    }
   ],
   "source": [
    "# correlation plot..\n",
    "plt.figure(figsize=(10,4))\n",
    "sns.heatmap(train_df1.corr(),annot=True,vmin=-1,vmax=+1)\n",
    "plt.show()"
   ]
  },
  {
   "cell_type": "code",
   "execution_count": 149,
   "id": "789abdbe-fb53-4481-ad17-a4ffda3c3c58",
   "metadata": {},
   "outputs": [],
   "source": [
    "# splitting into train and test..\n",
    "xtrain_df1=train_df1.drop(columns='Target')\n",
    "ytrain_df1=train_df1.Target\n",
    "xtest_df1=test_df1.drop(columns='Target')"
   ]
  },
  {
   "cell_type": "code",
   "execution_count": 150,
   "id": "6c283581-82af-40c2-a8bb-aea030760703",
   "metadata": {},
   "outputs": [
    {
     "data": {
      "text/html": [
       "<div>\n",
       "<style scoped>\n",
       "    .dataframe tbody tr th:only-of-type {\n",
       "        vertical-align: middle;\n",
       "    }\n",
       "\n",
       "    .dataframe tbody tr th {\n",
       "        vertical-align: top;\n",
       "    }\n",
       "\n",
       "    .dataframe thead th {\n",
       "        text-align: right;\n",
       "    }\n",
       "</style>\n",
       "<table border=\"1\" class=\"dataframe\">\n",
       "  <thead>\n",
       "    <tr style=\"text-align: right;\">\n",
       "      <th></th>\n",
       "      <th>MANUFACTURER</th>\n",
       "      <th>DEPARTMENT</th>\n",
       "      <th>BRAND</th>\n",
       "      <th>COMMODITY_DESC</th>\n",
       "      <th>SUB_COMMODITY_DESC</th>\n",
       "      <th>Coupon_Provided</th>\n",
       "      <th>num_hsld_prch_prd</th>\n",
       "      <th>num_stores_has_prd</th>\n",
       "      <th>quantity_sold_total</th>\n",
       "    </tr>\n",
       "    <tr>\n",
       "      <th>PRODUCT_ID</th>\n",
       "      <th></th>\n",
       "      <th></th>\n",
       "      <th></th>\n",
       "      <th></th>\n",
       "      <th></th>\n",
       "      <th></th>\n",
       "      <th></th>\n",
       "      <th></th>\n",
       "      <th></th>\n",
       "    </tr>\n",
       "  </thead>\n",
       "  <tbody>\n",
       "    <tr>\n",
       "      <th>25671</th>\n",
       "      <td>0.000000</td>\n",
       "      <td>0.222738</td>\n",
       "      <td>0.158725</td>\n",
       "      <td>0.043315</td>\n",
       "      <td>0.043315</td>\n",
       "      <td>0.139713</td>\n",
       "      <td>3.0</td>\n",
       "      <td>3.0</td>\n",
       "      <td>6.0</td>\n",
       "    </tr>\n",
       "    <tr>\n",
       "      <th>26190</th>\n",
       "      <td>0.030415</td>\n",
       "      <td>0.222738</td>\n",
       "      <td>0.029666</td>\n",
       "      <td>0.129730</td>\n",
       "      <td>0.096398</td>\n",
       "      <td>0.139713</td>\n",
       "      <td>1.0</td>\n",
       "      <td>1.0</td>\n",
       "      <td>1.0</td>\n",
       "    </tr>\n",
       "    <tr>\n",
       "      <th>26601</th>\n",
       "      <td>0.030415</td>\n",
       "      <td>0.124915</td>\n",
       "      <td>0.029666</td>\n",
       "      <td>0.098569</td>\n",
       "      <td>0.050030</td>\n",
       "      <td>0.139713</td>\n",
       "      <td>1.0</td>\n",
       "      <td>1.0</td>\n",
       "      <td>1.0</td>\n",
       "    </tr>\n",
       "    <tr>\n",
       "      <th>26738</th>\n",
       "      <td>0.030415</td>\n",
       "      <td>0.222738</td>\n",
       "      <td>0.029666</td>\n",
       "      <td>0.172626</td>\n",
       "      <td>0.018293</td>\n",
       "      <td>0.139713</td>\n",
       "      <td>1.0</td>\n",
       "      <td>1.0</td>\n",
       "      <td>1.0</td>\n",
       "    </tr>\n",
       "    <tr>\n",
       "      <th>26941</th>\n",
       "      <td>0.030415</td>\n",
       "      <td>0.222738</td>\n",
       "      <td>0.029666</td>\n",
       "      <td>0.172626</td>\n",
       "      <td>0.018293</td>\n",
       "      <td>0.139713</td>\n",
       "      <td>1.0</td>\n",
       "      <td>1.0</td>\n",
       "      <td>1.0</td>\n",
       "    </tr>\n",
       "  </tbody>\n",
       "</table>\n",
       "</div>"
      ],
      "text/plain": [
       "            MANUFACTURER  DEPARTMENT     BRAND  COMMODITY_DESC  \\\n",
       "PRODUCT_ID                                                       \n",
       "25671           0.000000    0.222738  0.158725        0.043315   \n",
       "26190           0.030415    0.222738  0.029666        0.129730   \n",
       "26601           0.030415    0.124915  0.029666        0.098569   \n",
       "26738           0.030415    0.222738  0.029666        0.172626   \n",
       "26941           0.030415    0.222738  0.029666        0.172626   \n",
       "\n",
       "            SUB_COMMODITY_DESC  Coupon_Provided  num_hsld_prch_prd  \\\n",
       "PRODUCT_ID                                                           \n",
       "25671                 0.043315         0.139713                3.0   \n",
       "26190                 0.096398         0.139713                1.0   \n",
       "26601                 0.050030         0.139713                1.0   \n",
       "26738                 0.018293         0.139713                1.0   \n",
       "26941                 0.018293         0.139713                1.0   \n",
       "\n",
       "            num_stores_has_prd  quantity_sold_total  \n",
       "PRODUCT_ID                                           \n",
       "25671                      3.0                  6.0  \n",
       "26190                      1.0                  1.0  \n",
       "26601                      1.0                  1.0  \n",
       "26738                      1.0                  1.0  \n",
       "26941                      1.0                  1.0  "
      ]
     },
     "execution_count": 150,
     "metadata": {},
     "output_type": "execute_result"
    }
   ],
   "source": [
    "# Display the first few rows of the 'xtrain_df1' DataFrame to get an overview of the data\n",
    "xtrain_df1.head()"
   ]
  },
  {
   "cell_type": "code",
   "execution_count": 151,
   "id": "1d2accf5-d0aa-4dab-b839-fcaebee064cc",
   "metadata": {},
   "outputs": [
    {
     "data": {
      "text/plain": [
       "Coupon_Provided        19.463437\n",
       "num_hsld_prch_prd       7.591765\n",
       "COMMODITY_DESC          4.057077\n",
       "quantity_sold_total     3.634977\n",
       "num_stores_has_prd      3.567617\n",
       "SUB_COMMODITY_DESC      3.297706\n",
       "MANUFACTURER            2.243485\n",
       "DEPARTMENT              1.803405\n",
       "BRAND                   1.407887\n",
       "dtype: float64"
      ]
     },
     "execution_count": 151,
     "metadata": {},
     "output_type": "execute_result"
    }
   ],
   "source": [
    "# checking for the multicollinearity..\n",
    "pd.Series([variance_inflation_factor(xtrain_df1.values,i) for i in range(xtrain_df1.shape[1])],index=xtrain_df1.columns).sort_values(ascending=False)\n",
    "# no multi-collinearity."
   ]
  },
  {
   "cell_type": "markdown",
   "id": "383adf9b-1a33-4358-aceb-ff335ccb8e59",
   "metadata": {},
   "source": [
    "#Encoding ~ trial 2 => pd.factorize"
   ]
  },
  {
   "cell_type": "code",
   "execution_count": 152,
   "id": "b19821c9-b364-4787-8b67-1d90bbc50e35",
   "metadata": {},
   "outputs": [],
   "source": [
    "df2=d.copy()\n",
    "for i in catcol:\n",
    "    df2[i]=pd.factorize(df2[i])[0]\n",
    "train_df2=df2[df2.Target.notna()]\n",
    "test_df2=df2[df2.Target.isnull()]\n",
    "xtrain_df2=train_df2.drop(columns='Target')\n",
    "ytrain_df2=train_df2.Target\n",
    "xtest_df2=df2[df2.Target.isnull()]"
   ]
  },
  {
   "cell_type": "code",
   "execution_count": 153,
   "id": "dff894c3-e3c6-428e-a1a0-dbadb32f64f6",
   "metadata": {},
   "outputs": [
    {
     "data": {
      "text/plain": [
       "num_hsld_prch_prd      8.141521\n",
       "num_stores_has_prd     4.148490\n",
       "COMMODITY_DESC         3.974942\n",
       "quantity_sold_total    3.694776\n",
       "SUB_COMMODITY_DESC     3.646287\n",
       "DEPARTMENT             2.944606\n",
       "MANUFACTURER           1.778302\n",
       "BRAND                  1.143933\n",
       "Coupon_Provided             NaN\n",
       "dtype: float64"
      ]
     },
     "execution_count": 153,
     "metadata": {},
     "output_type": "execute_result"
    }
   ],
   "source": [
    "# checking multicollinearity.\n",
    "pd.Series([variance_inflation_factor(xtrain_df2.values,i) for i in range(xtrain_df2.shape[1])],index=xtrain_df2.columns).sort_values(ascending=False)\n",
    "# no multicollinearity is there."
   ]
  },
  {
   "cell_type": "code",
   "execution_count": 154,
   "id": "03a9d280-4be3-4137-8e9d-e4077a4eae36",
   "metadata": {},
   "outputs": [
    {
     "data": {
      "text/plain": [
       "num_hsld_prch_prd      8.141521\n",
       "num_stores_has_prd     4.148490\n",
       "COMMODITY_DESC         3.974942\n",
       "quantity_sold_total    3.694776\n",
       "SUB_COMMODITY_DESC     3.646287\n",
       "DEPARTMENT             2.944606\n",
       "MANUFACTURER           1.778302\n",
       "BRAND                  1.143933\n",
       "Coupon_Provided             NaN\n",
       "dtype: float64"
      ]
     },
     "execution_count": 154,
     "metadata": {},
     "output_type": "execute_result"
    }
   ],
   "source": [
    "#df2.drop(columns='magic2',inplace=True)\n",
    "train_df2=df2[df2.Target.notna()]\n",
    "test_df2=df2[df2.Target.isnull()]\n",
    "xtrain_df2=train_df2.drop(columns='Target')\n",
    "ytrain_df2=train_df2.Target\n",
    "xtest_df2=df2[df2.Target.isnull()]\n",
    "pd.Series([variance_inflation_factor(xtrain_df2.values,i) for i in range(xtrain_df2.shape[1])],index=xtrain_df2.columns).sort_values(ascending=False)"
   ]
  },
  {
   "cell_type": "code",
   "execution_count": 155,
   "id": "7c14b67c-97a0-4d18-ac41-5f17069beaed",
   "metadata": {},
   "outputs": [],
   "source": [
    "#Finalizing the encoding method."
   ]
  },
  {
   "cell_type": "code",
   "execution_count": 156,
   "id": "fc1d2c62-dcbe-4b5b-a231-51f9f112f700",
   "metadata": {},
   "outputs": [
    {
     "data": {
      "text/plain": [
       "MANUFACTURER           25397\n",
       "DEPARTMENT               417\n",
       "BRAND                      0\n",
       "COMMODITY_DESC          5659\n",
       "SUB_COMMODITY_DESC     25430\n",
       "Coupon_Provided        47972\n",
       "Target                 47972\n",
       "num_hsld_prch_prd          0\n",
       "num_stores_has_prd         0\n",
       "quantity_sold_total        0\n",
       "dtype: int64"
      ]
     },
     "execution_count": 156,
     "metadata": {},
     "output_type": "execute_result"
    }
   ],
   "source": [
    "df1.isnull().sum()"
   ]
  },
  {
   "cell_type": "code",
   "execution_count": 157,
   "id": "64c0a19d-2ca5-415f-8910-f277a8c60a69",
   "metadata": {},
   "outputs": [
    {
     "data": {
      "text/plain": [
       "MANUFACTURER               0\n",
       "DEPARTMENT                 0\n",
       "BRAND                      0\n",
       "COMMODITY_DESC             0\n",
       "SUB_COMMODITY_DESC         0\n",
       "Coupon_Provided            0\n",
       "Target                 47972\n",
       "num_hsld_prch_prd          0\n",
       "num_stores_has_prd         0\n",
       "quantity_sold_total        0\n",
       "dtype: int64"
      ]
     },
     "execution_count": 157,
     "metadata": {},
     "output_type": "execute_result"
    }
   ],
   "source": [
    "\n",
    "df2.isnull().sum()"
   ]
  },
  {
   "cell_type": "code",
   "execution_count": 158,
   "id": "923951c7-e50e-4524-91a3-63134f051304",
   "metadata": {},
   "outputs": [],
   "source": [
    "# df1 is rejected as it contains too many null values is the test set\n",
    "# reason => many newmanufactures, department, commodities were added lattely.\n",
    "# df2 => is thus selected. => encoding method => pd.factorize."
   ]
  },
  {
   "cell_type": "markdown",
   "id": "d5976d41-c776-4733-9eb1-68d793bde92b",
   "metadata": {},
   "source": [
    "##Modeling"
   ]
  },
  {
   "cell_type": "code",
   "execution_count": 159,
   "id": "e92baac3-2a64-4c53-b4b4-467f37a44ec7",
   "metadata": {},
   "outputs": [],
   "source": [
    "# spliting the dataset into train and test.\n",
    "main_train=df2[df2.Target.notna()]\n",
    "main_test=df2[df2.Target.isnull()]\n",
    "main_test=main_test.drop(columns='Target')"
   ]
  },
  {
   "cell_type": "code",
   "execution_count": 160,
   "id": "fea6d514-5d2d-424d-9bd7-18ac2deada70",
   "metadata": {},
   "outputs": [
    {
     "data": {
      "text/plain": [
       "(43933, 10)"
      ]
     },
     "execution_count": 160,
     "metadata": {},
     "output_type": "execute_result"
    }
   ],
   "source": [
    "# checking shape of train after splitting \n",
    "main_train.shape"
   ]
  },
  {
   "cell_type": "code",
   "execution_count": 161,
   "id": "792c1b1e-1f08-4620-a14d-7251ef19590e",
   "metadata": {},
   "outputs": [
    {
     "data": {
      "text/plain": [
       "(47972, 9)"
      ]
     },
     "execution_count": 161,
     "metadata": {},
     "output_type": "execute_result"
    }
   ],
   "source": [
    "# checking shape of test after splitting \n",
    "main_test.shape"
   ]
  },
  {
   "cell_type": "code",
   "execution_count": 162,
   "id": "f65a6238-a140-4e3d-8b1a-33c976bf643b",
   "metadata": {},
   "outputs": [],
   "source": [
    "# further spliting\n",
    "from sklearn.model_selection import train_test_split\n",
    "X = main_train.drop(columns='Target')\n",
    "y = main_train.Target"
   ]
  },
  {
   "cell_type": "code",
   "execution_count": 163,
   "id": "4aff417c-0c05-443b-b35f-15265559a998",
   "metadata": {},
   "outputs": [],
   "source": [
    "# Import the train_test_split function from scikit-learn for splitting datasets\n",
    "from sklearn.model_selection import train_test_split\n",
    "\n",
    "# Split the data into training and testing sets\n",
    "# X: Features, y: Target variable\n",
    "# test_size=0.2: Specifies that 20% of the data should be used for testing\n",
    "# stratify=y: Ensures that the split maintains the same proportion of target classes as in the original dataset\n",
    "xtrain, xtest, ytrain, ytest = train_test_split(X, y, test_size=0.2, stratify=y)"
   ]
  },
  {
   "cell_type": "code",
   "execution_count": 164,
   "id": "1c81330a-c6eb-41f0-b687-a6eacc8f39bc",
   "metadata": {},
   "outputs": [
    {
     "name": "stdout",
     "output_type": "stream",
     "text": [
      "Requirement already satisfied: xgboost in c:\\users\\dell\\anaconda3\\lib\\site-packages (2.1.1)\n",
      "Requirement already satisfied: catboost in c:\\users\\dell\\anaconda3\\lib\\site-packages (1.2.5)\n",
      "Requirement already satisfied: lightgbm in c:\\users\\dell\\anaconda3\\lib\\site-packages (4.5.0)\n",
      "Requirement already satisfied: numpy in c:\\users\\dell\\anaconda3\\lib\\site-packages (from xgboost) (1.26.4)\n",
      "Requirement already satisfied: scipy in c:\\users\\dell\\anaconda3\\lib\\site-packages (from xgboost) (1.11.4)\n",
      "Requirement already satisfied: graphviz in c:\\users\\dell\\anaconda3\\lib\\site-packages (from catboost) (0.20.3)\n",
      "Requirement already satisfied: matplotlib in c:\\users\\dell\\anaconda3\\lib\\site-packages (from catboost) (3.8.0)\n",
      "Requirement already satisfied: pandas>=0.24 in c:\\users\\dell\\anaconda3\\lib\\site-packages (from catboost) (2.1.4)\n",
      "Requirement already satisfied: plotly in c:\\users\\dell\\anaconda3\\lib\\site-packages (from catboost) (5.9.0)\n",
      "Requirement already satisfied: six in c:\\users\\dell\\anaconda3\\lib\\site-packages (from catboost) (1.16.0)\n",
      "Requirement already satisfied: python-dateutil>=2.8.2 in c:\\users\\dell\\anaconda3\\lib\\site-packages (from pandas>=0.24->catboost) (2.8.2)\n",
      "Requirement already satisfied: pytz>=2020.1 in c:\\users\\dell\\anaconda3\\lib\\site-packages (from pandas>=0.24->catboost) (2023.3.post1)\n",
      "Requirement already satisfied: tzdata>=2022.1 in c:\\users\\dell\\anaconda3\\lib\\site-packages (from pandas>=0.24->catboost) (2023.3)\n",
      "Requirement already satisfied: contourpy>=1.0.1 in c:\\users\\dell\\anaconda3\\lib\\site-packages (from matplotlib->catboost) (1.2.0)\n",
      "Requirement already satisfied: cycler>=0.10 in c:\\users\\dell\\anaconda3\\lib\\site-packages (from matplotlib->catboost) (0.11.0)\n",
      "Requirement already satisfied: fonttools>=4.22.0 in c:\\users\\dell\\anaconda3\\lib\\site-packages (from matplotlib->catboost) (4.25.0)\n",
      "Requirement already satisfied: kiwisolver>=1.0.1 in c:\\users\\dell\\anaconda3\\lib\\site-packages (from matplotlib->catboost) (1.4.4)\n",
      "Requirement already satisfied: packaging>=20.0 in c:\\users\\dell\\anaconda3\\lib\\site-packages (from matplotlib->catboost) (23.1)\n",
      "Requirement already satisfied: pillow>=6.2.0 in c:\\users\\dell\\anaconda3\\lib\\site-packages (from matplotlib->catboost) (10.2.0)\n",
      "Requirement already satisfied: pyparsing>=2.3.1 in c:\\users\\dell\\anaconda3\\lib\\site-packages (from matplotlib->catboost) (3.0.9)\n",
      "Requirement already satisfied: tenacity>=6.2.0 in c:\\users\\dell\\anaconda3\\lib\\site-packages (from plotly->catboost) (8.2.2)\n"
     ]
    }
   ],
   "source": [
    "!pip install xgboost catboost lightgbm"
   ]
  },
  {
   "cell_type": "markdown",
   "id": "28a7ee62-43c1-475b-aaec-47cef88275f9",
   "metadata": {},
   "source": [
    "# Importing Models:"
   ]
  },
  {
   "cell_type": "code",
   "execution_count": 165,
   "id": "7bac1219-ca8f-4746-a6dd-ccc0cd1afc40",
   "metadata": {},
   "outputs": [],
   "source": [
    "# importing Models..\n",
    "\n",
    "from sklearn.neighbors import KNeighborsClassifier\n",
    "from sklearn.naive_bayes import GaussianNB\n",
    "from sklearn.tree import DecisionTreeClassifier\n",
    "from sklearn.ensemble import RandomForestClassifier\n",
    "from sklearn.ensemble import AdaBoostClassifier\n",
    "from sklearn.ensemble import GradientBoostingClassifier\n",
    "from xgboost import XGBClassifier\n",
    "from catboost import CatBoostClassifier\n",
    "from lightgbm import LGBMClassifier\n",
    "from sklearn.metrics import f1_score, recall_score, precision_score, confusion_matrix, accuracy_score\n",
    "\n",
    "knn=KNeighborsClassifier()\n",
    "nb=GaussianNB()\n",
    "dt=DecisionTreeClassifier()\n",
    "rfc=RandomForestClassifier()\n",
    "ada=AdaBoostClassifier()\n",
    "gbm=GradientBoostingClassifier()\n",
    "xgb=XGBClassifier()\n",
    "cat=CatBoostClassifier()\n",
    "lgbm=LGBMClassifier()\n",
    "l=[knn,nb,dt,rfc,ada,gbm,xgb,lgbm]"
   ]
  },
  {
   "cell_type": "code",
   "execution_count": 166,
   "id": "afa33a06-5495-446e-990d-9dfeb5051d35",
   "metadata": {},
   "outputs": [
    {
     "data": {
      "text/plain": [
       "[KNeighborsClassifier(),\n",
       " GaussianNB(),\n",
       " DecisionTreeClassifier(),\n",
       " RandomForestClassifier(),\n",
       " AdaBoostClassifier(),\n",
       " GradientBoostingClassifier(),\n",
       " XGBClassifier(base_score=None, booster=None, callbacks=None,\n",
       "               colsample_bylevel=None, colsample_bynode=None,\n",
       "               colsample_bytree=None, device=None, early_stopping_rounds=None,\n",
       "               enable_categorical=False, eval_metric=None, feature_types=None,\n",
       "               gamma=None, grow_policy=None, importance_type=None,\n",
       "               interaction_constraints=None, learning_rate=None, max_bin=None,\n",
       "               max_cat_threshold=None, max_cat_to_onehot=None,\n",
       "               max_delta_step=None, max_depth=None, max_leaves=None,\n",
       "               min_child_weight=None, missing=nan, monotone_constraints=None,\n",
       "               multi_strategy=None, n_estimators=None, n_jobs=None,\n",
       "               num_parallel_tree=None, random_state=None, ...),\n",
       " LGBMClassifier()]"
      ]
     },
     "execution_count": 166,
     "metadata": {},
     "output_type": "execute_result"
    }
   ],
   "source": [
    "l"
   ]
  },
  {
   "cell_type": "code",
   "execution_count": 167,
   "id": "46246144-1032-4e06-b9b1-350de0b48f9c",
   "metadata": {},
   "outputs": [],
   "source": [
    "l1=['knn','nb','dt','rfc','ada','gbm','xgbm','lgbm']"
   ]
  },
  {
   "cell_type": "code",
   "execution_count": 168,
   "id": "c5e23da0-8e2b-44cf-a360-4f8fe404f09a",
   "metadata": {},
   "outputs": [
    {
     "name": "stdout",
     "output_type": "stream",
     "text": [
      "KNeighborsClassifier() :\n",
      "[[36656  1139]\n",
      " [ 2190  3948]]\n",
      "\n",
      "GaussianNB() :\n",
      "[[36071  1724]\n",
      " [ 3598  2540]]\n",
      "\n",
      "DecisionTreeClassifier() :\n",
      "[[37779    16]\n",
      " [  455  5683]]\n",
      "\n",
      "RandomForestClassifier() :\n",
      "[[37753    42]\n",
      " [  430  5708]]\n",
      "\n",
      "AdaBoostClassifier() :\n",
      "[[36018  1777]\n",
      " [ 2837  3301]]\n",
      "\n",
      "GradientBoostingClassifier() :\n",
      "[[36261  1534]\n",
      " [ 2731  3407]]\n",
      "\n",
      "XGBClassifier(base_score=None, booster=None, callbacks=None,\n",
      "              colsample_bylevel=None, colsample_bynode=None,\n",
      "              colsample_bytree=None, device=None, early_stopping_rounds=None,\n",
      "              enable_categorical=False, eval_metric=None, feature_types=None,\n",
      "              gamma=None, grow_policy=None, importance_type=None,\n",
      "              interaction_constraints=None, learning_rate=None, max_bin=None,\n",
      "              max_cat_threshold=None, max_cat_to_onehot=None,\n",
      "              max_delta_step=None, max_depth=None, max_leaves=None,\n",
      "              min_child_weight=None, missing=nan, monotone_constraints=None,\n",
      "              multi_strategy=None, n_estimators=None, n_jobs=None,\n",
      "              num_parallel_tree=None, random_state=None, ...) :\n",
      "[[36945   850]\n",
      " [ 1938  4200]]\n",
      "\n",
      "[LightGBM] [Info] Number of positive: 6138, number of negative: 37795\n",
      "[LightGBM] [Info] Auto-choosing row-wise multi-threading, the overhead of testing was 0.002531 seconds.\n",
      "You can set `force_row_wise=true` to remove the overhead.\n",
      "And if memory is not enough, you can set `force_col_wise=true`.\n",
      "[LightGBM] [Info] Total Bins 1373\n",
      "[LightGBM] [Info] Number of data points in the train set: 43933, number of used features: 8\n",
      "[LightGBM] [Info] [binary:BoostFromScore]: pavg=0.139713 -> initscore=-1.817678\n",
      "[LightGBM] [Info] Start training from score -1.817678\n",
      "LGBMClassifier() :\n",
      "[[36722  1073]\n",
      " [ 2325  3813]]\n",
      "\n"
     ]
    }
   ],
   "source": [
    "# modeling X and testing on X iself.\n",
    "dic_train=pd.DataFrame()\n",
    "j=0;\n",
    "for i in l:\n",
    "    m=i.fit(X,y)\n",
    "    pred=m.predict(X)\n",
    "    print(i,':')\n",
    "    print(confusion_matrix(y,pred))\n",
    "    dic_train.loc[j,'Model']=l1[j]\n",
    "    dic_train.loc[j,'accuracy_score']=accuracy_score(y,pred)\n",
    "    dic_train.loc[j,'f1_score']=f1_score(y,pred)\n",
    "    dic_train.loc[j,'recall_score']=recall_score(y,pred)\n",
    "    dic_train.loc[j,'precision_score']=precision_score(y,pred)\n",
    "    j+=1\n",
    "    print()"
   ]
  },
  {
   "cell_type": "code",
   "execution_count": 169,
   "id": "3ccdd7e9-51ad-4a88-90d6-628cb9b70223",
   "metadata": {},
   "outputs": [
    {
     "data": {
      "text/html": [
       "<div>\n",
       "<style scoped>\n",
       "    .dataframe tbody tr th:only-of-type {\n",
       "        vertical-align: middle;\n",
       "    }\n",
       "\n",
       "    .dataframe tbody tr th {\n",
       "        vertical-align: top;\n",
       "    }\n",
       "\n",
       "    .dataframe thead th {\n",
       "        text-align: right;\n",
       "    }\n",
       "</style>\n",
       "<table border=\"1\" class=\"dataframe\">\n",
       "  <thead>\n",
       "    <tr style=\"text-align: right;\">\n",
       "      <th></th>\n",
       "      <th>Model</th>\n",
       "      <th>accuracy_score</th>\n",
       "      <th>f1_score</th>\n",
       "      <th>recall_score</th>\n",
       "      <th>precision_score</th>\n",
       "    </tr>\n",
       "  </thead>\n",
       "  <tbody>\n",
       "    <tr>\n",
       "      <th>3</th>\n",
       "      <td>rfc</td>\n",
       "      <td>0.989256</td>\n",
       "      <td>0.960296</td>\n",
       "      <td>0.929945</td>\n",
       "      <td>0.992696</td>\n",
       "    </tr>\n",
       "    <tr>\n",
       "      <th>2</th>\n",
       "      <td>dt</td>\n",
       "      <td>0.989279</td>\n",
       "      <td>0.960210</td>\n",
       "      <td>0.925872</td>\n",
       "      <td>0.997192</td>\n",
       "    </tr>\n",
       "    <tr>\n",
       "      <th>6</th>\n",
       "      <td>xgbm</td>\n",
       "      <td>0.936540</td>\n",
       "      <td>0.750804</td>\n",
       "      <td>0.684262</td>\n",
       "      <td>0.831683</td>\n",
       "    </tr>\n",
       "    <tr>\n",
       "      <th>0</th>\n",
       "      <td>knn</td>\n",
       "      <td>0.924226</td>\n",
       "      <td>0.703430</td>\n",
       "      <td>0.643206</td>\n",
       "      <td>0.776096</td>\n",
       "    </tr>\n",
       "    <tr>\n",
       "      <th>7</th>\n",
       "      <td>lgbm</td>\n",
       "      <td>0.922655</td>\n",
       "      <td>0.691763</td>\n",
       "      <td>0.621212</td>\n",
       "      <td>0.780393</td>\n",
       "    </tr>\n",
       "    <tr>\n",
       "      <th>5</th>\n",
       "      <td>gbm</td>\n",
       "      <td>0.902920</td>\n",
       "      <td>0.615037</td>\n",
       "      <td>0.555067</td>\n",
       "      <td>0.689537</td>\n",
       "    </tr>\n",
       "    <tr>\n",
       "      <th>4</th>\n",
       "      <td>ada</td>\n",
       "      <td>0.894976</td>\n",
       "      <td>0.588623</td>\n",
       "      <td>0.537797</td>\n",
       "      <td>0.650059</td>\n",
       "    </tr>\n",
       "    <tr>\n",
       "      <th>1</th>\n",
       "      <td>nb</td>\n",
       "      <td>0.878861</td>\n",
       "      <td>0.488368</td>\n",
       "      <td>0.413816</td>\n",
       "      <td>0.595685</td>\n",
       "    </tr>\n",
       "  </tbody>\n",
       "</table>\n",
       "</div>"
      ],
      "text/plain": [
       "  Model  accuracy_score  f1_score  recall_score  precision_score\n",
       "3   rfc        0.989256  0.960296      0.929945         0.992696\n",
       "2    dt        0.989279  0.960210      0.925872         0.997192\n",
       "6  xgbm        0.936540  0.750804      0.684262         0.831683\n",
       "0   knn        0.924226  0.703430      0.643206         0.776096\n",
       "7  lgbm        0.922655  0.691763      0.621212         0.780393\n",
       "5   gbm        0.902920  0.615037      0.555067         0.689537\n",
       "4   ada        0.894976  0.588623      0.537797         0.650059\n",
       "1    nb        0.878861  0.488368      0.413816         0.595685"
      ]
     },
     "execution_count": 169,
     "metadata": {},
     "output_type": "execute_result"
    }
   ],
   "source": [
    "dic_train.sort_values(['f1_score'],ascending=False)\n",
    "# here the best performance is given by => RandomForestClassifier(), DecisionTreeClassifier()."
   ]
  },
  {
   "cell_type": "code",
   "execution_count": 170,
   "id": "b857f60f-ac5b-42db-8377-336af0fdbbda",
   "metadata": {},
   "outputs": [
    {
     "name": "stdout",
     "output_type": "stream",
     "text": [
      "KNeighborsClassifier() :\n",
      "[[7185  374]\n",
      " [ 625  603]]\n",
      "\n",
      "GaussianNB() :\n",
      "[[7193  366]\n",
      " [ 700  528]]\n",
      "\n",
      "DecisionTreeClassifier() :\n",
      "[[7036  523]\n",
      " [ 552  676]]\n",
      "\n",
      "RandomForestClassifier() :\n",
      "[[7213  346]\n",
      " [ 525  703]]\n",
      "\n",
      "AdaBoostClassifier() :\n",
      "[[7189  370]\n",
      " [ 586  642]]\n",
      "\n",
      "GradientBoostingClassifier() :\n",
      "[[7227  332]\n",
      " [ 548  680]]\n",
      "\n",
      "XGBClassifier(base_score=None, booster=None, callbacks=None,\n",
      "              colsample_bylevel=None, colsample_bynode=None,\n",
      "              colsample_bytree=None, device=None, early_stopping_rounds=None,\n",
      "              enable_categorical=False, eval_metric=None, feature_types=None,\n",
      "              gamma=None, grow_policy=None, importance_type=None,\n",
      "              interaction_constraints=None, learning_rate=None, max_bin=None,\n",
      "              max_cat_threshold=None, max_cat_to_onehot=None,\n",
      "              max_delta_step=None, max_depth=None, max_leaves=None,\n",
      "              min_child_weight=None, missing=nan, monotone_constraints=None,\n",
      "              multi_strategy=None, n_estimators=None, n_jobs=None,\n",
      "              num_parallel_tree=None, random_state=None, ...) :\n",
      "[[7267  292]\n",
      " [ 494  734]]\n",
      "\n",
      "[LightGBM] [Info] Number of positive: 4910, number of negative: 30236\n",
      "[LightGBM] [Info] Auto-choosing row-wise multi-threading, the overhead of testing was 0.000924 seconds.\n",
      "You can set `force_row_wise=true` to remove the overhead.\n",
      "And if memory is not enough, you can set `force_col_wise=true`.\n",
      "[LightGBM] [Info] Total Bins 1373\n",
      "[LightGBM] [Info] Number of data points in the train set: 35146, number of used features: 8\n",
      "[LightGBM] [Info] [binary:BoostFromScore]: pavg=0.139703 -> initscore=-1.817759\n",
      "[LightGBM] [Info] Start training from score -1.817759\n",
      "LGBMClassifier() :\n",
      "[[7262  297]\n",
      " [ 505  723]]\n",
      "\n"
     ]
    }
   ],
   "source": [
    "# modeling train and testing on test\n",
    "dic_test=pd.DataFrame()\n",
    "j=0;\n",
    "l1=['knn','nb','dt','rfc','ada','gbm','xgbm','lgbm']\n",
    "for i in l:\n",
    "    m=i.fit(xtrain,ytrain)\n",
    "    pred=m.predict(xtest)\n",
    "    print(i,':')\n",
    "    print(confusion_matrix(ytest,pred))\n",
    "    dic_test.loc[j,'Model']=l1[j]\n",
    "    dic_test.loc[j,'accuracy_score']=accuracy_score(ytest,pred)\n",
    "    dic_test.loc[j,'f1_score']=f1_score(ytest,pred)\n",
    "    dic_test.loc[j,'recall_score']=recall_score(ytest,pred)\n",
    "    dic_test.loc[j,'precision_score']=precision_score(ytest,pred)\n",
    "    j+=1\n",
    "    print()"
   ]
  },
  {
   "cell_type": "code",
   "execution_count": 171,
   "id": "6dca600a-bf3d-4338-b21f-b4eb3bd9d3cd",
   "metadata": {},
   "outputs": [
    {
     "data": {
      "text/html": [
       "<div>\n",
       "<style scoped>\n",
       "    .dataframe tbody tr th:only-of-type {\n",
       "        vertical-align: middle;\n",
       "    }\n",
       "\n",
       "    .dataframe tbody tr th {\n",
       "        vertical-align: top;\n",
       "    }\n",
       "\n",
       "    .dataframe thead th {\n",
       "        text-align: right;\n",
       "    }\n",
       "</style>\n",
       "<table border=\"1\" class=\"dataframe\">\n",
       "  <thead>\n",
       "    <tr style=\"text-align: right;\">\n",
       "      <th></th>\n",
       "      <th>Model</th>\n",
       "      <th>accuracy_score</th>\n",
       "      <th>f1_score</th>\n",
       "      <th>recall_score</th>\n",
       "      <th>precision_score</th>\n",
       "    </tr>\n",
       "  </thead>\n",
       "  <tbody>\n",
       "    <tr>\n",
       "      <th>6</th>\n",
       "      <td>xgbm</td>\n",
       "      <td>0.910550</td>\n",
       "      <td>0.651287</td>\n",
       "      <td>0.597720</td>\n",
       "      <td>0.715400</td>\n",
       "    </tr>\n",
       "    <tr>\n",
       "      <th>7</th>\n",
       "      <td>lgbm</td>\n",
       "      <td>0.908729</td>\n",
       "      <td>0.643238</td>\n",
       "      <td>0.588762</td>\n",
       "      <td>0.708824</td>\n",
       "    </tr>\n",
       "    <tr>\n",
       "      <th>3</th>\n",
       "      <td>rfc</td>\n",
       "      <td>0.900876</td>\n",
       "      <td>0.617479</td>\n",
       "      <td>0.572476</td>\n",
       "      <td>0.670162</td>\n",
       "    </tr>\n",
       "    <tr>\n",
       "      <th>5</th>\n",
       "      <td>gbm</td>\n",
       "      <td>0.899852</td>\n",
       "      <td>0.607143</td>\n",
       "      <td>0.553746</td>\n",
       "      <td>0.671937</td>\n",
       "    </tr>\n",
       "    <tr>\n",
       "      <th>4</th>\n",
       "      <td>ada</td>\n",
       "      <td>0.891203</td>\n",
       "      <td>0.573214</td>\n",
       "      <td>0.522801</td>\n",
       "      <td>0.634387</td>\n",
       "    </tr>\n",
       "    <tr>\n",
       "      <th>2</th>\n",
       "      <td>dt</td>\n",
       "      <td>0.877660</td>\n",
       "      <td>0.557066</td>\n",
       "      <td>0.550489</td>\n",
       "      <td>0.563803</td>\n",
       "    </tr>\n",
       "    <tr>\n",
       "      <th>0</th>\n",
       "      <td>knn</td>\n",
       "      <td>0.886309</td>\n",
       "      <td>0.546939</td>\n",
       "      <td>0.491042</td>\n",
       "      <td>0.617195</td>\n",
       "    </tr>\n",
       "    <tr>\n",
       "      <th>1</th>\n",
       "      <td>nb</td>\n",
       "      <td>0.878684</td>\n",
       "      <td>0.497644</td>\n",
       "      <td>0.429967</td>\n",
       "      <td>0.590604</td>\n",
       "    </tr>\n",
       "  </tbody>\n",
       "</table>\n",
       "</div>"
      ],
      "text/plain": [
       "  Model  accuracy_score  f1_score  recall_score  precision_score\n",
       "6  xgbm        0.910550  0.651287      0.597720         0.715400\n",
       "7  lgbm        0.908729  0.643238      0.588762         0.708824\n",
       "3   rfc        0.900876  0.617479      0.572476         0.670162\n",
       "5   gbm        0.899852  0.607143      0.553746         0.671937\n",
       "4   ada        0.891203  0.573214      0.522801         0.634387\n",
       "2    dt        0.877660  0.557066      0.550489         0.563803\n",
       "0   knn        0.886309  0.546939      0.491042         0.617195\n",
       "1    nb        0.878684  0.497644      0.429967         0.590604"
      ]
     },
     "execution_count": 171,
     "metadata": {},
     "output_type": "execute_result"
    }
   ],
   "source": [
    "dic_test.sort_values(['f1_score'],ascending=False)\n",
    "# XGBClassifier() => performs best. \n",
    "# => tuning of hyperparameter might improve performance."
   ]
  },
  {
   "cell_type": "code",
   "execution_count": null,
   "id": "890491d2-2ced-4ebc-b7be-34b2a7ef3c7d",
   "metadata": {},
   "outputs": [],
   "source": []
  },
  {
   "cell_type": "code",
   "execution_count": null,
   "id": "c0a8d8eb-6999-4d04-848f-860439e266c3",
   "metadata": {},
   "outputs": [],
   "source": []
  }
 ],
 "metadata": {
  "kernelspec": {
   "display_name": "Python 3 (ipykernel)",
   "language": "python",
   "name": "python3"
  },
  "language_info": {
   "codemirror_mode": {
    "name": "ipython",
    "version": 3
   },
   "file_extension": ".py",
   "mimetype": "text/x-python",
   "name": "python",
   "nbconvert_exporter": "python",
   "pygments_lexer": "ipython3",
   "version": "3.11.7"
  }
 },
 "nbformat": 4,
 "nbformat_minor": 5
}
